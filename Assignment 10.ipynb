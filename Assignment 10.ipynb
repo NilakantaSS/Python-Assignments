{
 "cells": [
  {
   "cell_type": "code",
   "execution_count": null,
   "id": "dbebcd61",
   "metadata": {},
   "outputs": [],
   "source": [
    "1.\tPython | Ways to remove a key from dictionary\n"
   ]
  },
  {
   "cell_type": "code",
   "execution_count": 4,
   "id": "70e2e4d5",
   "metadata": {},
   "outputs": [
    {
     "name": "stdout",
     "output_type": "stream",
     "text": [
      "The dictionary before performing remove is : {'Arushi': 22, 'Anuradha': 21, 'Mani': 21, 'Haritha': 21}\n",
      "The dictionary after remove is : {'Arushi': 22, 'Anuradha': 21, 'Haritha': 21}\n",
      "The removed key's value is : 21\n",
      "\r\n",
      "The dictionary after remove is : {'Arushi': 22, 'Anuradha': 21, 'Haritha': 21}\n",
      "The removed key's value is : No Key found\n"
     ]
    }
   ],
   "source": [
    "# Python code to demonstrate\n",
    "# removal of dict. pair\n",
    "# using pop()\n",
    "\n",
    "# Initializing dictionary\n",
    "test_dict = {\"Arushi\" : 22, \"Anuradha\" : 21, \"Mani\" : 21, \"Haritha\" : 21}\n",
    "\n",
    "# Printing dictionary before removal\n",
    "print (\"The dictionary before performing remove is : \" + str(test_dict))\n",
    "\n",
    "# Using pop() to remove a dict. pair\n",
    "# removes Mani\n",
    "removed_value = test_dict.pop('Mani')\n",
    "\n",
    "# Printing dictionary after removal\n",
    "print (\"The dictionary after remove is : \" + str(test_dict))\n",
    "print (\"The removed key's value is : \" + str(removed_value))\n",
    "\n",
    "print ('\\r')\n",
    "\n",
    "# Using pop() to remove a dict. pair\n",
    "# doesn't raise exception\n",
    "# assigns 'No Key found' to removed_value\n",
    "removed_value = test_dict.pop('Manjeet', 'No Key found')\n",
    "\n",
    "# Printing dictionary after removal\n",
    "print (\"The dictionary after remove is : \" + str(test_dict))\n",
    "print (\"The removed key's value is : \" + str(removed_value))\n"
   ]
  },
  {
   "cell_type": "code",
   "execution_count": null,
   "id": "80436f7d",
   "metadata": {},
   "outputs": [],
   "source": []
  },
  {
   "cell_type": "code",
   "execution_count": null,
   "id": "37563db9",
   "metadata": {},
   "outputs": [],
   "source": [
    "2.\tWays to sort list of dictionaries by values in Python – Using itemgetter\n"
   ]
  },
  {
   "cell_type": "code",
   "execution_count": 6,
   "id": "5103e995",
   "metadata": {},
   "outputs": [
    {
     "name": "stdout",
     "output_type": "stream",
     "text": [
      "The list printed sorting by age: \n",
      "[{'name': 'Nikhil', 'age': 19}, {'name': 'Nandini', 'age': 20}, {'name': 'Manjeet', 'age': 20}]\n",
      "\r\n",
      "The list printed sorting by age and name: \n",
      "[{'name': 'Nikhil', 'age': 19}, {'name': 'Manjeet', 'age': 20}, {'name': 'Nandini', 'age': 20}]\n",
      "\r\n",
      "The list printed sorting by age in descending order: \n",
      "[{'name': 'Nandini', 'age': 20}, {'name': 'Manjeet', 'age': 20}, {'name': 'Nikhil', 'age': 19}]\n"
     ]
    }
   ],
   "source": [
    "# Python code demonstrate the working of sorted()\n",
    "# and itemgetter\n",
    "\n",
    "# importing \"operator\" for implementing itemgetter\n",
    "from operator import itemgetter\n",
    "\n",
    "# Initializing list of dictionaries\n",
    "lis = [{ \"name\" : \"Nandini\", \"age\" : 20},\n",
    "{ \"name\" : \"Manjeet\", \"age\" : 20 },\n",
    "{ \"name\" : \"Nikhil\" , \"age\" : 19 }]\n",
    "\n",
    "# using sorted and itemgetter to print list sorted by age\n",
    "print (\"The list printed sorting by age: \")\n",
    "print (sorted(lis, key=itemgetter('age')))\n",
    "\n",
    "print (\"\\r\")\n",
    "\n",
    "# using sorted and itemgetter to print list sorted by both age and name\n",
    "# notice that \"Manjeet\" now comes before \"Nandini\"\n",
    "print (\"The list printed sorting by age and name: \")\n",
    "print (sorted(lis, key=itemgetter('age', 'name')))\n",
    "\n",
    "print (\"\\r\")\n",
    "\n",
    "# using sorted and itemgetter to print list sorted by age in descending order\n",
    "print (\"The list printed sorting by age in descending order: \")\n",
    "print (sorted(lis, key=itemgetter('age'),reverse = True))\n"
   ]
  },
  {
   "cell_type": "code",
   "execution_count": null,
   "id": "799cb8c1",
   "metadata": {},
   "outputs": [],
   "source": []
  },
  {
   "cell_type": "code",
   "execution_count": null,
   "id": "cc211af5",
   "metadata": {},
   "outputs": [],
   "source": [
    "3.\tWays to sort list of dictionaries by values in Python – Using lambda function\n"
   ]
  },
  {
   "cell_type": "code",
   "execution_count": 7,
   "id": "921c5571",
   "metadata": {},
   "outputs": [
    {
     "name": "stdout",
     "output_type": "stream",
     "text": [
      "The list printed sorting by age: \n",
      "[{'name': 'Nikhil', 'age': 19}, {'name': 'Nandini', 'age': 20}, {'name': 'Manjeet', 'age': 20}]\n",
      "\r\n",
      "The list printed sorting by age and name: \n",
      "[{'name': 'Nikhil', 'age': 19}, {'name': 'Manjeet', 'age': 20}, {'name': 'Nandini', 'age': 20}]\n",
      "\r\n",
      "The list printed sorting by age in descending order: \n",
      "[{'name': 'Nandini', 'age': 20}, {'name': 'Manjeet', 'age': 20}, {'name': 'Nikhil', 'age': 19}]\n"
     ]
    }
   ],
   "source": [
    "# Python code demonstrate the working of\n",
    "# sorted() with lambda\n",
    "\n",
    "# Initializing list of dictionaries\n",
    "lis = [{ \"name\" : \"Nandini\", \"age\" : 20},\n",
    "{ \"name\" : \"Manjeet\", \"age\" : 20 },\n",
    "{ \"name\" : \"Nikhil\" , \"age\" : 19 }]\n",
    "\n",
    "# using sorted and lambda to print list sorted\n",
    "# by age\n",
    "print (\"The list printed sorting by age: \")\n",
    "print (sorted(lis, key = lambda i: i['age']))\n",
    "\n",
    "print (\"\\r\")\n",
    "\n",
    "# using sorted and lambda to print list sorted\n",
    "# by both age and name. Notice that \"Manjeet\"\n",
    "# now comes before \"Nandini\"\n",
    "print (\"The list printed sorting by age and name: \")\n",
    "print (sorted(lis, key = lambda i: (i['age'], i['name'])))\n",
    "\n",
    "print (\"\\r\")\n",
    "\n",
    "# using sorted and lambda to print list sorted\n",
    "# by age in descending order\n",
    "print (\"The list printed sorting by age in descending order: \")\n",
    "print (sorted(lis, key = lambda i: i['age'],reverse=True))\n"
   ]
  },
  {
   "cell_type": "code",
   "execution_count": null,
   "id": "c45cc0b7",
   "metadata": {},
   "outputs": [],
   "source": []
  },
  {
   "cell_type": "code",
   "execution_count": null,
   "id": "0c423cd3",
   "metadata": {},
   "outputs": [],
   "source": [
    "4.\tPython | Merging two Dictionaries\n"
   ]
  },
  {
   "cell_type": "code",
   "execution_count": 8,
   "id": "0f8a2f92",
   "metadata": {},
   "outputs": [
    {
     "name": "stdout",
     "output_type": "stream",
     "text": [
      "None\n",
      "{'d': 6, 'c': 4, 'a': 10, 'b': 8}\n"
     ]
    }
   ],
   "source": [
    "# Python code to merge dict using update() method\n",
    "def Merge(dict1, dict2):\n",
    "\treturn(dict2.update(dict1))\n",
    "\t\n",
    "# Driver code\n",
    "dict1 = {'a': 10, 'b': 8}\n",
    "dict2 = {'d': 6, 'c': 4}\n",
    "\n",
    "# This return None\n",
    "print(Merge(dict1, dict2))\n",
    "\n",
    "# changes made in dict2\n",
    "print(dict2)\n"
   ]
  },
  {
   "cell_type": "code",
   "execution_count": null,
   "id": "8dcaf06e",
   "metadata": {},
   "outputs": [],
   "source": []
  },
  {
   "cell_type": "code",
   "execution_count": null,
   "id": "5852e124",
   "metadata": {},
   "outputs": [],
   "source": [
    "5.\tPython – Convert key-values list to flat dictionary\n"
   ]
  },
  {
   "cell_type": "code",
   "execution_count": 9,
   "id": "71b2ffb6",
   "metadata": {},
   "outputs": [
    {
     "name": "stdout",
     "output_type": "stream",
     "text": [
      "the original dictionary is: {'month': [1, 2, 3], 'name': ['Jan', 'Feb', 'March']}\n"
     ]
    }
   ],
   "source": [
    "from itertools import product\n",
    "\n",
    "test_dict = {'month' : [1,2,3],\n",
    "            'name': ['Jan', 'Feb', 'March']}\n",
    "\n",
    "print(\"the original dictionary is: \" + str(test_dict))\n",
    "\n",
    "res = dict(zip(test_dict['month'], test_dict))"
   ]
  },
  {
   "cell_type": "code",
   "execution_count": null,
   "id": "9bc418fe",
   "metadata": {},
   "outputs": [],
   "source": []
  },
  {
   "cell_type": "code",
   "execution_count": null,
   "id": "143662a4",
   "metadata": {},
   "outputs": [],
   "source": [
    "6.\tPython – Insertion at the beginning in OrderedDict\n"
   ]
  },
  {
   "cell_type": "code",
   "execution_count": null,
   "id": "8b68466a",
   "metadata": {},
   "outputs": [],
   "source": []
  },
  {
   "cell_type": "code",
   "execution_count": null,
   "id": "ea14968a",
   "metadata": {},
   "outputs": [],
   "source": [
    "7.\tPython | Check order of character in string using OrderedDict( )\n"
   ]
  },
  {
   "cell_type": "code",
   "execution_count": 10,
   "id": "b43a0eb0",
   "metadata": {},
   "outputs": [
    {
     "name": "stdout",
     "output_type": "stream",
     "text": [
      "Resultant Dictionary : OrderedDict([('manjeet', '3'), ('akshat', '1'), ('nikhil', '2')])\n"
     ]
    }
   ],
   "source": [
    "# Python code to demonstrate\n",
    "# insertion of items in beginning of ordered dict\n",
    "from collections import OrderedDict\n",
    "\n",
    "# initialising ordered_dict\n",
    "iniordered_dict = OrderedDict([('akshat', '1'), ('nikhil', '2')])\n",
    "\n",
    "# inserting items in starting of dict\n",
    "iniordered_dict.update({'manjeet':'3'})\n",
    "iniordered_dict.move_to_end('manjeet', last = False)\n",
    "\n",
    "# print result\n",
    "print (\"Resultant Dictionary : \"+str(iniordered_dict))\n"
   ]
  },
  {
   "cell_type": "code",
   "execution_count": null,
   "id": "a0005592",
   "metadata": {},
   "outputs": [],
   "source": []
  },
  {
   "cell_type": "code",
   "execution_count": null,
   "id": "c8692a12",
   "metadata": {},
   "outputs": [],
   "source": [
    "8.\tDictionary and counter in Python to find winner of election\n"
   ]
  },
  {
   "cell_type": "code",
   "execution_count": 11,
   "id": "5a5c9c51",
   "metadata": {},
   "outputs": [
    {
     "name": "stdout",
     "output_type": "stream",
     "text": [
      "john\n"
     ]
    }
   ],
   "source": [
    "from collections import Counter\n",
    "\n",
    "votes =['john','johnny','jackie','johnny','john','jackie',\n",
    "\t'jamie','jamie','john','johnny','jamie','johnny','john']\n",
    "\n",
    "#Count the votes for persons and stores in the dictionary\n",
    "vote_count=Counter(votes)\n",
    "\n",
    "#Find the maximum number of votes\n",
    "max_votes=max(vote_count.values())\n",
    "\n",
    "#Search for people having maximum votes and store in a list\n",
    "lst=[i for i in vote_count.keys() if vote_count[i]==max_votes]\n",
    "\n",
    "#Sort the list and print lexicographical smallest name\n",
    "print(sorted(lst)[0])\n"
   ]
  },
  {
   "cell_type": "code",
   "execution_count": null,
   "id": "8cfceb24",
   "metadata": {},
   "outputs": [],
   "source": []
  },
  {
   "cell_type": "code",
   "execution_count": null,
   "id": "6eeb1b1e",
   "metadata": {},
   "outputs": [],
   "source": [
    "9.\tPython – Append Dictionary Keys and Values ( In order ) in dictionary\n"
   ]
  },
  {
   "cell_type": "code",
   "execution_count": null,
   "id": "0a6a0684",
   "metadata": {},
   "outputs": [],
   "source": [
    "# Python3 code to demonstrate working of\n",
    "# Append Dictionary Keys and Values ( In order ) in dictionary\n",
    "# Using values() + keys() + list()\n",
    "\n",
    "# initializing dictionary\n",
    "test_dict = {\"Gfg\" : 1, \"is\" : 3, \"Best\" : 2}\n",
    "\n",
    "# printing original dictionary\n",
    "print(\"The original dictionary is : \" + str(test_dict))\n",
    "\n",
    "# + operator is used to perform adding keys and values\n",
    "res = list(test_dict.keys()) + list(test_dict.values())\n",
    "\n",
    "# printing result\n",
    "print(\"The ordered keys and values : \" + str(res))\n"
   ]
  },
  {
   "cell_type": "code",
   "execution_count": null,
   "id": "2778c1e1",
   "metadata": {},
   "outputs": [],
   "source": []
  },
  {
   "cell_type": "code",
   "execution_count": null,
   "id": "5b459a7d",
   "metadata": {},
   "outputs": [],
   "source": [
    "10.\tPython | Sort Python Dictionaries by Key or Value\n"
   ]
  },
  {
   "cell_type": "code",
   "execution_count": null,
   "id": "06add927",
   "metadata": {},
   "outputs": [],
   "source": []
  },
  {
   "cell_type": "code",
   "execution_count": null,
   "id": "12daad88",
   "metadata": {},
   "outputs": [],
   "source": []
  }
 ],
 "metadata": {
  "kernelspec": {
   "display_name": "Python 3",
   "language": "python",
   "name": "python3"
  },
  "language_info": {
   "codemirror_mode": {
    "name": "ipython",
    "version": 3
   },
   "file_extension": ".py",
   "mimetype": "text/x-python",
   "name": "python",
   "nbconvert_exporter": "python",
   "pygments_lexer": "ipython3",
   "version": "3.8.8"
  }
 },
 "nbformat": 4,
 "nbformat_minor": 5
}
