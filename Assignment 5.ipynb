{
 "cells": [
  {
   "cell_type": "markdown",
   "id": "bf5e746c",
   "metadata": {},
   "source": [
    "1.\tPython program to print all negative numbers in a range"
   ]
  },
  {
   "cell_type": "code",
   "execution_count": 1,
   "id": "3cf2c79e",
   "metadata": {},
   "outputs": [
    {
     "name": "stdout",
     "output_type": "stream",
     "text": [
      "Enter the start of range: -15\n",
      "Enter the end of range: 5\n",
      "-15 -14 -13 -12 -11 -10 -9 -8 -7 -6 -5 -4 -3 -2 -1 "
     ]
    }
   ],
   "source": [
    "# Python program to print negative Numbers in given range\n",
    "\n",
    "start = int(input(\"Enter the start of range: \"))\n",
    "end = int(input(\"Enter the end of range: \"))\n",
    "\n",
    "# iterating each number in list\n",
    "for num in range(start, end + 1):\n",
    "\t\n",
    "\t# checking condition\n",
    "\tif num < 0:\n",
    "\t\tprint(num, end = \" \")\n"
   ]
  },
  {
   "cell_type": "code",
   "execution_count": null,
   "id": "5bfade73",
   "metadata": {},
   "outputs": [],
   "source": []
  },
  {
   "cell_type": "markdown",
   "id": "46f51626",
   "metadata": {},
   "source": [
    "2.\tRemove multiple elements from a list in Python"
   ]
  },
  {
   "cell_type": "code",
   "execution_count": 2,
   "id": "24802b8e",
   "metadata": {},
   "outputs": [
    {
     "name": "stdout",
     "output_type": "stream",
     "text": [
      "11 5 17 23\n"
     ]
    }
   ],
   "source": [
    "# Python program to remove multiple\n",
    "# elements from a list\n",
    "\n",
    "# creating a list\n",
    "list1 = [11, 5, 17, 18, 23, 50]\n",
    "\n",
    "# will create a new list,\n",
    "# excluding all even numbers\n",
    "list1 = [ elem for elem in list1 if elem % 2 != 0]\n",
    "\n",
    "print(*list1)\n"
   ]
  },
  {
   "cell_type": "code",
   "execution_count": null,
   "id": "985fb56f",
   "metadata": {},
   "outputs": [],
   "source": []
  },
  {
   "cell_type": "markdown",
   "id": "9fce6954",
   "metadata": {},
   "source": [
    "3.\twrite a Python program to Remove empty List from List"
   ]
  },
  {
   "cell_type": "code",
   "execution_count": 3,
   "id": "f0e57114",
   "metadata": {},
   "outputs": [
    {
     "name": "stdout",
     "output_type": "stream",
     "text": [
      "The original list is : [5, 6, [], 3, [], [], 9]\n",
      "List after empty list removal : [5, 6, 3, 9]\n"
     ]
    }
   ],
   "source": [
    "# Python3 code to demonstrate\n",
    "# Remove empty List from List\n",
    "# using filter()\n",
    "\n",
    "# Initializing list\n",
    "test_list = [5, 6, [], 3, [], [], 9]\n",
    "\n",
    "# printing original list\n",
    "print(\"The original list is : \" + str(test_list))\n",
    "\n",
    "# Remove empty List from List\n",
    "# using filter\n",
    "res = list(filter(None, test_list))\n",
    "\n",
    "# printing result\n",
    "print (\"List after empty list removal : \" + str(res))\n"
   ]
  },
  {
   "cell_type": "code",
   "execution_count": null,
   "id": "a3ab3c8b",
   "metadata": {},
   "outputs": [],
   "source": []
  },
  {
   "cell_type": "markdown",
   "id": "c43978c7",
   "metadata": {},
   "source": [
    "4.\twrite a Python program to Cloning or Copying a list"
   ]
  },
  {
   "cell_type": "code",
   "execution_count": 4,
   "id": "db1d159c",
   "metadata": {},
   "outputs": [
    {
     "name": "stdout",
     "output_type": "stream",
     "text": [
      "Original List: [4, 8, 2, 10, 15, 18]\n",
      "After Cloning: [4, 8, 2, 10, 15, 18]\n"
     ]
    }
   ],
   "source": [
    "# Python code to clone or copy a list\n",
    "# Using the in-built function extend()\n",
    "def Cloning(li1):\n",
    "\tli_copy = []\n",
    "\tli_copy.extend(li1)\n",
    "\treturn li_copy\n",
    "\n",
    "# Driver Code\n",
    "li1 = [4, 8, 2, 10, 15, 18]\n",
    "li2 = Cloning(li1)\n",
    "print(\"Original List:\", li1)\n",
    "print(\"After Cloning:\", li2)\n"
   ]
  },
  {
   "cell_type": "code",
   "execution_count": null,
   "id": "d2966412",
   "metadata": {},
   "outputs": [],
   "source": []
  },
  {
   "cell_type": "markdown",
   "id": "c7e3bf25",
   "metadata": {},
   "source": [
    "5.\twrite a Python program to Count occurrences of an element in a list"
   ]
  },
  {
   "cell_type": "code",
   "execution_count": 5,
   "id": "17946329",
   "metadata": {},
   "outputs": [
    {
     "name": "stdout",
     "output_type": "stream",
     "text": [
      "8 has occurred 5 times\n"
     ]
    }
   ],
   "source": [
    "# Python code to count the number of occurrences\n",
    "def countX(lst, x):\n",
    "\treturn lst.count(x)\n",
    "\n",
    "# Driver Code\n",
    "lst = [8, 6, 8, 10, 8, 20, 10, 8, 8]\n",
    "x = 8\n",
    "print('{} has occurred {} times'.format(x, countX(lst, x)))\n"
   ]
  },
  {
   "cell_type": "code",
   "execution_count": null,
   "id": "e369f224",
   "metadata": {},
   "outputs": [],
   "source": []
  },
  {
   "cell_type": "markdown",
   "id": "ca945840",
   "metadata": {},
   "source": [
    "6.\twrite a Python program to Remove empty tuples from a list"
   ]
  },
  {
   "cell_type": "code",
   "execution_count": 7,
   "id": "92d2d36d",
   "metadata": {},
   "outputs": [
    {
     "name": "stdout",
     "output_type": "stream",
     "text": [
      "[('ram', '15', '8'), ('laxman', 'sita'), ('krishna', 'akbar', '45'), ('', '')]\n"
     ]
    }
   ],
   "source": [
    "# Python program to remove empty tuples from a\n",
    "# list of tuples function to remove empty tuples\n",
    "# using list comprehension\n",
    "def Remove(tuples):\n",
    "\ttuples = [t for t in tuples if t]\n",
    "\treturn tuples\n",
    "\n",
    "# Driver Code\n",
    "tuples = [(), ('ram','15','8'), (), ('laxman', 'sita'),\n",
    "\t\t('krishna', 'akbar', '45'), ('',''),()]\n",
    "print(Remove(tuples))\n"
   ]
  },
  {
   "cell_type": "code",
   "execution_count": null,
   "id": "e2a67629",
   "metadata": {},
   "outputs": [],
   "source": []
  },
  {
   "cell_type": "markdown",
   "id": "c1963207",
   "metadata": {},
   "source": [
    "7.\twrite a Python program to Program to print duplicates from a list of integers"
   ]
  },
  {
   "cell_type": "code",
   "execution_count": 8,
   "id": "94ce6a55",
   "metadata": {},
   "outputs": [
    {
     "name": "stdout",
     "output_type": "stream",
     "text": [
      "[20, 30, -20, 60]\n"
     ]
    }
   ],
   "source": [
    "# Python program to print\n",
    "# duplicates from a list\n",
    "# of integers\n",
    "def Repeat(x):\n",
    "\t_size = len(x)\n",
    "\trepeated = []\n",
    "\tfor i in range(_size):\n",
    "\t\tk = i + 1\n",
    "\t\tfor j in range(k, _size):\n",
    "\t\t\tif x[i] == x[j] and x[i] not in repeated:\n",
    "\t\t\t\trepeated.append(x[i])\n",
    "\treturn repeated\n",
    "\n",
    "# Driver Code\n",
    "list1 = [10, 20, 30, 20, 20, 30, 40,\n",
    "\t\t50, -20, 60, 60, -20, -20]\n",
    "print (Repeat(list1))\n",
    "\t\n",
    "# This code is contributed\n",
    "# by Sandeep_anand\n"
   ]
  },
  {
   "cell_type": "code",
   "execution_count": null,
   "id": "7151aecc",
   "metadata": {},
   "outputs": [],
   "source": []
  },
  {
   "cell_type": "markdown",
   "id": "f1ff8a98",
   "metadata": {},
   "source": [
    "8.\twrite a Python program to find Cumulative sum of a list"
   ]
  },
  {
   "cell_type": "code",
   "execution_count": 9,
   "id": "7604da27",
   "metadata": {},
   "outputs": [
    {
     "name": "stdout",
     "output_type": "stream",
     "text": [
      "[10, 30, 60, 100, 150]\n"
     ]
    }
   ],
   "source": [
    "# Python code to get the Cumulative sum of a list\n",
    "def Cumulative(lists):\n",
    "\tcu_list = []\n",
    "\tlength = len(lists)\n",
    "\tcu_list = [sum(lists[0:x:1]) for x in range(0, length+1)]\n",
    "\treturn cu_list[1:]\n",
    "\n",
    "# Driver Code\n",
    "lists = [10, 20, 30, 40, 50]\n",
    "print (Cumulative(lists))\n"
   ]
  },
  {
   "cell_type": "code",
   "execution_count": null,
   "id": "8a7e46ca",
   "metadata": {},
   "outputs": [],
   "source": []
  },
  {
   "cell_type": "markdown",
   "id": "d2b83ceb",
   "metadata": {},
   "source": [
    "9.\twrite a Python program to Sum of number digits in List"
   ]
  },
  {
   "cell_type": "code",
   "execution_count": 10,
   "id": "74801484",
   "metadata": {},
   "outputs": [
    {
     "name": "stdout",
     "output_type": "stream",
     "text": [
      "15\n"
     ]
    }
   ],
   "source": [
    "# Python program to\n",
    "# compute sum of digits in\n",
    "# number.\n",
    "\n",
    "# Function to get sum of digits\n",
    "def getSum(n):\n",
    "\t\n",
    "\tstrr = str(n)\n",
    "\tlist_of_number = list(map(int, strr.strip()))\n",
    "\treturn sum(list_of_number)\n",
    "\n",
    "n = 12345\n",
    "print(getSum(n))\n"
   ]
  },
  {
   "cell_type": "code",
   "execution_count": null,
   "id": "3e1ae384",
   "metadata": {},
   "outputs": [],
   "source": []
  },
  {
   "cell_type": "markdown",
   "id": "ba47d5b0",
   "metadata": {},
   "source": [
    "10.\twrite a Python program to Break a list into chunks of size N "
   ]
  },
  {
   "cell_type": "code",
   "execution_count": 11,
   "id": "1edaa590",
   "metadata": {},
   "outputs": [
    {
     "name": "stdout",
     "output_type": "stream",
     "text": [
      "[['geeks', 'for', 'geeks', 'like', 'geeky'], ['nerdy', 'geek', 'love', 'questions', 'words'], ['life']]\n"
     ]
    }
   ],
   "source": [
    "my_list = ['geeks', 'for', 'geeks', 'like',\n",
    "\t\t'geeky','nerdy', 'geek', 'love',\n",
    "\t\t\t'questions','words', 'life']\n",
    "\n",
    "# Yield successive n-sized\n",
    "# chunks from l.\n",
    "def divide_chunks(l, n):\n",
    "\t\n",
    "\t# looping till length l\n",
    "\tfor i in range(0, len(l), n):\n",
    "\t\tyield l[i:i + n]\n",
    "\n",
    "# How many elements each\n",
    "# list should have\n",
    "n = 5\n",
    "\n",
    "x = list(divide_chunks(my_list, n))\n",
    "print (x)\n"
   ]
  },
  {
   "cell_type": "code",
   "execution_count": null,
   "id": "74dd7c8f",
   "metadata": {},
   "outputs": [],
   "source": []
  },
  {
   "cell_type": "code",
   "execution_count": null,
   "id": "946d9afb",
   "metadata": {},
   "outputs": [],
   "source": []
  }
 ],
 "metadata": {
  "kernelspec": {
   "display_name": "Python 3",
   "language": "python",
   "name": "python3"
  },
  "language_info": {
   "codemirror_mode": {
    "name": "ipython",
    "version": 3
   },
   "file_extension": ".py",
   "mimetype": "text/x-python",
   "name": "python",
   "nbconvert_exporter": "python",
   "pygments_lexer": "ipython3",
   "version": "3.8.8"
  }
 },
 "nbformat": 4,
 "nbformat_minor": 5
}
