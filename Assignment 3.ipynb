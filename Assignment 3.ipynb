{
 "cells": [
  {
   "cell_type": "markdown",
   "id": "b315556e",
   "metadata": {},
   "source": [
    "1.\tPython Program for Find reminder of array multiplication divided by n"
   ]
  },
  {
   "cell_type": "code",
   "execution_count": 1,
   "id": "d8f990a7",
   "metadata": {},
   "outputs": [
    {
     "name": "stdout",
     "output_type": "stream",
     "text": [
      "9\n"
     ]
    }
   ],
   "source": [
    "def findremainder(arr, lens, n):\n",
    "    mul = 1\n",
    " \n",
    "    # find the individual\n",
    "    # remainder and\n",
    "    # multiple with mul.\n",
    "    for i in range(lens):\n",
    "        mul = (mul * (arr[i] % n)) % n\n",
    "     \n",
    "    return mul % n\n",
    " \n",
    "# Driven code\n",
    "arr = [ 100, 10, 5, 25, 35, 14 ]\n",
    "lens = len(arr)\n",
    "n = 11\n",
    " \n",
    "# print the remainder\n",
    "# of after multiple\n",
    "# all the numbers\n",
    "print( findremainder(arr, lens, n))"
   ]
  },
  {
   "cell_type": "code",
   "execution_count": null,
   "id": "02ff0b35",
   "metadata": {},
   "outputs": [],
   "source": []
  },
  {
   "cell_type": "markdown",
   "id": "9bcf3942",
   "metadata": {},
   "source": [
    "2.\tPython Program to check if given array is Monotonic"
   ]
  },
  {
   "cell_type": "code",
   "execution_count": 2,
   "id": "deed54ec",
   "metadata": {},
   "outputs": [
    {
     "name": "stdout",
     "output_type": "stream",
     "text": [
      "True\n"
     ]
    }
   ],
   "source": [
    "def isMonotonic(A):\n",
    "  \n",
    "    return (all(A[i] <= A[i + 1] for i in range(len(A) - 1)) or\n",
    "            all(A[i] >= A[i + 1] for i in range(len(A) - 1)))\n",
    "  \n",
    "# Driver program\n",
    "A = [6, 5, 4, 4]\n",
    "  \n",
    "# Print required result\n",
    "print(isMonotonic(A))"
   ]
  },
  {
   "cell_type": "code",
   "execution_count": null,
   "id": "c8e28e87",
   "metadata": {},
   "outputs": [],
   "source": []
  },
  {
   "cell_type": "markdown",
   "id": "e8524d8a",
   "metadata": {},
   "source": [
    "3.\tPython program to interchange first and last elements in a list"
   ]
  },
  {
   "cell_type": "code",
   "execution_count": 3,
   "id": "3f5729d0",
   "metadata": {},
   "outputs": [
    {
     "name": "stdout",
     "output_type": "stream",
     "text": [
      "[24, 35, 9, 56, 12]\n"
     ]
    }
   ],
   "source": [
    "def swapList(newList):\n",
    "    size = len(newList)\n",
    "     \n",
    "    # Swapping\n",
    "    temp = newList[0]\n",
    "    newList[0] = newList[size - 1]\n",
    "    newList[size - 1] = temp\n",
    "     \n",
    "    return newList\n",
    "     \n",
    "# Driver code\n",
    "newList = [12, 35, 9, 56, 24]\n",
    " \n",
    "print(swapList(newList))"
   ]
  },
  {
   "cell_type": "code",
   "execution_count": null,
   "id": "a12c5d3c",
   "metadata": {},
   "outputs": [],
   "source": []
  },
  {
   "cell_type": "markdown",
   "id": "3229dfdb",
   "metadata": {},
   "source": [
    "4.\tPython program to swap two elements in a list"
   ]
  },
  {
   "cell_type": "code",
   "execution_count": 4,
   "id": "537189a4",
   "metadata": {},
   "outputs": [
    {
     "name": "stdout",
     "output_type": "stream",
     "text": [
      "[19, 65, 23, 90]\n"
     ]
    }
   ],
   "source": [
    "def swapPositions(list, pos1, pos2):\n",
    "     \n",
    "    list[pos1], list[pos2] = list[pos2], list[pos1]\n",
    "    return list\n",
    " \n",
    "# Driver function\n",
    "List = [23, 65, 19, 90]\n",
    "pos1, pos2  = 1, 3\n",
    " \n",
    "print(swapPositions(List, pos1-1, pos2-1))"
   ]
  },
  {
   "cell_type": "code",
   "execution_count": null,
   "id": "30b182ba",
   "metadata": {},
   "outputs": [],
   "source": []
  },
  {
   "cell_type": "markdown",
   "id": "3d75cd26",
   "metadata": {},
   "source": [
    "5.\twrite a program to find length of list"
   ]
  },
  {
   "cell_type": "code",
   "execution_count": 5,
   "id": "08832601",
   "metadata": {},
   "outputs": [
    {
     "name": "stdout",
     "output_type": "stream",
     "text": [
      "The list is : [1, 4, 5, 7, 8]\n",
      "Length of list using naive method is : 5\n"
     ]
    }
   ],
   "source": [
    "test_list = [ 1, 4, 5, 7, 8 ]\n",
    " \n",
    "# Printing test_list\n",
    "print (\"The list is : \" + str(test_list))\n",
    " \n",
    "# Finding length of list\n",
    "# using loop\n",
    "# Initializing counter\n",
    "counter = 0\n",
    "for i in test_list:\n",
    "     \n",
    "    # incrementing counter\n",
    "    counter = counter + 1\n",
    " \n",
    "# Printing length of list\n",
    "print (\"Length of list using naive method is : \" + str(counter))"
   ]
  },
  {
   "cell_type": "code",
   "execution_count": null,
   "id": "76dc1174",
   "metadata": {},
   "outputs": [],
   "source": []
  },
  {
   "cell_type": "markdown",
   "id": "482b0b4b",
   "metadata": {},
   "source": [
    "6.\twrite a program to check if element exists in list"
   ]
  },
  {
   "cell_type": "code",
   "execution_count": 6,
   "id": "7ebb176b",
   "metadata": {},
   "outputs": [
    {
     "name": "stdout",
     "output_type": "stream",
     "text": [
      "Checking if 4 exists in list ( using loop ) : \n",
      "Element Exists\n",
      "Checking if 4 exists in list ( using in ) : \n",
      "Element Exists\n"
     ]
    }
   ],
   "source": [
    "test_list = [ 1, 6, 3, 5, 3, 4 ]\n",
    " \n",
    "print(\"Checking if 4 exists in list ( using loop ) : \")\n",
    " \n",
    "# Checking if 4 exists in list\n",
    "# using loop\n",
    "for i in test_list:\n",
    "    if(i == 4) :\n",
    "        print (\"Element Exists\")\n",
    " \n",
    "print(\"Checking if 4 exists in list ( using in ) : \")\n",
    " \n",
    "# Checking if 4 exists in list\n",
    "# using in\n",
    "if (4 in test_list):\n",
    "    print (\"Element Exists\")"
   ]
  },
  {
   "cell_type": "code",
   "execution_count": null,
   "id": "84ca28e3",
   "metadata": {},
   "outputs": [],
   "source": []
  },
  {
   "cell_type": "markdown",
   "id": "2580cdf9",
   "metadata": {},
   "source": [
    "7.\twrite a program to clear a list in Python"
   ]
  },
  {
   "cell_type": "code",
   "execution_count": 7,
   "id": "355cacfd",
   "metadata": {},
   "outputs": [
    {
     "name": "stdout",
     "output_type": "stream",
     "text": [
      "List1 before deleting is : [1, 2, 3]\n",
      "List1 after clearing using clear() : []\n",
      "List2 before deleting is : [5, 6, 7]\n",
      "List2 after clearing using reinitialization : []\n"
     ]
    }
   ],
   "source": [
    "# Python3 code to demonstrate\n",
    "# clearing a list using\n",
    "# clear and Reinitializing\n",
    "\n",
    "# Initializing lists\n",
    "list1 = [1, 2, 3]\n",
    "list2 = [5, 6, 7]\n",
    "\n",
    "# Printing list1 before deleting\n",
    "print (\"List1 before deleting is : \"\n",
    "+ str(list1))\n",
    "\n",
    "# deleting list using clear()\n",
    "list1.clear()\n",
    "\n",
    "# Printing list1 after clearing\n",
    "print (\"List1 after clearing using clear() : \"\n",
    "+ str(list1))\n",
    "\n",
    "# Printing list2 before deleting\n",
    "print (\"List2 before deleting is : \"\n",
    "+ str(list2))\n",
    "\n",
    "# deleting list using reinitialization\n",
    "list2 = []\n",
    "\n",
    "# Printing list2 after reinitialization\n",
    "print (\"List2 after clearing using reinitialization : \"\n",
    "+ str(list2))\n"
   ]
  },
  {
   "cell_type": "code",
   "execution_count": null,
   "id": "2f6044fb",
   "metadata": {},
   "outputs": [],
   "source": []
  },
  {
   "cell_type": "markdown",
   "id": "39247c34",
   "metadata": {},
   "source": [
    "8.\twrite a program to Reversing a List"
   ]
  },
  {
   "cell_type": "code",
   "execution_count": null,
   "id": "c7228ef7",
   "metadata": {},
   "outputs": [],
   "source": [
    "# Python3 program to demonstrate the\n",
    "# use of reverse method\n",
    "\n",
    "# a list of numbers\n",
    "list1 = [1, 2, 3, 4, 1, 2, 6]\n",
    "list1.reverse()\n",
    "print(list1)\n",
    "\n",
    "# a list of characters\n",
    "list2 = ['a', 'b', 'c', 'd', 'a', 'a']\n",
    "list2.reverse()\n",
    "print(list2)\n"
   ]
  },
  {
   "cell_type": "code",
   "execution_count": null,
   "id": "a48ae800",
   "metadata": {},
   "outputs": [],
   "source": []
  },
  {
   "cell_type": "markdown",
   "id": "8db54ca0",
   "metadata": {},
   "source": [
    "9.\twrite a program to find sum of elements in list"
   ]
  },
  {
   "cell_type": "code",
   "execution_count": 9,
   "id": "8570b496",
   "metadata": {},
   "outputs": [
    {
     "name": "stdout",
     "output_type": "stream",
     "text": [
      "How many numbers: 10\n",
      "Enter number 25\n",
      "Enter number 54\n",
      "Enter number 56\n",
      "Enter number 8\n",
      "Enter number 11\n",
      "Enter number 45\n",
      "Enter number 58\n",
      "Enter number 54\n",
      "Enter number 51\n",
      "Enter number 778\n",
      "Sum of elements in given list is : 1140\n"
     ]
    }
   ],
   "source": [
    "lst = []\n",
    "num = int(input('How many numbers: '))\n",
    "for n in range(num):\n",
    "    numbers = int(input('Enter number '))\n",
    "    lst.append(numbers)\n",
    "print(\"Sum of elements in given list is :\", sum(lst))"
   ]
  },
  {
   "cell_type": "code",
   "execution_count": null,
   "id": "7093cd84",
   "metadata": {},
   "outputs": [],
   "source": []
  },
  {
   "cell_type": "markdown",
   "id": "037f7a53",
   "metadata": {},
   "source": [
    "10.\twrite a program to Multiply all numbers in the list"
   ]
  },
  {
   "cell_type": "code",
   "execution_count": 10,
   "id": "ab73625a",
   "metadata": {},
   "outputs": [
    {
     "name": "stdout",
     "output_type": "stream",
     "text": [
      "6\n",
      "24\n"
     ]
    }
   ],
   "source": [
    "# Python program to multiply all values in the\n",
    "# list using traversal\n",
    "\n",
    "def multiplyList(myList) :\n",
    "\t\n",
    "\t# Multiply elements one by one\n",
    "\tresult = 1\n",
    "\tfor x in myList:\n",
    "\t\tresult = result * x\n",
    "\treturn result\n",
    "\t\n",
    "# Driver code\n",
    "list1 = [1, 2, 3]\n",
    "list2 = [3, 2, 4]\n",
    "print(multiplyList(list1))\n",
    "print(multiplyList(list2))\n"
   ]
  },
  {
   "cell_type": "code",
   "execution_count": null,
   "id": "df9983ff",
   "metadata": {},
   "outputs": [],
   "source": []
  }
 ],
 "metadata": {
  "kernelspec": {
   "display_name": "Python 3",
   "language": "python",
   "name": "python3"
  },
  "language_info": {
   "codemirror_mode": {
    "name": "ipython",
    "version": 3
   },
   "file_extension": ".py",
   "mimetype": "text/x-python",
   "name": "python",
   "nbconvert_exporter": "python",
   "pygments_lexer": "ipython3",
   "version": "3.8.8"
  }
 },
 "nbformat": 4,
 "nbformat_minor": 5
}
