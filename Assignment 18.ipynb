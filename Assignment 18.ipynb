{
 "cells": [
  {
   "cell_type": "code",
   "execution_count": null,
   "id": "546cd2de",
   "metadata": {},
   "outputs": [],
   "source": [
    "1.\tPython – Check whether a string starts and ends with the same character or not\n"
   ]
  },
  {
   "cell_type": "code",
   "execution_count": null,
   "id": "be7b9763",
   "metadata": {},
   "outputs": [],
   "source": [
    "2.\tPython regex to find sequences of one upper case letter followed by lower case letters\n"
   ]
  },
  {
   "cell_type": "code",
   "execution_count": null,
   "id": "b7db07ee",
   "metadata": {},
   "outputs": [],
   "source": [
    "3.\tPython Program to Remove duplicate words from Sentence\n"
   ]
  },
  {
   "cell_type": "code",
   "execution_count": null,
   "id": "a2e46939",
   "metadata": {},
   "outputs": [],
   "source": [
    "4.\tPython | Remove all characters except letters and numbers\n"
   ]
  },
  {
   "cell_type": "code",
   "execution_count": null,
   "id": "0c429128",
   "metadata": {},
   "outputs": [],
   "source": [
    "5.\tPython Regex | Program to accept string ending with alphanumeric character\n"
   ]
  },
  {
   "cell_type": "code",
   "execution_count": null,
   "id": "6812867e",
   "metadata": {},
   "outputs": [],
   "source": [
    "6.\tPython Regex – Program to accept string starting with vowel\n"
   ]
  },
  {
   "cell_type": "code",
   "execution_count": null,
   "id": "c1797bbc",
   "metadata": {},
   "outputs": [],
   "source": [
    "7.\tPython Program to check if a string starts with a substring using regex\n"
   ]
  },
  {
   "cell_type": "code",
   "execution_count": null,
   "id": "7c752261",
   "metadata": {},
   "outputs": [],
   "source": [
    "8.\tPython Program to Check if an URL is valid or not using Regular Expression\n"
   ]
  },
  {
   "cell_type": "code",
   "execution_count": null,
   "id": "79f7d76e",
   "metadata": {},
   "outputs": [],
   "source": [
    "9.\tParsing and Processing URL using Python – Regex\n"
   ]
  },
  {
   "cell_type": "code",
   "execution_count": null,
   "id": "4869bfb2",
   "metadata": {},
   "outputs": [],
   "source": [
    "10.\tPython Program to validate an IP address using ReGex\n"
   ]
  },
  {
   "cell_type": "code",
   "execution_count": null,
   "id": "db2b9000",
   "metadata": {},
   "outputs": [],
   "source": []
  },
  {
   "cell_type": "code",
   "execution_count": null,
   "id": "431d38d4",
   "metadata": {},
   "outputs": [],
   "source": []
  }
 ],
 "metadata": {
  "kernelspec": {
   "display_name": "Python 3",
   "language": "python",
   "name": "python3"
  },
  "language_info": {
   "codemirror_mode": {
    "name": "ipython",
    "version": 3
   },
   "file_extension": ".py",
   "mimetype": "text/x-python",
   "name": "python",
   "nbconvert_exporter": "python",
   "pygments_lexer": "ipython3",
   "version": "3.8.8"
  }
 },
 "nbformat": 4,
 "nbformat_minor": 5
}
