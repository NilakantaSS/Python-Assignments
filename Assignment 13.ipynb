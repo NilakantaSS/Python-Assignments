{
 "cells": [
  {
   "cell_type": "code",
   "execution_count": null,
   "id": "929dd44a",
   "metadata": {},
   "outputs": [],
   "source": [
    "1.\tPython – Join Tuples if similar initial element\n"
   ]
  },
  {
   "cell_type": "code",
   "execution_count": 1,
   "id": "eb483e17",
   "metadata": {},
   "outputs": [
    {
     "name": "stdout",
     "output_type": "stream",
     "text": [
      "The original list is : [(5, 6), (5, 7), (6, 8), (6, 10), (7, 13)]\n",
      "The extracted elements : [(5, 6, 7), (6, 8, 10), (7, 13)]\n"
     ]
    }
   ],
   "source": [
    "# Python3 code to demonstrate working of\n",
    "# Join Tuples if similar initial element\n",
    "# Using loop\n",
    "\n",
    "# initializing list\n",
    "test_list = [(5, 6), (5, 7), (6, 8), (6, 10), (7, 13)]\n",
    "\n",
    "# printing original list\n",
    "print(\"The original list is : \" + str(test_list))\n",
    "\n",
    "# Join Tuples if similar initial element\n",
    "# Using loop\n",
    "res = []\n",
    "for sub in test_list:\t\t\t\t\t\t\t\t\t\t\n",
    "\tif res and res[-1][0] == sub[0]:\t\t\t\n",
    "\t\tres[-1].extend(sub[1:])\t\t\t\t\t\t\n",
    "\telse:\n",
    "\t\tres.append([ele for ele in sub])\t\n",
    "res = list(map(tuple, res))\n",
    "\n",
    "# printing result\n",
    "print(\"The extracted elements : \" + str(res))\n"
   ]
  },
  {
   "cell_type": "code",
   "execution_count": null,
   "id": "22b32c4f",
   "metadata": {},
   "outputs": [],
   "source": []
  },
  {
   "cell_type": "code",
   "execution_count": null,
   "id": "32a528ad",
   "metadata": {},
   "outputs": [],
   "source": [
    "2.\tPython – Extract digits from Tuple list\n"
   ]
  },
  {
   "cell_type": "code",
   "execution_count": 2,
   "id": "00038cb8",
   "metadata": {},
   "outputs": [
    {
     "name": "stdout",
     "output_type": "stream",
     "text": [
      "The original list is : [(15, 3), (3, 9), (1, 10), (99, 2)]\n",
      "The extracted digits : {'9', '2', '1', '0', '3', '5'}\n"
     ]
    }
   ],
   "source": [
    "# Python3 code to demonstrate working of\n",
    "# Extract digits from Tuple list\n",
    "# Using map() + chain.from_iterable() + set() + loop\n",
    "from itertools import chain\n",
    "\n",
    "# initializing list\n",
    "test_list = [(15, 3), (3, 9), (1, 10), (99, 2)]\n",
    "\n",
    "# printing original list\n",
    "print(\"The original list is : \" + str(test_list))\n",
    "\n",
    "# Extract digits from Tuple list\n",
    "# Using map() + chain.from_iterable() + set() + loop\n",
    "temp = map(lambda ele: str(ele), chain.from_iterable(test_list))\n",
    "res = set()\n",
    "for sub in temp:\n",
    "\tfor ele in sub:\n",
    "\t\tres.add(ele)\n",
    "\n",
    "# printing result\n",
    "print(\"The extracted digits : \" + str(res))\n"
   ]
  },
  {
   "cell_type": "code",
   "execution_count": null,
   "id": "f517a234",
   "metadata": {},
   "outputs": [],
   "source": []
  },
  {
   "cell_type": "code",
   "execution_count": null,
   "id": "f86fffda",
   "metadata": {},
   "outputs": [],
   "source": [
    "3.\tPython – All pair combinations of 2 tuples\n"
   ]
  },
  {
   "cell_type": "code",
   "execution_count": 3,
   "id": "e5df22df",
   "metadata": {},
   "outputs": [
    {
     "name": "stdout",
     "output_type": "stream",
     "text": [
      "The original tuple 1 : (4, 5)\n",
      "The original tuple 2 : (7, 8)\n",
      "The filtered tuple : [(4, 7), (4, 8), (5, 7), (5, 8), (7, 4), (7, 5), (8, 4), (8, 5)]\n"
     ]
    }
   ],
   "source": [
    "# Python3 code to demonstrate working of\n",
    "# All pair combinations of 2 tuples\n",
    "# Using list comprehension\n",
    "\n",
    "# initializing tuples\n",
    "test_tuple1 = (4, 5)\n",
    "test_tuple2 = (7, 8)\n",
    "\n",
    "# printing original tuples\n",
    "print(\"The original tuple 1 : \" + str(test_tuple1))\n",
    "print(\"The original tuple 2 : \" + str(test_tuple2))\n",
    "\n",
    "# All pair combinations of 2 tuples\n",
    "# Using list comprehension\n",
    "res = [(a, b) for a in test_tuple1 for b in test_tuple2]\n",
    "res = res + [(a, b) for a in test_tuple2 for b in test_tuple1]\n",
    "\n",
    "# printing result\n",
    "print(\"The filtered tuple : \" + str(res))\n"
   ]
  },
  {
   "cell_type": "code",
   "execution_count": null,
   "id": "c40600d4",
   "metadata": {},
   "outputs": [],
   "source": []
  },
  {
   "cell_type": "code",
   "execution_count": null,
   "id": "3c7806d2",
   "metadata": {},
   "outputs": [],
   "source": [
    "4.\tPython – Remove Tuples of Length K\n"
   ]
  },
  {
   "cell_type": "code",
   "execution_count": 4,
   "id": "9ac3cb09",
   "metadata": {},
   "outputs": [
    {
     "name": "stdout",
     "output_type": "stream",
     "text": [
      "The original list : [(4, 5), (4,), (8, 6, 7), (1,), (3, 4, 6, 7)]\n",
      "Filtered list : [(4, 5), (8, 6, 7), (3, 4, 6, 7)]\n"
     ]
    }
   ],
   "source": [
    "# Python3 code to demonstrate working of\n",
    "# Remove Tuples of Length K\n",
    "# Using list comprehension\n",
    "\n",
    "# initializing list\n",
    "test_list = [(4, 5), (4, ), (8, 6, 7), (1, ), (3, 4, 6, 7)]\n",
    "\n",
    "# printing original list\n",
    "print(\"The original list : \" + str(test_list))\n",
    "\n",
    "# initializing K\n",
    "K = 1\n",
    "\n",
    "# 1 liner to perform task\n",
    "# filter just lengths other than K\n",
    "# len() used to compute length\n",
    "res = [ele for ele in test_list if len(ele) != K]\n",
    "\n",
    "# printing result\n",
    "print(\"Filtered list : \" + str(res))\n"
   ]
  },
  {
   "cell_type": "code",
   "execution_count": null,
   "id": "c5d0b1be",
   "metadata": {},
   "outputs": [],
   "source": []
  },
  {
   "cell_type": "code",
   "execution_count": null,
   "id": "282bd20c",
   "metadata": {},
   "outputs": [],
   "source": [
    "5.\tSort a list of tuples by second Item\n"
   ]
  },
  {
   "cell_type": "code",
   "execution_count": 5,
   "id": "15e7de35",
   "metadata": {},
   "outputs": [
    {
     "name": "stdout",
     "output_type": "stream",
     "text": [
      "[('Geeksforgeeks', 5), ('is', 10), ('a', 15), ('portal', 20), ('for', 24), ('Geeks', 28)]\n"
     ]
    }
   ],
   "source": [
    "# Python program to sort a list of tuples by the second Item\n",
    "\n",
    "# Function to sort the list of tuples by its second item\n",
    "def Sort_Tuple(tup):\n",
    "\t\n",
    "\t# getting length of list of tuples\n",
    "\tlst = len(tup)\n",
    "\tfor i in range(0, lst):\n",
    "\t\t\n",
    "\t\tfor j in range(0, lst-i-1):\n",
    "\t\t\tif (tup[j][1] > tup[j + 1][1]):\n",
    "\t\t\t\ttemp = tup[j]\n",
    "\t\t\t\ttup[j]= tup[j + 1]\n",
    "\t\t\t\ttup[j + 1]= temp\n",
    "\treturn tup\n",
    "\n",
    "# Driver Code\n",
    "tup =[('for', 24), ('is', 10), ('Geeks', 28),\n",
    "\t('Geeksforgeeks', 5), ('portal', 20), ('a', 15)]\n",
    "\t\t\n",
    "print(Sort_Tuple(tup))\n"
   ]
  },
  {
   "cell_type": "code",
   "execution_count": null,
   "id": "7aa9f119",
   "metadata": {},
   "outputs": [],
   "source": []
  },
  {
   "cell_type": "code",
   "execution_count": null,
   "id": "0dbd58cf",
   "metadata": {},
   "outputs": [],
   "source": [
    "6.\tPython program to Order Tuples using external List\n"
   ]
  },
  {
   "cell_type": "code",
   "execution_count": 6,
   "id": "609c8b6f",
   "metadata": {},
   "outputs": [
    {
     "name": "stdout",
     "output_type": "stream",
     "text": [
      "The original list is : [('Gfg', 3), ('best', 9), ('CS', 10), ('Geeks', 2)]\n",
      "The ordered tuple list : [('Geeks', 2), ('best', 9), ('CS', 10), ('Gfg', 3)]\n"
     ]
    }
   ],
   "source": [
    "# Python3 code to demonstrate working of\n",
    "# Order Tuples by List\n",
    "# Using dict() + list comprehension\n",
    "\n",
    "# initializing list\n",
    "test_list = [('Gfg', 3), ('best', 9), ('CS', 10), ('Geeks', 2)]\n",
    "\n",
    "# printing original list\n",
    "print(\"The original list is : \" + str(test_list))\n",
    "\n",
    "# initializing order list\n",
    "ord_list = ['Geeks', 'best', 'CS', 'Gfg']\n",
    "\n",
    "# Order Tuples by List\n",
    "# Using dict() + list comprehension\n",
    "temp = dict(test_list)\n",
    "res = [(key, temp[key]) for key in ord_list]\n",
    "\n",
    "# printing result\n",
    "print(\"The ordered tuple list : \" + str(res))\n"
   ]
  },
  {
   "cell_type": "code",
   "execution_count": null,
   "id": "3bcb258c",
   "metadata": {},
   "outputs": [],
   "source": []
  },
  {
   "cell_type": "code",
   "execution_count": null,
   "id": "b4316d14",
   "metadata": {},
   "outputs": [],
   "source": [
    "7.\tPython – Flatten tuple of List to tuple\n"
   ]
  },
  {
   "cell_type": "code",
   "execution_count": 7,
   "id": "e557ee96",
   "metadata": {},
   "outputs": [
    {
     "name": "stdout",
     "output_type": "stream",
     "text": [
      "The original tuple : ([5, 6], [6, 7, 8, 9], [3])\n",
      "The flattened tuple : (5, 6, 6, 7, 8, 9, 3)\n"
     ]
    }
   ],
   "source": [
    "# Python3 code to demonstrate working of\n",
    "# Flatten tuple of List to tuple\n",
    "# Using sum() + tuple()\n",
    "\n",
    "# initializing tuple\n",
    "test_tuple = ([5, 6], [6, 7, 8, 9], [3])\n",
    "\n",
    "# printing original tuple\n",
    "print(\"The original tuple : \" + str(test_tuple))\n",
    "\n",
    "# Flatten tuple of List to tuple\n",
    "# Using sum() + tuple()\n",
    "res = tuple(sum(test_tuple, []))\n",
    "\n",
    "# printing result\n",
    "print(\"The flattened tuple : \" + str(res))\n"
   ]
  },
  {
   "cell_type": "code",
   "execution_count": null,
   "id": "e6e2774c",
   "metadata": {},
   "outputs": [],
   "source": []
  },
  {
   "cell_type": "code",
   "execution_count": null,
   "id": "b1c40289",
   "metadata": {},
   "outputs": [],
   "source": [
    "8.\tPython – Convert Nested Tuple to Custom Key Dictionary\n"
   ]
  },
  {
   "cell_type": "code",
   "execution_count": 8,
   "id": "201ab3f8",
   "metadata": {},
   "outputs": [
    {
     "name": "stdout",
     "output_type": "stream",
     "text": [
      "The original tuple : ((4, 'Gfg', 10), (3, 'is', 8), (6, 'Best', 10))\n",
      "The converted dictionary : [{'key': 4, 'value': 'Gfg', 'id': 10}, {'key': 3, 'value': 'is', 'id': 8}, {'key': 6, 'value': 'Best', 'id': 10}]\n"
     ]
    }
   ],
   "source": [
    "# Python3 code to demonstrate working of\n",
    "# Convert Nested Tuple to Custom Key Dictionary\n",
    "# Using list comprehension + dictionary comprehension\n",
    "\n",
    "# initializing tuple\n",
    "test_tuple = ((4, 'Gfg', 10), (3, 'is', 8), (6, 'Best', 10))\n",
    "\n",
    "# printing original tuple\n",
    "print(\"The original tuple : \" + str(test_tuple))\n",
    "\n",
    "# Convert Nested Tuple to Custom Key Dictionary\n",
    "# Using list comprehension + dictionary comprehension\n",
    "res = [{'key': sub[0], 'value': sub[1], 'id': sub[2]}\n",
    "\t\t\t\t\t\t\tfor sub in test_tuple]\n",
    "\n",
    "# printing result\n",
    "print(\"The converted dictionary : \" + str(res))\n"
   ]
  },
  {
   "cell_type": "code",
   "execution_count": null,
   "id": "850a59b4",
   "metadata": {},
   "outputs": [],
   "source": []
  },
  {
   "cell_type": "code",
   "execution_count": null,
   "id": "06a255e0",
   "metadata": {},
   "outputs": [],
   "source": [
    "9.\tPython Program for Binary Search (Recursive and Iterative)\n"
   ]
  },
  {
   "cell_type": "code",
   "execution_count": 9,
   "id": "e10e85d9",
   "metadata": {},
   "outputs": [
    {
     "name": "stdout",
     "output_type": "stream",
     "text": [
      "Element is present at index 3\n"
     ]
    }
   ],
   "source": [
    "# Iterative Binary Search Function\n",
    "# It returns index of x in given array arr if present,\n",
    "# else returns -1\n",
    "def binary_search(arr, x):\n",
    "\tlow = 0\n",
    "\thigh = len(arr) - 1\n",
    "\tmid = 0\n",
    "\n",
    "\twhile low <= high:\n",
    "\n",
    "\t\tmid = (high + low) // 2\n",
    "\n",
    "\t\t# If x is greater, ignore left half\n",
    "\t\tif arr[mid] < x:\n",
    "\t\t\tlow = mid + 1\n",
    "\n",
    "\t\t# If x is smaller, ignore right half\n",
    "\t\telif arr[mid] > x:\n",
    "\t\t\thigh = mid - 1\n",
    "\n",
    "\t\t# means x is present at mid\n",
    "\t\telse:\n",
    "\t\t\treturn mid\n",
    "\n",
    "\t# If we reach here, then the element was not present\n",
    "\treturn -1\n",
    "\n",
    "\n",
    "# Test array\n",
    "arr = [ 2, 3, 4, 10, 40 ]\n",
    "x = 10\n",
    "\n",
    "# Function call\n",
    "result = binary_search(arr, x)\n",
    "\n",
    "if result != -1:\n",
    "\tprint(\"Element is present at index\", str(result))\n",
    "else:\n",
    "\tprint(\"Element is not present in array\")\n"
   ]
  },
  {
   "cell_type": "code",
   "execution_count": null,
   "id": "6e95642b",
   "metadata": {},
   "outputs": [],
   "source": []
  },
  {
   "cell_type": "code",
   "execution_count": null,
   "id": "e14742a4",
   "metadata": {},
   "outputs": [],
   "source": [
    "10.\tPython Program for Linear Search\n"
   ]
  },
  {
   "cell_type": "code",
   "execution_count": 10,
   "id": "3afc82dd",
   "metadata": {},
   "outputs": [],
   "source": [
    "# Searching an element in a list/array in python\n",
    "# can be simply done using \\'in\\' operator\n",
    "# Example:\n",
    "# if x in arr:\n",
    "# print arr.index(x)\n",
    "\n",
    "# If you want to implement Linear Search in python\n",
    "\n",
    "# Linearly search x in arr[]\n",
    "# If x is present then return its location\n",
    "# else return -1\n",
    "\n",
    "def search(arr, x):\n",
    "\n",
    "\tfor i in range(len(arr)):\n",
    "\n",
    "\t\tif arr[i] == x:\n",
    "\t\t\treturn i\n",
    "\n",
    "\treturn -1\n"
   ]
  },
  {
   "cell_type": "code",
   "execution_count": null,
   "id": "8de10a40",
   "metadata": {},
   "outputs": [],
   "source": []
  },
  {
   "cell_type": "code",
   "execution_count": null,
   "id": "10180466",
   "metadata": {},
   "outputs": [],
   "source": [
    "11.\tPython Program for Insertion Sort\n"
   ]
  },
  {
   "cell_type": "code",
   "execution_count": 11,
   "id": "7821d5ce",
   "metadata": {},
   "outputs": [
    {
     "name": "stdout",
     "output_type": "stream",
     "text": [
      "Sorted array is:\n",
      "5\n",
      "6\n",
      "11\n",
      "12\n",
      "13\n"
     ]
    }
   ],
   "source": [
    "# Python program for implementation of Insertion Sort\n",
    "\n",
    "# Function to do insertion sort\n",
    "def insertionSort(arr):\n",
    "\n",
    "\t# Traverse through 1 to len(arr)\n",
    "\tfor i in range(1, len(arr)):\n",
    "\n",
    "\t\tkey = arr[i]\n",
    "\n",
    "\t\t# Move elements of arr[0..i-1], that are\n",
    "\t\t# greater than key, to one position ahead\n",
    "\t\t# of their current position\n",
    "\t\tj = i-1\n",
    "\t\twhile j >=0 and key < arr[j] :\n",
    "\t\t\t\tarr[j+1] = arr[j]\n",
    "\t\t\t\tj -= 1\n",
    "\t\tarr[j+1] = key\n",
    "\n",
    "\n",
    "# Driver code to test above\n",
    "arr = [12, 11, 13, 5, 6]\n",
    "insertionSort(arr)\n",
    "print (\"Sorted array is:\")\n",
    "for i in range(len(arr)):\n",
    "\tprint (\"%d\" %arr[i])\n",
    "\n",
    "# This code is contributed by Mohit Kumra\n"
   ]
  },
  {
   "cell_type": "code",
   "execution_count": null,
   "id": "09c66888",
   "metadata": {},
   "outputs": [],
   "source": []
  }
 ],
 "metadata": {
  "kernelspec": {
   "display_name": "Python 3",
   "language": "python",
   "name": "python3"
  },
  "language_info": {
   "codemirror_mode": {
    "name": "ipython",
    "version": 3
   },
   "file_extension": ".py",
   "mimetype": "text/x-python",
   "name": "python",
   "nbconvert_exporter": "python",
   "pygments_lexer": "ipython3",
   "version": "3.8.8"
  }
 },
 "nbformat": 4,
 "nbformat_minor": 5
}
