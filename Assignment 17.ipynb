{
 "cells": [
  {
   "cell_type": "code",
   "execution_count": null,
   "id": "5e58b215",
   "metadata": {},
   "outputs": [],
   "source": [
    "1.\tPython program to find difference between current time and given time\n"
   ]
  },
  {
   "cell_type": "code",
   "execution_count": 1,
   "id": "3934bc4e",
   "metadata": {},
   "outputs": [
    {
     "name": "stdout",
     "output_type": "stream",
     "text": [
      "2 : 25\n",
      "3 : 31\n",
      "Both are same times\n"
     ]
    }
   ],
   "source": [
    "# Python program to find the\n",
    "# difference between two times\n",
    "\n",
    "\n",
    "# function to obtain the time\n",
    "# in minutes form\n",
    "def difference(h1, m1, h2, m2):\n",
    "\t\n",
    "\t# convert h1 : m1 into\n",
    "\t# minutes\n",
    "\tt1 = h1 * 60 + m1\n",
    "\t\n",
    "\t# convert h2 : m2 into\n",
    "\t# minutes\n",
    "\tt2 = h2 * 60 + m2\n",
    "\t\n",
    "\tif (t1 == t2):\n",
    "\t\tprint(\"Both are same times\")\n",
    "\t\treturn\n",
    "\telse:\n",
    "\t\t\n",
    "\t\t# calculating the difference\n",
    "\t\tdiff = t2-t1\n",
    "\t\t\n",
    "\t# calculating hours from\n",
    "\t# difference\n",
    "\th = (int(diff / 60)) % 24\n",
    "\t\n",
    "\t# calculating minutes from\n",
    "\t# difference\n",
    "\tm = diff % 60\n",
    "\n",
    "\tprint(h, \":\", m)\n",
    "\n",
    "# Driver's code\n",
    "if __name__ == \"__main__\":\n",
    "\t\n",
    "\tdifference(7, 20, 9, 45)\n",
    "\tdifference(15, 23, 18, 54)\n",
    "\tdifference(16, 20, 16, 20)\n",
    "\n",
    "# This code is contributed by SrujayReddy\n"
   ]
  },
  {
   "cell_type": "code",
   "execution_count": null,
   "id": "aa367c12",
   "metadata": {},
   "outputs": [],
   "source": []
  },
  {
   "cell_type": "code",
   "execution_count": null,
   "id": "f308812d",
   "metadata": {},
   "outputs": [],
   "source": [
    "2.\tPython Program to Create a Lap Timer\n"
   ]
  },
  {
   "cell_type": "code",
   "execution_count": null,
   "id": "27a378d1",
   "metadata": {},
   "outputs": [],
   "source": [
    "import time\n",
    "\n",
    "start_time=time.time()\n",
    "end_time=start_time\n",
    "lap_num=1\n",
    "\n",
    "print(\"Click on ENTER to count laps.\\nPress CTRL+C to stop\")\n",
    "\n",
    "try:\n",
    "   while True:\n",
    "\n",
    "      input()\n",
    "      time_laps=round((time.time() - end_time), 2)\n",
    "\n",
    "      tot_time=round((time.time() - start_time), 2)\n",
    "\n",
    "      print(\"Lap No. \"+str(lap_num))\n",
    "      print(\"Total Time: \"+str(tot_time))\n",
    "      print(\"Lap Time: \"+str(time_laps))\n",
    "\n",
    "      print(\"*\"*20)\n",
    "\n",
    "      end_time=time.time()\n",
    "      lap_num+=1\n",
    "\n",
    "except KeyboardInterrupt:\n",
    "   print(\"Exit!\")"
   ]
  },
  {
   "cell_type": "code",
   "execution_count": null,
   "id": "d53ae215",
   "metadata": {},
   "outputs": [],
   "source": []
  },
  {
   "cell_type": "code",
   "execution_count": null,
   "id": "c124cb14",
   "metadata": {},
   "outputs": [],
   "source": [
    "3.\tConvert date string to timestamp in Python\n"
   ]
  },
  {
   "cell_type": "code",
   "execution_count": null,
   "id": "e5ce83f8",
   "metadata": {},
   "outputs": [],
   "source": [
    "# Python program to convert\n",
    "# date to timestamp\n",
    "\n",
    "\n",
    "import time\n",
    "import datetime\n",
    "\n",
    "\n",
    "string = \"20/01/2020\"\n",
    "print(time.mktime(datetime.datetime.strptime(string,\n",
    "\t\t\t\t\t\t\t\t\t\t\t\"%d/%m/%Y\").timetuple()))\n"
   ]
  },
  {
   "cell_type": "code",
   "execution_count": null,
   "id": "676f65a6",
   "metadata": {},
   "outputs": [],
   "source": []
  },
  {
   "cell_type": "code",
   "execution_count": null,
   "id": "a6142d5a",
   "metadata": {},
   "outputs": [],
   "source": [
    "4.\tHow to convert timestamp string to datetime object in Python?\n"
   ]
  },
  {
   "cell_type": "code",
   "execution_count": null,
   "id": "9f676345",
   "metadata": {},
   "outputs": [
    {
     "name": "stdout",
     "output_type": "stream",
     "text": [
      "Press ENTER to count laps.\n",
      "Press CTRL+C to stop\n",
      "1\n",
      "Lap No. 1\n",
      "Total Time: 27.93\n",
      "Lap Time: 27.93\n",
      "********************\n",
      "2\n",
      "Lap No. 2\n",
      "Total Time: 35.08\n",
      "Lap Time: 7.15\n",
      "********************\n",
      "3\n",
      "Lap No. 3\n",
      "Total Time: 41.41\n",
      "Lap Time: 6.33\n",
      "********************\n",
      "4\n",
      "Lap No. 4\n",
      "Total Time: 43.33\n",
      "Lap Time: 1.92\n",
      "********************\n"
     ]
    }
   ],
   "source": [
    "# importing libraries\n",
    "import time\n",
    "\n",
    "\n",
    "# Timer starts\n",
    "starttime=time.time()\n",
    "lasttime=starttime\n",
    "lapnum=1\n",
    "\n",
    "print(\"Press ENTER to count laps.\\nPress CTRL+C to stop\")\n",
    "\n",
    "try:\n",
    "\twhile True:\n",
    "\t\t\t\n",
    "\t\t# Input for the ENTER key press\n",
    "\t\tinput()\n",
    "\n",
    "\t\t# The current lap-time\n",
    "\t\tlaptime=round((time.time() - lasttime), 2)\n",
    "\n",
    "\t\t# Total time elapsed\n",
    "\t\t# since the timer started\n",
    "\t\ttotaltime=round((time.time() - starttime), 2)\n",
    "\n",
    "\t\t# Printing the lap number,\n",
    "\t\t# lap-time and total time\n",
    "\t\tprint(\"Lap No. \"+str(lapnum))\n",
    "\t\tprint(\"Total Time: \"+str(totaltime))\n",
    "\t\tprint(\"Lap Time: \"+str(laptime))\n",
    "\t\t\t\n",
    "\t\tprint(\"*\"*20)\n",
    "\n",
    "\t\t# Updating the previous total time\n",
    "\t\t# and lap number\n",
    "\t\tlasttime=time.time()\n",
    "\t\tlapnum+=1\n",
    "\n",
    "# Stopping when CTRL+C is pressed\n",
    "except KeyboardInterrupt:\n",
    "\tprint(\"Done\")\n"
   ]
  },
  {
   "cell_type": "code",
   "execution_count": null,
   "id": "7737a91f",
   "metadata": {},
   "outputs": [],
   "source": []
  },
  {
   "cell_type": "code",
   "execution_count": null,
   "id": "e3a4c91b",
   "metadata": {},
   "outputs": [],
   "source": [
    "5.\tFind number of times every day occurs in a Year\n"
   ]
  },
  {
   "cell_type": "code",
   "execution_count": null,
   "id": "daba247d",
   "metadata": {},
   "outputs": [],
   "source": [
    "import math\n",
    "def num_of_occurrence( n, firstday):\n",
    "\n",
    "   my_days = [ \"Monday\", \"Tuesday\", \"Wednesday\", \"Thursday\", \"Friday\", \"Saturday\",\"Sunday\" ]\n",
    "\n",
    "   my_count= [4 for i in range(0,7)]\n",
    "\n",
    "   my_position = -1\n",
    "   for i in range(0,7):\n",
    "      if (first_day == my_days[i]):\n",
    "         my_position = i\n",
    "         break\n",
    "\n",
    "   inc = n - 28\n",
    "\n",
    "   for i in range( my_position, my_position + inc):\n",
    "      if (i > 6):\n",
    "         my_count[i % 7] = 5\n",
    "      else:\n",
    "         my_count[i] = 5\n",
    "\n",
    "   for i in range(0,7):\n",
    "      print (my_days[i] , \" \" , my_count[i])\n",
    "\n",
    "num = 31\n",
    "first_day = \"Thursday\"\n",
    "num_of_occurrence(num, first_day)"
   ]
  },
  {
   "cell_type": "code",
   "execution_count": null,
   "id": "82dd197f",
   "metadata": {},
   "outputs": [],
   "source": []
  },
  {
   "cell_type": "code",
   "execution_count": null,
   "id": "c31878e7",
   "metadata": {},
   "outputs": [],
   "source": [
    "6.\tPython Program to Check if String Contain Only Defined Characters using Regex\n"
   ]
  },
  {
   "cell_type": "code",
   "execution_count": null,
   "id": "41868a67",
   "metadata": {},
   "outputs": [],
   "source": [
    "# import module for regular expression\n",
    "import re\n",
    "#Function to match string with regrex\n",
    "def match(str,pattern):\n",
    "  if re.search(pattern,str):\n",
    "    print(\"valid string\")\n",
    "  else:\n",
    "    print(\"invalid string\")\n",
    "\n",
    "#driver code\n",
    "\n",
    "pattern = re.compile('[A-Z]+$')\n",
    "match('ABCDE',pattern)\n",
    "match('12ABCda',pattern)\n",
    "match('12345',pattern)"
   ]
  },
  {
   "cell_type": "code",
   "execution_count": null,
   "id": "3353db2d",
   "metadata": {},
   "outputs": [],
   "source": []
  },
  {
   "cell_type": "code",
   "execution_count": null,
   "id": "70cdffa0",
   "metadata": {},
   "outputs": [],
   "source": [
    "7.\tPython program to Count Uppercase, Lowercase, special character and numeric values using Regex\n"
   ]
  },
  {
   "cell_type": "code",
   "execution_count": null,
   "id": "2f92ee08",
   "metadata": {},
   "outputs": [],
   "source": [
    "import re\n",
    "\n",
    "\n",
    "string = \"ThisIsGeeksforGeeks !, 123\"\n",
    "\n",
    "# Creating separate lists using\n",
    "# the re.findall() method.\n",
    "uppercase_characters = re.findall(r\"[A-Z]\", string)\n",
    "lowercase_characters = re.findall(r\"[a-z]\", string)\n",
    "numerical_characters = re.findall(r\"[0-9]\", string)\n",
    "special_characters = re.findall(r\"[, .!?]\", string)\n",
    "\n",
    "print(\"The no. of uppercase characters is\", len(uppercase_characters))\n",
    "print(\"The no. of lowercase characters is\", len(lowercase_characters))\n",
    "print(\"The no. of numerical characters is\", len(numerical_characters))\n",
    "print(\"The no. of special characters is\", len(special_characters))\n"
   ]
  },
  {
   "cell_type": "code",
   "execution_count": null,
   "id": "6ae22246",
   "metadata": {},
   "outputs": [],
   "source": []
  },
  {
   "cell_type": "code",
   "execution_count": null,
   "id": "80345057",
   "metadata": {},
   "outputs": [],
   "source": [
    "8.\t# Function to extract maximum numeric value from\n"
   ]
  },
  {
   "cell_type": "code",
   "execution_count": null,
   "id": "94656779",
   "metadata": {},
   "outputs": [],
   "source": [
    "# a given string\n",
    "import re\n",
    "\n",
    "def extractMax(input):\n",
    "\n",
    "\t# get a list of all numbers separated by\n",
    "\t# lower case characters\n",
    "\t# \\d+ is a regular expression which means\n",
    "\t# one or more digit\n",
    "\t# output will be like ['100','564','365']\n",
    "\tnumbers = re.findall('\\d+',input)\n",
    "\n",
    "\t# now we need to convert each number into integer\n",
    "\t# int(string) converts string into integer\n",
    "\t# we will map int() function onto all elements\n",
    "\t# of numbers list\n",
    "\tnumbers = map(int,numbers)\n",
    "\n",
    "\tprint max(numbers)\n",
    "\n",
    "# Driver program\n",
    "if __name__ == \"__main__\":\n",
    "\tinput = '100klh564abc365bg'\n",
    "\textractMax(input)\n"
   ]
  },
  {
   "cell_type": "code",
   "execution_count": null,
   "id": "2ce09723",
   "metadata": {},
   "outputs": [],
   "source": []
  },
  {
   "cell_type": "code",
   "execution_count": null,
   "id": "282325fa",
   "metadata": {},
   "outputs": [],
   "source": [
    "9.\tPython Regex to extract maximum numeric value from a string\n"
   ]
  },
  {
   "cell_type": "code",
   "execution_count": null,
   "id": "7dc29de5",
   "metadata": {},
   "outputs": [],
   "source": [
    "# Function to extract maximum numeric value from\n",
    "# a given string\n",
    "import re\n",
    "\n",
    "def extractMax(input):\n",
    "\n",
    "\t# get a list of all numbers separated by\n",
    "\t# lower case characters\n",
    "\t# \\d+ is a regular expression which means\n",
    "\t# one or more digit\n",
    "\t# output will be like ['100','564','365']\n",
    "\tnumbers = re.findall('\\d+',input)\n",
    "\n",
    "\t# now we need to convert each number into integer\n",
    "\t# int(string) converts string into integer\n",
    "\t# we will map int() function onto all elements\n",
    "\t# of numbers list\n",
    "\tnumbers = map(int,numbers)\n",
    "\n",
    "\tprint max(numbers)\n",
    "\n",
    "# Driver program\n",
    "if __name__ == \"__main__\":\n",
    "\tinput = '100klh564abc365bg'\n",
    "\textractMax(input)\n"
   ]
  },
  {
   "cell_type": "code",
   "execution_count": null,
   "id": "3427b7ee",
   "metadata": {},
   "outputs": [],
   "source": []
  },
  {
   "cell_type": "code",
   "execution_count": null,
   "id": "a9615dd7",
   "metadata": {},
   "outputs": [],
   "source": [
    "10.\tPython Program to put spaces between words starting with capital letters using Regex\n"
   ]
  },
  {
   "cell_type": "code",
   "execution_count": null,
   "id": "1d54c162",
   "metadata": {},
   "outputs": [],
   "source": [
    "import re\n",
    "\n",
    "def putSpace(input):\n",
    "\n",
    "\t# regex [A-Z][a-z]* means any string starting\n",
    "\t# with capital character followed by many\n",
    "\t# lowercase letters\n",
    "\twords = re.findall('[A-Z][a-z]*', input)\n",
    "\n",
    "\t# Change first letter of each word into lower\n",
    "\t# case\n",
    "\tfor i in range(0,len(words)):\n",
    "\twords[i]=words[i][0].lower()+words[i][1:]\n",
    "\tprint(' '.join(words))\n",
    "\t\n",
    "\n",
    "# Driver program\n",
    "if __name__ == \"__main__\":\n",
    "\tinput = 'BruceWayneIsBatman'\n",
    "\tputSpace(input)\n"
   ]
  },
  {
   "cell_type": "code",
   "execution_count": null,
   "id": "f089e75c",
   "metadata": {},
   "outputs": [],
   "source": []
  }
 ],
 "metadata": {
  "kernelspec": {
   "display_name": "Python 3",
   "language": "python",
   "name": "python3"
  },
  "language_info": {
   "codemirror_mode": {
    "name": "ipython",
    "version": 3
   },
   "file_extension": ".py",
   "mimetype": "text/x-python",
   "name": "python",
   "nbconvert_exporter": "python",
   "pygments_lexer": "ipython3",
   "version": "3.8.8"
  }
 },
 "nbformat": 4,
 "nbformat_minor": 5
}
