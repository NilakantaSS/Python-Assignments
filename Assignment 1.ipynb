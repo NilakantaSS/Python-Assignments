{
 "cells": [
  {
   "cell_type": "markdown",
   "id": "ec807c0f",
   "metadata": {},
   "source": [
    "1.\tWrite a Python program to find those numbers which are divisible by 7 and multiple of 5, between 1500 and 2700 "
   ]
  },
  {
   "cell_type": "code",
   "execution_count": 1,
   "id": "48e14bc4",
   "metadata": {},
   "outputs": [
    {
     "name": "stdout",
     "output_type": "stream",
     "text": [
      "1505,1540,1575,1610,1645,1680,1715,1750,1785,1820,1855,1890,1925,1960,1995,2030,2065,2100,2135,2170,2205,2240,2275,2310,2345,2380,2415,2450,2485,2520,2555,2590,2625,2660,2695\n"
     ]
    }
   ],
   "source": [
    "n1 = []\n",
    "for x in range(1500, 2701):\n",
    "    if (x%7==0) and (x%5==0):\n",
    "        n1.append(str(x))\n",
    "print(','.join(n1))"
   ]
  },
  {
   "cell_type": "code",
   "execution_count": null,
   "id": "fa80a88f",
   "metadata": {},
   "outputs": [],
   "source": []
  },
  {
   "cell_type": "markdown",
   "id": "707b8d30",
   "metadata": {},
   "source": [
    "2.\tPython program to add two numbers"
   ]
  },
  {
   "cell_type": "code",
   "execution_count": 2,
   "id": "e452f1ec",
   "metadata": {},
   "outputs": [
    {
     "name": "stdout",
     "output_type": "stream",
     "text": [
      "sum of 15 and 12 is 27\n"
     ]
    }
   ],
   "source": [
    "num1 = 15 \n",
    "num2 = 12\n",
    "\n",
    "sum = num1 + num2\n",
    "\n",
    "print(\"sum of {0} and {1} is {2}\". format(num1, num2, sum))"
   ]
  },
  {
   "cell_type": "code",
   "execution_count": null,
   "id": "4dd6368b",
   "metadata": {},
   "outputs": [],
   "source": []
  },
  {
   "cell_type": "markdown",
   "id": "25dc1fae",
   "metadata": {},
   "source": [
    "3.\tMaximum of two numbers in Python"
   ]
  },
  {
   "cell_type": "code",
   "execution_count": 4,
   "id": "dd8f9f75",
   "metadata": {},
   "outputs": [
    {
     "name": "stdout",
     "output_type": "stream",
     "text": [
      "4\n"
     ]
    }
   ],
   "source": [
    "def maximum(a,b):\n",
    "    if a >= b:\n",
    "        return a\n",
    "    else:\n",
    "        return b \n",
    "    \n",
    "a = 2 \n",
    "b = 4 \n",
    "print(maximum(a,b))"
   ]
  },
  {
   "cell_type": "code",
   "execution_count": null,
   "id": "257fa55a",
   "metadata": {},
   "outputs": [],
   "source": []
  },
  {
   "cell_type": "markdown",
   "id": "7df93968",
   "metadata": {},
   "source": [
    "4.\tPython Program for factorial of a number"
   ]
  },
  {
   "cell_type": "code",
   "execution_count": 5,
   "id": "e86f8ee5",
   "metadata": {},
   "outputs": [
    {
     "name": "stdout",
     "output_type": "stream",
     "text": [
      "Factorial of 5 is 120\n"
     ]
    }
   ],
   "source": [
    "def factorial(n):\n",
    "    \n",
    "    return 1 if (n==1 or n==0) else n * factorial(n-1);\n",
    "\n",
    "num = 5;\n",
    "print(\"Factorial of\", num, \"is\", factorial(num))"
   ]
  },
  {
   "cell_type": "code",
   "execution_count": null,
   "id": "d2f24051",
   "metadata": {},
   "outputs": [],
   "source": []
  },
  {
   "cell_type": "markdown",
   "id": "3755636b",
   "metadata": {},
   "source": [
    "5.\tPython Program for simple interest"
   ]
  },
  {
   "cell_type": "code",
   "execution_count": 6,
   "id": "76e2d353",
   "metadata": {},
   "outputs": [
    {
     "name": "stdout",
     "output_type": "stream",
     "text": [
      "The principle is 8\n",
      "the time period is 6\n",
      "the rate of interest is 8\n",
      "The Simple Interest is 3.84\n"
     ]
    },
    {
     "data": {
      "text/plain": [
       "3.84"
      ]
     },
     "execution_count": 6,
     "metadata": {},
     "output_type": "execute_result"
    }
   ],
   "source": [
    "def simple_interest(p,t,r):\n",
    "    print('The principle is', p)\n",
    "    print('the time period is', t)\n",
    "    print('the rate of interest is', r)\n",
    "    \n",
    "    si = (p*t*r)/100\n",
    "    \n",
    "    print('The Simple Interest is', si)\n",
    "    return si\n",
    "simple_interest(8, 6, 8)"
   ]
  },
  {
   "cell_type": "code",
   "execution_count": null,
   "id": "2bbce026",
   "metadata": {},
   "outputs": [],
   "source": []
  },
  {
   "cell_type": "markdown",
   "id": "d04d05dc",
   "metadata": {},
   "source": [
    "6.\tPython Program for compound interest"
   ]
  },
  {
   "cell_type": "code",
   "execution_count": 14,
   "id": "b583630b",
   "metadata": {
    "scrolled": true
   },
   "outputs": [
    {
     "name": "stdout",
     "output_type": "stream",
     "text": [
      "Compound interest is 6288.946267774416\n"
     ]
    }
   ],
   "source": [
    "def compound_interest(principle, rate, time):\n",
    " \n",
    "    Amount = principle * (pow((1 + rate / 100), time))\n",
    "    CI = Amount - principle\n",
    "    print(\"Compound interest is\", CI)\n",
    " \n",
    "\n",
    "compound_interest(10000, 10.25, 5)"
   ]
  },
  {
   "cell_type": "code",
   "execution_count": null,
   "id": "6d01c031",
   "metadata": {},
   "outputs": [],
   "source": []
  },
  {
   "cell_type": "code",
   "execution_count": null,
   "id": "eeded955",
   "metadata": {},
   "outputs": [],
   "source": [
    "7.\tPython Program to check Armstrong Number"
   ]
  },
  {
   "cell_type": "code",
   "execution_count": 18,
   "id": "a9dea05e",
   "metadata": {},
   "outputs": [
    {
     "name": "stdout",
     "output_type": "stream",
     "text": [
      "Enter a number: 371\n",
      "371  is an Armstrong number\n"
     ]
    }
   ],
   "source": [
    "num = int(input(\"Enter a number: \"))\n",
    "\n",
    "sum =  0\n",
    "\n",
    "temp = num \n",
    "while temp > 0 :\n",
    "    digit = temp % 10 \n",
    "    sum += digit ** 3\n",
    "    temp //= 10\n",
    "    \n",
    "if num == sum:\n",
    "    print(num, \" is an Armstrong number\")\n",
    "else:\n",
    "    print(num, \"is not an Armstrong number\")"
   ]
  },
  {
   "cell_type": "code",
   "execution_count": null,
   "id": "9f1db1ff",
   "metadata": {},
   "outputs": [],
   "source": []
  },
  {
   "cell_type": "markdown",
   "id": "bcdc3aa7",
   "metadata": {},
   "source": [
    "8.\tPython Program for Program to find area of a circle"
   ]
  },
  {
   "cell_type": "code",
   "execution_count": 19,
   "id": "c4405ad9",
   "metadata": {},
   "outputs": [
    {
     "name": "stdout",
     "output_type": "stream",
     "text": [
      "please enter the radius of the given circle:5\n",
      "The area of the given circle is 78.53981633974483\n"
     ]
    }
   ],
   "source": [
    "import math\n",
    "\n",
    "def area_of_the_circle(Radius):\n",
    "    area = Radius**2*math.pi\n",
    "    return area\n",
    "\n",
    "Radius = float(input(\"please enter the radius of the given circle:\"))\n",
    "\n",
    "print(\"The area of the given circle is\", area_of_the_circle(Radius))"
   ]
  },
  {
   "cell_type": "code",
   "execution_count": null,
   "id": "d5b75d94",
   "metadata": {},
   "outputs": [],
   "source": []
  },
  {
   "cell_type": "markdown",
   "id": "82f61413",
   "metadata": {},
   "source": [
    "9.\tPython program to print all Prime numbers in an Interva"
   ]
  },
  {
   "cell_type": "code",
   "execution_count": 20,
   "id": "dfc262ab",
   "metadata": {},
   "outputs": [
    {
     "name": "stdout",
     "output_type": "stream",
     "text": [
      "print numbers between 900 and 1000 are:\n",
      "907\n",
      "911\n",
      "919\n",
      "929\n",
      "937\n",
      "941\n",
      "947\n",
      "953\n",
      "967\n",
      "971\n",
      "977\n",
      "983\n",
      "991\n",
      "997\n"
     ]
    }
   ],
   "source": [
    "lower = 900\n",
    "upper = 1000\n",
    "\n",
    "print(\"print numbers between\", lower, \"and\", upper, \"are:\")\n",
    "\n",
    "for num in range(lower, upper + 1):\n",
    "    if num > 1:\n",
    "        for i in range(2, num):\n",
    "            if (num % i) == 0:\n",
    "                break\n",
    "        else:\n",
    "            print(num)"
   ]
  },
  {
   "cell_type": "code",
   "execution_count": null,
   "id": "d569cd49",
   "metadata": {},
   "outputs": [],
   "source": []
  },
  {
   "cell_type": "markdown",
   "id": "f9751759",
   "metadata": {},
   "source": [
    "10.\t Python program to check whether a number is Prime or not"
   ]
  },
  {
   "cell_type": "code",
   "execution_count": 21,
   "id": "6a5804ef",
   "metadata": {},
   "outputs": [
    {
     "name": "stdout",
     "output_type": "stream",
     "text": [
      "11 is a prime number\n",
      "11 is a prime number\n",
      "11 is a prime number\n",
      "11 is a prime number\n"
     ]
    }
   ],
   "source": [
    "num = 11\n",
    "\n",
    "if num > 1:\n",
    "    \n",
    "    for i in range(2, int(num/2)+1):\n",
    "        \n",
    "        if (num%i) == 0:\n",
    "            print(num, \"is not a prime number\")\n",
    "            break\n",
    "        else:\n",
    "            print(num, \"is a prime number\")\n",
    "else: \n",
    "    print(num, \"is not a prime number\")"
   ]
  },
  {
   "cell_type": "code",
   "execution_count": null,
   "id": "c2d99597",
   "metadata": {},
   "outputs": [],
   "source": []
  }
 ],
 "metadata": {
  "kernelspec": {
   "display_name": "Python 3",
   "language": "python",
   "name": "python3"
  },
  "language_info": {
   "codemirror_mode": {
    "name": "ipython",
    "version": 3
   },
   "file_extension": ".py",
   "mimetype": "text/x-python",
   "name": "python",
   "nbconvert_exporter": "python",
   "pygments_lexer": "ipython3",
   "version": "3.8.8"
  }
 },
 "nbformat": 4,
 "nbformat_minor": 5
}
