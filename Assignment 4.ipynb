{
 "cells": [
  {
   "cell_type": "markdown",
   "id": "53b107ed",
   "metadata": {},
   "source": [
    "1.\tPython program to find smallest number in a list"
   ]
  },
  {
   "cell_type": "code",
   "execution_count": 1,
   "id": "b21d9973",
   "metadata": {},
   "outputs": [
    {
     "name": "stdout",
     "output_type": "stream",
     "text": [
      "Smallest element is: 4\n"
     ]
    }
   ],
   "source": [
    "list1 = [10, 20, 4, 45, 99]\n",
    " \n",
    "# sorting the list\n",
    "list1.sort()\n",
    " \n",
    "# printing the first element\n",
    "print(\"Smallest element is:\", *list1[:1])"
   ]
  },
  {
   "cell_type": "code",
   "execution_count": null,
   "id": "19b78426",
   "metadata": {},
   "outputs": [],
   "source": []
  },
  {
   "cell_type": "markdown",
   "id": "92c0ecce",
   "metadata": {},
   "source": [
    "2.\tPython program to find largest number in a list"
   ]
  },
  {
   "cell_type": "code",
   "execution_count": null,
   "id": "47a6a454",
   "metadata": {},
   "outputs": [],
   "source": [
    "list1 = [10, 20, 4, 45, 99]\n",
    "  \n",
    "# sorting the list\n",
    "list1.sort()\n",
    "  \n",
    "# printing the last element\n",
    "print(\"Largest element is:\", list1[-1])"
   ]
  },
  {
   "cell_type": "code",
   "execution_count": null,
   "id": "aad9bb0a",
   "metadata": {},
   "outputs": [],
   "source": []
  },
  {
   "cell_type": "markdown",
   "id": "04638916",
   "metadata": {},
   "source": [
    "3.\tPython program to find second largest number in a list"
   ]
  },
  {
   "cell_type": "code",
   "execution_count": 2,
   "id": "e7908337",
   "metadata": {},
   "outputs": [
    {
     "name": "stdout",
     "output_type": "stream",
     "text": [
      "Second highest number is :  45\n"
     ]
    }
   ],
   "source": [
    "list1 = [10, 20, 4, 45, 99]\n",
    " \n",
    "mx=max(list1[0],list1[1])\n",
    "secondmax=min(list1[0],list1[1])\n",
    "n =len(list1)\n",
    "for i in range(2,n):\n",
    "    if list1[i]>mx:\n",
    "        secondmax=mx\n",
    "        mx=list1[i]\n",
    "    elif list1[i]>secondmax and \\\n",
    "        mx != list1[i]:\n",
    "        secondmax=list1[i]\n",
    " \n",
    "print(\"Second highest number is : \",\\\n",
    "      str(secondmax))"
   ]
  },
  {
   "cell_type": "code",
   "execution_count": null,
   "id": "cd265d60",
   "metadata": {},
   "outputs": [],
   "source": []
  },
  {
   "cell_type": "markdown",
   "id": "a40a54f1",
   "metadata": {},
   "source": [
    "4.\tPython program to find N largest elements from a list"
   ]
  },
  {
   "cell_type": "code",
   "execution_count": 3,
   "id": "ff542903",
   "metadata": {},
   "outputs": [
    {
     "name": "stdout",
     "output_type": "stream",
     "text": [
      "[85, 41]\n"
     ]
    }
   ],
   "source": [
    "# Python program to find N largest\n",
    "# element from given list of integers\n",
    "\n",
    "# Function returns N largest elements\n",
    "def Nmaxelements(list1, N):\n",
    "\tfinal_list = []\n",
    "\n",
    "\tfor i in range(0, N):\n",
    "\t\tmax1 = 0\n",
    "\t\t\n",
    "\t\tfor j in range(len(list1)):\t\n",
    "\t\t\tif list1[j] > max1:\n",
    "\t\t\t\tmax1 = list1[j];\n",
    "\t\t\t\t\n",
    "\t\tlist1.remove(max1);\n",
    "\t\tfinal_list.append(max1)\n",
    "\t\t\n",
    "\tprint(final_list)\n",
    "\n",
    "# Driver code\n",
    "list1 = [2, 6, 41, 85, 0, 3, 7, 6, 10]\n",
    "N = 2\n",
    "\n",
    "# Calling the function\n",
    "Nmaxelements(list1, N)\n"
   ]
  },
  {
   "cell_type": "code",
   "execution_count": null,
   "id": "1e3be48c",
   "metadata": {},
   "outputs": [],
   "source": []
  },
  {
   "cell_type": "markdown",
   "id": "0c00c0f5",
   "metadata": {},
   "source": [
    "5.\tPython program to print even numbers in a list"
   ]
  },
  {
   "cell_type": "code",
   "execution_count": 4,
   "id": "c336a1c2",
   "metadata": {},
   "outputs": [
    {
     "name": "stdout",
     "output_type": "stream",
     "text": [
      "10 4 66 "
     ]
    }
   ],
   "source": [
    "# Python program to print Even Numbers in a List\n",
    "\n",
    "# list of numbers\n",
    "list1 = [10, 21, 4, 45, 66, 93]\n",
    "\n",
    "# iterating each number in list\n",
    "for num in list1:\n",
    "\n",
    "\t# checking condition\n",
    "\tif num % 2 == 0:\n",
    "\t\tprint(num, end=\" \")\n"
   ]
  },
  {
   "cell_type": "code",
   "execution_count": null,
   "id": "b455ee24",
   "metadata": {},
   "outputs": [],
   "source": []
  },
  {
   "cell_type": "markdown",
   "id": "da985e21",
   "metadata": {},
   "source": [
    "6.\tPython program to print odd numbers in a List"
   ]
  },
  {
   "cell_type": "code",
   "execution_count": 5,
   "id": "10e45cd2",
   "metadata": {},
   "outputs": [
    {
     "name": "stdout",
     "output_type": "stream",
     "text": [
      "21 45 93 "
     ]
    }
   ],
   "source": [
    "# Python program to print odd Numbers in a List\n",
    "\n",
    "# list of numbers\n",
    "list1 = [10, 21, 4, 45, 66, 93]\n",
    "i = 0\n",
    "\n",
    "# using while loop\t\t\n",
    "while(i < len(list1)):\n",
    "\t\n",
    "\t# checking condition\n",
    "\tif list1[i] % 2 != 0:\n",
    "\t\tprint(list1[i], end = \" \")\n",
    "\t\n",
    "\t# increment i\n",
    "\ti += 1\n",
    "\t\n"
   ]
  },
  {
   "cell_type": "code",
   "execution_count": null,
   "id": "d56cdf83",
   "metadata": {},
   "outputs": [],
   "source": []
  },
  {
   "cell_type": "markdown",
   "id": "a7f3c414",
   "metadata": {},
   "source": [
    "7.\tPython program to print all even numbers in a range"
   ]
  },
  {
   "cell_type": "code",
   "execution_count": 6,
   "id": "6cf3487e",
   "metadata": {},
   "outputs": [
    {
     "name": "stdout",
     "output_type": "stream",
     "text": [
      "4 6 8 10 12 14 16 18 "
     ]
    }
   ],
   "source": [
    "# Python program to print Even Numbers in given range\n",
    "\n",
    "start, end = 4, 19\n",
    "\n",
    "# iterating each number in list\n",
    "for num in range(start, end + 1):\n",
    "\t\n",
    "\t# checking condition\n",
    "\tif num % 2 == 0:\n",
    "\t\tprint(num, end = \" \")\n"
   ]
  },
  {
   "cell_type": "code",
   "execution_count": null,
   "id": "3cf6e6cd",
   "metadata": {},
   "outputs": [],
   "source": []
  },
  {
   "cell_type": "markdown",
   "id": "ebd2f7d5",
   "metadata": {},
   "source": [
    "8.\tPython program to print all odd numbers in a range"
   ]
  },
  {
   "cell_type": "code",
   "execution_count": 7,
   "id": "29f687c2",
   "metadata": {},
   "outputs": [
    {
     "name": "stdout",
     "output_type": "stream",
     "text": [
      "5 7 9 11 13 15 17 19 "
     ]
    }
   ],
   "source": [
    "# Python program to print odd Numbers in given range\n",
    "\n",
    "start, end = 4, 19\n",
    "\n",
    "# iterating each number in list\n",
    "for num in range(start, end + 1):\n",
    "\t\n",
    "\t# checking condition\n",
    "\tif num % 2 != 0:\n",
    "\t\tprint(num, end = \" \")\n"
   ]
  },
  {
   "cell_type": "code",
   "execution_count": null,
   "id": "7b3110c7",
   "metadata": {},
   "outputs": [],
   "source": []
  },
  {
   "cell_type": "markdown",
   "id": "437011eb",
   "metadata": {},
   "source": [
    "9.\tPython program to print positive numbers in a list"
   ]
  },
  {
   "cell_type": "code",
   "execution_count": 9,
   "id": "0c1afb11",
   "metadata": {},
   "outputs": [
    {
     "name": "stdout",
     "output_type": "stream",
     "text": [
      "21 93 "
     ]
    }
   ],
   "source": [
    "# Python program to print positive Numbers in a List\n",
    "\n",
    "# list of numbers\n",
    "list1 = [-10, 21, -4, -45, -66, 93]\n",
    "num = 0\n",
    "\n",
    "# using while loop\t\n",
    "while(num < len(list1)):\n",
    "\t\n",
    "\t# checking condition\n",
    "\tif list1[num] >= 0:\n",
    "\t\tprint(list1[num], end = \" \")\n",
    "\t\n",
    "\t# increment num\n",
    "\tnum += 1\n",
    "\t\n"
   ]
  },
  {
   "cell_type": "code",
   "execution_count": null,
   "id": "140837f4",
   "metadata": {},
   "outputs": [],
   "source": []
  },
  {
   "cell_type": "markdown",
   "id": "91017224",
   "metadata": {},
   "source": [
    "10.\tPython program to print negative numbers in a list"
   ]
  },
  {
   "cell_type": "code",
   "execution_count": 10,
   "id": "81dc5967",
   "metadata": {},
   "outputs": [
    {
     "name": "stdout",
     "output_type": "stream",
     "text": [
      "-10 -4 -45 -66 "
     ]
    }
   ],
   "source": [
    "# Python program to print negative Numbers in a List\n",
    "\n",
    "# list of numbers\n",
    "list1 = [-10, 21, -4, -45, -66, 93]\n",
    "num = 0\n",
    "\n",
    "# using while loop\t\n",
    "while(num < len(list1)):\n",
    "\t\n",
    "\t# checking condition\n",
    "\tif list1[num] < 0:\n",
    "\t\tprint(list1[num], end = \" \")\n",
    "\t\n",
    "\t# increment num\n",
    "\tnum += 1\n",
    "\t\n"
   ]
  },
  {
   "cell_type": "code",
   "execution_count": null,
   "id": "5276067f",
   "metadata": {},
   "outputs": [],
   "source": []
  },
  {
   "cell_type": "markdown",
   "id": "89b80919",
   "metadata": {},
   "source": [
    "11.\tPython program to print all positive numbers in a range"
   ]
  },
  {
   "cell_type": "code",
   "execution_count": 11,
   "id": "6b12a429",
   "metadata": {},
   "outputs": [
    {
     "name": "stdout",
     "output_type": "stream",
     "text": [
      "Enter the start of range: -215\n",
      "Enter the end of range: 5\n",
      "0 1 2 3 4 5 "
     ]
    }
   ],
   "source": [
    "# Python program to print positive Numbers in given range\n",
    "\n",
    "start = int(input(\"Enter the start of range: \"))\n",
    "end = int(input(\"Enter the end of range: \"))\n",
    "\n",
    "# iterating each number in list\n",
    "for num in range(start, end + 1):\n",
    "\t\n",
    "\t# checking condition\n",
    "\tif num >= 0:\n",
    "\t\tprint(num, end = \" \")\n"
   ]
  },
  {
   "cell_type": "code",
   "execution_count": null,
   "id": "5e92ed7e",
   "metadata": {},
   "outputs": [],
   "source": []
  },
  {
   "cell_type": "code",
   "execution_count": null,
   "id": "58acc6cb",
   "metadata": {},
   "outputs": [],
   "source": []
  },
  {
   "cell_type": "code",
   "execution_count": null,
   "id": "5fd31bea",
   "metadata": {},
   "outputs": [],
   "source": []
  },
  {
   "cell_type": "code",
   "execution_count": null,
   "id": "42ff686a",
   "metadata": {},
   "outputs": [],
   "source": []
  },
  {
   "cell_type": "code",
   "execution_count": null,
   "id": "f9e3d76d",
   "metadata": {},
   "outputs": [],
   "source": []
  },
  {
   "cell_type": "code",
   "execution_count": null,
   "id": "30796348",
   "metadata": {},
   "outputs": [],
   "source": []
  },
  {
   "cell_type": "code",
   "execution_count": null,
   "id": "4a7627f6",
   "metadata": {},
   "outputs": [],
   "source": []
  },
  {
   "cell_type": "code",
   "execution_count": null,
   "id": "61984596",
   "metadata": {},
   "outputs": [],
   "source": []
  },
  {
   "cell_type": "code",
   "execution_count": null,
   "id": "20699da1",
   "metadata": {},
   "outputs": [],
   "source": []
  },
  {
   "cell_type": "code",
   "execution_count": null,
   "id": "0c244026",
   "metadata": {},
   "outputs": [],
   "source": []
  },
  {
   "cell_type": "code",
   "execution_count": null,
   "id": "4eb0534a",
   "metadata": {},
   "outputs": [],
   "source": []
  },
  {
   "cell_type": "code",
   "execution_count": null,
   "id": "d57dfe4b",
   "metadata": {},
   "outputs": [],
   "source": []
  },
  {
   "cell_type": "code",
   "execution_count": null,
   "id": "5ee92d20",
   "metadata": {},
   "outputs": [],
   "source": []
  },
  {
   "cell_type": "code",
   "execution_count": null,
   "id": "3196fe71",
   "metadata": {},
   "outputs": [],
   "source": []
  },
  {
   "cell_type": "code",
   "execution_count": null,
   "id": "44bfa90f",
   "metadata": {},
   "outputs": [],
   "source": []
  },
  {
   "cell_type": "code",
   "execution_count": null,
   "id": "3892e5c1",
   "metadata": {},
   "outputs": [],
   "source": []
  },
  {
   "cell_type": "code",
   "execution_count": null,
   "id": "924f096d",
   "metadata": {},
   "outputs": [],
   "source": []
  },
  {
   "cell_type": "code",
   "execution_count": null,
   "id": "66ceb739",
   "metadata": {},
   "outputs": [],
   "source": []
  },
  {
   "cell_type": "code",
   "execution_count": null,
   "id": "9d456a85",
   "metadata": {},
   "outputs": [],
   "source": []
  },
  {
   "cell_type": "code",
   "execution_count": null,
   "id": "8e43a859",
   "metadata": {},
   "outputs": [],
   "source": []
  },
  {
   "cell_type": "code",
   "execution_count": null,
   "id": "8ce9c571",
   "metadata": {},
   "outputs": [],
   "source": []
  },
  {
   "cell_type": "code",
   "execution_count": null,
   "id": "fa16b46b",
   "metadata": {},
   "outputs": [],
   "source": []
  },
  {
   "cell_type": "code",
   "execution_count": null,
   "id": "b56bd20f",
   "metadata": {},
   "outputs": [],
   "source": []
  },
  {
   "cell_type": "code",
   "execution_count": null,
   "id": "302fda66",
   "metadata": {},
   "outputs": [],
   "source": []
  },
  {
   "cell_type": "code",
   "execution_count": null,
   "id": "13794f85",
   "metadata": {},
   "outputs": [],
   "source": []
  }
 ],
 "metadata": {
  "kernelspec": {
   "display_name": "Python 3",
   "language": "python",
   "name": "python3"
  },
  "language_info": {
   "codemirror_mode": {
    "name": "ipython",
    "version": 3
   },
   "file_extension": ".py",
   "mimetype": "text/x-python",
   "name": "python",
   "nbconvert_exporter": "python",
   "pygments_lexer": "ipython3",
   "version": "3.8.8"
  }
 },
 "nbformat": 4,
 "nbformat_minor": 5
}
