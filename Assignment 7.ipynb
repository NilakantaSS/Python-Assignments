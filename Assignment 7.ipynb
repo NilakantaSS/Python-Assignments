{
 "cells": [
  {
   "cell_type": "markdown",
   "id": "466fceb5",
   "metadata": {},
   "source": [
    "1. Reverse words in a given String in Python"
   ]
  },
  {
   "cell_type": "code",
   "execution_count": 7,
   "id": "67c3bac4",
   "metadata": {},
   "outputs": [
    {
     "name": "stdout",
     "output_type": "stream",
     "text": [
      "together build lets ineuron\n"
     ]
    }
   ],
   "source": [
    "# Function to reverse words of string\n",
    "\n",
    "def rev_sentence(sentence):\n",
    "\n",
    "\t# first split the string into words\n",
    "\twords = sentence.split(' ')\n",
    "\n",
    "\t# then reverse the split string list and join using space\n",
    "\treverse_sentence = ' '.join(reversed(words))\n",
    "\n",
    "\t# finally return the joined string\n",
    "\treturn reverse_sentence\n",
    "\n",
    "if __name__ == \"__main__\":\n",
    "\tinput = 'ineuron lets build together'\n",
    "\tprint (rev_sentence(input))\n"
   ]
  },
  {
   "cell_type": "code",
   "execution_count": null,
   "id": "ccfc84e8",
   "metadata": {},
   "outputs": [],
   "source": []
  },
  {
   "cell_type": "markdown",
   "id": "e3c74957",
   "metadata": {},
   "source": [
    "2. Ways to remove i’th character from string in Python"
   ]
  },
  {
   "cell_type": "code",
   "execution_count": 8,
   "id": "397a01d5",
   "metadata": {},
   "outputs": [
    {
     "name": "stdout",
     "output_type": "stream",
     "text": [
      "The original string is : ineuronletsbuildtogether\n",
      "The string after removal of i'th character : inuronletsbuildtogether\n"
     ]
    }
   ],
   "source": [
    "# Python code to demonstrate\n",
    "# method to remove i'th character\n",
    "# Naive Method\n",
    "\n",
    "# Initializing String\n",
    "test_str = \"ineuronletsbuildtogether\"\n",
    "\n",
    "# Printing original string\n",
    "print (\"The original string is : \" + test_str)\n",
    "\n",
    "# Removing char at pos 3\n",
    "# using loop\n",
    "new_str = \"\"\n",
    "\n",
    "for i in range(len(test_str)):\n",
    "\tif i != 2:\n",
    "\t\tnew_str = new_str + test_str[i]\n",
    "\n",
    "# Printing string after removal\n",
    "print (\"The string after removal of i'th character : \" + new_str)\n"
   ]
  },
  {
   "cell_type": "code",
   "execution_count": null,
   "id": "826de660",
   "metadata": {},
   "outputs": [],
   "source": []
  },
  {
   "cell_type": "markdown",
   "id": "bdda5907",
   "metadata": {},
   "source": [
    "3.\tPython | Check if a Substring is Present in a Given String"
   ]
  },
  {
   "cell_type": "code",
   "execution_count": 9,
   "id": "6e08ba7a",
   "metadata": {},
   "outputs": [
    {
     "name": "stdout",
     "output_type": "stream",
     "text": [
      "YES\n"
     ]
    }
   ],
   "source": [
    "# function to check if small string is\n",
    "# there in big string\n",
    "def check(string, sub_str):\n",
    "\tif (string.find(sub_str) == -1):\n",
    "\t\tprint(\"NO\")\n",
    "\telse:\n",
    "\t\tprint(\"YES\")\n",
    "\t\t\t\n",
    "# driver code\n",
    "string = \"geeks for geeks\"\n",
    "sub_str =\"geek\"\n",
    "check(string, sub_str)\n"
   ]
  },
  {
   "cell_type": "code",
   "execution_count": null,
   "id": "87ea82ca",
   "metadata": {},
   "outputs": [],
   "source": []
  },
  {
   "cell_type": "markdown",
   "id": "22b2e49a",
   "metadata": {},
   "source": [
    "4.\tPython – Words Frequency in String Shorthands"
   ]
  },
  {
   "cell_type": "code",
   "execution_count": 10,
   "id": "73d919f8",
   "metadata": {},
   "outputs": [
    {
     "name": "stdout",
     "output_type": "stream",
     "text": [
      "The original string is : Gfg is best . Geeks are good and Geeks like Gfg\n",
      "The words frequency : {'Gfg': 2, 'is': 1, 'best': 1, '.': 1, 'Geeks': 2, 'are': 1, 'good': 1, 'and': 1, 'like': 1}\n"
     ]
    }
   ],
   "source": [
    "# Python3 code to demonstrate working of\n",
    "# Words Frequency in String Shorthands\n",
    "# Using dictionary comprehension + count() + split()\n",
    "\n",
    "# initializing string\n",
    "test_str = 'Gfg is best . Geeks are good and Geeks like Gfg'\n",
    "\n",
    "# printing original string\n",
    "print(\"The original string is : \" + str(test_str))\n",
    "\n",
    "# Words Frequency in String Shorthands\n",
    "# Using dictionary comprehension + count() + split()\n",
    "res = {key: test_str.count(key) for key in test_str.split()}\n",
    "\n",
    "# printing result\n",
    "print(\"The words frequency : \" + str(res))\n"
   ]
  },
  {
   "cell_type": "code",
   "execution_count": null,
   "id": "20e6c1ca",
   "metadata": {},
   "outputs": [],
   "source": []
  },
  {
   "cell_type": "markdown",
   "id": "91be01ff",
   "metadata": {},
   "source": [
    "5.\tPython – Convert Snake case to Pascal case"
   ]
  },
  {
   "cell_type": "code",
   "execution_count": 12,
   "id": "255e908c",
   "metadata": {},
   "outputs": [
    {
     "name": "stdout",
     "output_type": "stream",
     "text": [
      "The original string is : ineuron lets build together\n",
      "The String after changing case : IneuronLetsBuildTogether\n"
     ]
    }
   ],
   "source": [
    "# Python3 code to demonstrate working of\n",
    "# Convert Snake case to Pascal case\n",
    "# Using title() + replace()\n",
    "\n",
    "# initializing string\n",
    "test_str = 'ineuron lets build together'\n",
    "\n",
    "# printing original string\n",
    "print(\"The original string is : \" + test_str)\n",
    "\n",
    "# Convert Snake case to Pascal case\n",
    "# Using title() + replace()\n",
    "res = test_str.replace(\"_\", \" \").title().replace(\" \", \"\")\n",
    "\n",
    "# printing result\n",
    "print(\"The String after changing case : \" + str(res))\n"
   ]
  },
  {
   "cell_type": "code",
   "execution_count": null,
   "id": "99f3c873",
   "metadata": {},
   "outputs": [],
   "source": []
  },
  {
   "cell_type": "markdown",
   "id": "6dd44e29",
   "metadata": {},
   "source": [
    "6.\tFind length of a string in python (4 ways)"
   ]
  },
  {
   "cell_type": "code",
   "execution_count": 13,
   "id": "c1636b55",
   "metadata": {},
   "outputs": [
    {
     "name": "stdout",
     "output_type": "stream",
     "text": [
      "7\n"
     ]
    }
   ],
   "source": [
    "str = \"ineuron\"\n",
    "print(len(str))"
   ]
  },
  {
   "cell_type": "code",
   "execution_count": 14,
   "id": "1a702ed1",
   "metadata": {},
   "outputs": [
    {
     "name": "stdout",
     "output_type": "stream",
     "text": [
      "7\n"
     ]
    }
   ],
   "source": [
    "# Python code to demonstrate string length\n",
    "# using while loop.\n",
    "\n",
    "# Returns length of string\n",
    "def findLen(str):\n",
    "\tcounter = 0\n",
    "\twhile str[counter:]:\n",
    "\t\tcounter += 1\n",
    "\treturn counter\n",
    "\n",
    "str = \"ineuron\"\n",
    "print(findLen(str))\n"
   ]
  },
  {
   "cell_type": "code",
   "execution_count": 15,
   "id": "27567dc9",
   "metadata": {},
   "outputs": [
    {
     "name": "stdout",
     "output_type": "stream",
     "text": [
      "7\n"
     ]
    }
   ],
   "source": [
    "# Python code to demonstrate string length\n",
    "# using join and count\n",
    "\n",
    "# Returns length of string\n",
    "def findLen(str):\n",
    "\tif not str:\n",
    "\t\treturn 0\n",
    "\telse:\n",
    "\t\tsome_random_str = 'py'\n",
    "\t\treturn ((some_random_str).join(str)).count(some_random_str) + 1\n",
    "\n",
    "str = \"ineuron\"\n",
    "print(findLen(str))\n"
   ]
  },
  {
   "cell_type": "code",
   "execution_count": 16,
   "id": "21051e69",
   "metadata": {},
   "outputs": [
    {
     "name": "stdout",
     "output_type": "stream",
     "text": [
      "7\n"
     ]
    }
   ],
   "source": [
    "# Python code to demonstrate string length\n",
    "# using for loop\n",
    "\n",
    "# Returns length of string\n",
    "def findLen(str):\n",
    "\tcounter = 0\t\n",
    "\tfor i in str:\n",
    "\t\tcounter += 1\n",
    "\treturn counter\n",
    "\n",
    "\n",
    "str = \"ineuron\"\n",
    "print(findLen(str))\n"
   ]
  },
  {
   "cell_type": "code",
   "execution_count": null,
   "id": "2613247d",
   "metadata": {},
   "outputs": [],
   "source": []
  },
  {
   "cell_type": "markdown",
   "id": "5401ab21",
   "metadata": {},
   "source": [
    "7.\tPython program to print even length words in a string"
   ]
  },
  {
   "cell_type": "code",
   "execution_count": 1,
   "id": "2c521250",
   "metadata": {},
   "outputs": [
    {
     "name": "stdout",
     "output_type": "stream",
     "text": [
      "am\n",
      "muskan\n"
     ]
    }
   ],
   "source": [
    "# Python3 program to print\n",
    "# even length words in a string\n",
    "\n",
    "def printWords(s):\n",
    "\t\n",
    "\t# split the string\n",
    "\ts = s.split(' ')\n",
    "\t\n",
    "\t# iterate in words of string\n",
    "\tfor word in s:\n",
    "\t\t\n",
    "\t\t# if length is even\n",
    "\t\tif len(word)%2==0:\n",
    "\t\t\tprint(word)\n",
    "\n",
    "\n",
    "# Driver Code\n",
    "s = \"i am muskan\"\n",
    "printWords(s)\n"
   ]
  },
  {
   "cell_type": "code",
   "execution_count": null,
   "id": "ae34bde6",
   "metadata": {},
   "outputs": [],
   "source": []
  },
  {
   "cell_type": "markdown",
   "id": "db8e640b",
   "metadata": {},
   "source": [
    "8.\tPython program to accept the strings which contains all vowels"
   ]
  },
  {
   "cell_type": "code",
   "execution_count": 2,
   "id": "cb07f382",
   "metadata": {},
   "outputs": [
    {
     "name": "stdout",
     "output_type": "stream",
     "text": [
      "Accepted\n"
     ]
    }
   ],
   "source": [
    "# Python program to accept the strings\n",
    "# which contains all the vowels\n",
    "\n",
    "# Function for check if string\n",
    "# is accepted or not\n",
    "def check(string) :\n",
    "\n",
    "\tstring = string.lower()\n",
    "\n",
    "\t# set() function convert \"aeiou\"\n",
    "\t# string into set of characters\n",
    "\t# i.e.vowels = {'a', 'e', 'i', 'o', 'u'}\n",
    "\tvowels = set(\"aeiou\")\n",
    "\n",
    "\t# set() function convert empty\n",
    "\t# dictionary into empty set\n",
    "\ts = set({})\n",
    "\n",
    "\t# looping through each\n",
    "\t# character of the string\n",
    "\tfor char in string :\n",
    "\n",
    "\t\t# Check for the character is present inside\n",
    "\t\t# the vowels set or not. If present, then\n",
    "\t\t# add into the set s by using add method\n",
    "\t\tif char in vowels :\n",
    "\t\t\ts.add(char)\n",
    "\t\telse:\n",
    "\t\t\tpass\n",
    "\t\t\t\n",
    "\t# check the length of set s equal to length\n",
    "\t# of vowels set or not. If equal, string is\n",
    "\t# accepted otherwise not\n",
    "\tif len(s) == len(vowels) :\n",
    "\t\tprint(\"Accepted\")\n",
    "\telse :\n",
    "\t\tprint(\"Not Accepted\")\n",
    "\n",
    "\n",
    "# Driver code\n",
    "if __name__ == \"__main__\" :\n",
    "\t\n",
    "\tstring = \"SEEquoiaL\"\n",
    "\n",
    "\t# calling function\n",
    "\tcheck(string)\n"
   ]
  },
  {
   "cell_type": "code",
   "execution_count": null,
   "id": "be0dcdfe",
   "metadata": {},
   "outputs": [],
   "source": []
  },
  {
   "cell_type": "markdown",
   "id": "faa43d7d",
   "metadata": {},
   "source": [
    "9.\tPython | Count the Number of matching characters in a pair of string"
   ]
  },
  {
   "cell_type": "code",
   "execution_count": 3,
   "id": "adc27e7f",
   "metadata": {},
   "outputs": [
    {
     "name": "stdout",
     "output_type": "stream",
     "text": [
      "No. of matching characters are :  5\n"
     ]
    }
   ],
   "source": [
    "# Python code to count number of matching\n",
    "# characters in a pair of strings\n",
    "\n",
    "# count function\n",
    "def count(str1, str2):\n",
    "\tc, j = 0, 0\n",
    "\t\n",
    "\t# loop executes till length of str1 and\n",
    "\t# stores value of str1 character by character\n",
    "\t# and stores in i at each iteration.\n",
    "\tfor i in str1:\t\n",
    "\t\t\n",
    "\t\t# this will check if character extracted from\n",
    "\t\t# str1 is present in str2 or not(str2.find(i)\n",
    "\t\t# return -1 if not found otherwise return the\n",
    "\t\t# starting occurrence index of that character\n",
    "\t\t# in str2) and j == str1.find(i) is used to\n",
    "\t\t# avoid the counting of the duplicate characters\n",
    "\t\t# present in str1 found in str2\n",
    "\t\tif str2.find(i)>= 0 and j == str1.find(i):\n",
    "\t\t\tc += 1\n",
    "\t\tj += 1\n",
    "\tprint ('No. of matching characters are : ', c)\n",
    "\n",
    "# Main function\n",
    "def main():\n",
    "\tstr1 ='aabcddekll12@' # first string\n",
    "\tstr2 ='bb2211@55k' # second string\n",
    "\tcount(str1, str2) # calling count function\n",
    "\n",
    "# Driver Code\n",
    "if __name__==\"__main__\":\n",
    "\tmain()\n"
   ]
  },
  {
   "cell_type": "code",
   "execution_count": null,
   "id": "d89eab32",
   "metadata": {},
   "outputs": [],
   "source": []
  },
  {
   "cell_type": "markdown",
   "id": "36127c44",
   "metadata": {},
   "source": [
    "10.\tRemove all duplicates from a given string in Python"
   ]
  },
  {
   "cell_type": "code",
   "execution_count": 4,
   "id": "4ae6317b",
   "metadata": {},
   "outputs": [
    {
     "name": "stdout",
     "output_type": "stream",
     "text": [
      "Without Order =  osgrkef\n",
      "With Order =  geksfor\n"
     ]
    }
   ],
   "source": [
    "from collections import OrderedDict\n",
    "\n",
    "# Function to remove all duplicates from string\n",
    "# and order does not matter\n",
    "def removeDupWithoutOrder(str):\n",
    "\n",
    "\t# set() --> A Set is an unordered collection\n",
    "\t#\t\t data type that is iterable, mutable,\n",
    "\t#\t\t and has no duplicate elements.\n",
    "\t# \"\".join() --> It joins two adjacent elements in\n",
    "\t#\t\t\t iterable with any symbol defined in\n",
    "\t#\t\t\t \"\" ( double quotes ) and returns a\n",
    "\t#\t\t\t single string\n",
    "\treturn \"\".join(set(str))\n",
    "\n",
    "# Function to remove all duplicates from string\n",
    "# and keep the order of characters same\n",
    "def removeDupWithOrder(str):\n",
    "\treturn \"\".join(OrderedDict.fromkeys(str))\n",
    "\n",
    "# Driver program\n",
    "if __name__ == \"__main__\":\n",
    "\tstr = \"geeksforgeeks\"\n",
    "\tprint (\"Without Order = \",removeDupWithoutOrder(str))\n",
    "\tprint (\"With Order = \",removeDupWithOrder(str))\n"
   ]
  },
  {
   "cell_type": "code",
   "execution_count": null,
   "id": "f0662664",
   "metadata": {},
   "outputs": [],
   "source": []
  }
 ],
 "metadata": {
  "kernelspec": {
   "display_name": "Python 3",
   "language": "python",
   "name": "python3"
  },
  "language_info": {
   "codemirror_mode": {
    "name": "ipython",
    "version": 3
   },
   "file_extension": ".py",
   "mimetype": "text/x-python",
   "name": "python",
   "nbconvert_exporter": "python",
   "pygments_lexer": "ipython3",
   "version": "3.8.8"
  }
 },
 "nbformat": 4,
 "nbformat_minor": 5
}
