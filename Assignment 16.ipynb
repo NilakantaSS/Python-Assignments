{
 "cells": [
  {
   "cell_type": "code",
   "execution_count": null,
   "id": "ce97cc87",
   "metadata": {},
   "outputs": [],
   "source": [
    "1.\tPython Program for Cycle Sort\n"
   ]
  },
  {
   "cell_type": "code",
   "execution_count": 2,
   "id": "d394c3e2",
   "metadata": {},
   "outputs": [
    {
     "name": "stdout",
     "output_type": "stream",
     "text": [
      "The original array is: [2, 4, 5, 1, 3]\n",
      "The sorted array is:  [1, 2, 3, 4, 5]\n"
     ]
    }
   ],
   "source": [
    "def cycle_Sort(array):\n",
    "  write = 0\n",
    "   \n",
    "  for cycle in range(0, len(array) - 1):\n",
    "    ele = array[cycle]\n",
    "     \n",
    "    position = cycle\n",
    "    for i in range(cycle + 1, len(array)):\n",
    "      if array[i] < ele:\n",
    "        position += 1\n",
    "     \n",
    "    if position == cycle:\n",
    "      continue\n",
    "     \n",
    "    while ele == array[position]:\n",
    "      position += 1\n",
    "    array[position], ele = ele, array[position]\n",
    "    write += 1\n",
    "     \n",
    "    while position != cycle:\n",
    "       \n",
    "      position = cycle\n",
    "      for a in range(cycle + 1, len(array)):\n",
    "        if array[a] < ele:\n",
    "          position += 1\n",
    "       \n",
    "      while ele == array[position]:\n",
    "        position += 1\n",
    "      array[position], ele = ele, array[position]\n",
    "      write += 1\n",
    "   \n",
    "  return write\n",
    "   \n",
    "# driver code\n",
    "array = [2, 4, 5, 1, 3]\n",
    "print(\"The original array is:\", array)\n",
    "n = len(array)\n",
    "cycle_Sort(array)\n",
    "print(\"The sorted array is: \",array)\n"
   ]
  },
  {
   "cell_type": "code",
   "execution_count": null,
   "id": "fef4f96b",
   "metadata": {},
   "outputs": [],
   "source": []
  },
  {
   "cell_type": "code",
   "execution_count": null,
   "id": "2d2712af",
   "metadata": {},
   "outputs": [],
   "source": [
    "2.\tPython Program for Stooge Sort\n"
   ]
  },
  {
   "cell_type": "code",
   "execution_count": 4,
   "id": "1f1c7635",
   "metadata": {},
   "outputs": [
    {
     "name": "stdout",
     "output_type": "stream",
     "text": [
      "1 2 3 4 5 "
     ]
    }
   ],
   "source": [
    "# Python program to implement stooge sort\n",
    "\n",
    "def stoogesort(arr, l, h):\n",
    "\tif l >= h:\n",
    "\t\treturn\n",
    "\n",
    "\t# If first element is smaller\n",
    "\t# than last, swap them\n",
    "\tif arr[l]>arr[h]:\n",
    "\t\tt = arr[l]\n",
    "\t\tarr[l] = arr[h]\n",
    "\t\tarr[h] = t\n",
    "\n",
    "\t# If there are more than 2 elements in\n",
    "\t# the array\n",
    "\tif h-l + 1 > 2:\n",
    "\t\tt = (int)((h-l + 1)/3)\n",
    "\n",
    "\t\t# Recursively sort first 2 / 3 elements\n",
    "\t\tstoogesort(arr, l, (h-t))\n",
    "\n",
    "\t\t# Recursively sort last 2 / 3 elements\n",
    "\t\tstoogesort(arr, l + t, (h))\n",
    "\n",
    "\t\t# Recursively sort first 2 / 3 elements\n",
    "\t\t# again to confirm\n",
    "\t\tstoogesort(arr, l, (h-t))\n",
    "\n",
    "\n",
    "# deriver\n",
    "arr = [2, 4, 5, 3, 1]\n",
    "n = len(arr)\n",
    "\n",
    "stoogesort(arr, 0, n-1)\n",
    "\n",
    "for i in range(0, n):\n",
    "\tprint(arr[i], end = ' ')\n",
    "\n",
    "# Code Contributed by Mohit Gupta_OMG <(0_o)>\n"
   ]
  },
  {
   "cell_type": "code",
   "execution_count": null,
   "id": "50dd25b3",
   "metadata": {},
   "outputs": [],
   "source": []
  },
  {
   "cell_type": "code",
   "execution_count": null,
   "id": "dee07113",
   "metadata": {},
   "outputs": [],
   "source": [
    "3.\tPython Program to print the pattern ‘G’\n"
   ]
  },
  {
   "cell_type": "code",
   "execution_count": 8,
   "id": "33609af3",
   "metadata": {},
   "outputs": [
    {
     "name": "stdout",
     "output_type": "stream",
     "text": [
      "  ***  \n",
      " *     \n",
      " *     \n",
      " * *** \n",
      " *   * \n",
      " *   * \n",
      "  ***  \n",
      "\n"
     ]
    }
   ],
   "source": [
    "# Python program to print pattern G\n",
    "def Pattern(line):\n",
    "\tpat=\"\"\n",
    "\tfor i in range(0,line):\n",
    "\t\tfor j in range(0,line):\t\n",
    "\t\t\tif ((j == 1 and i != 0 and i != line-1) or ((i == 0 or\n",
    "\t\t\t\ti == line-1) and j > 1 and j < line-2) or (i == ((line-1)/2)\n",
    "\t\t\t\tand j > line-5 and j < line-1) or (j == line-2 and\n",
    "\t\t\t\ti != 0 and i != line-1 and i >=((line-1)/2))):\n",
    "\t\t\t\tpat=pat+\"*\"\n",
    "\t\t\telse:\t\n",
    "\t\t\t\tpat=pat+\" \"\n",
    "\t\tpat=pat+\"\\n\"\n",
    "\treturn pat\n",
    "\n",
    "# Driver Code\n",
    "line = 7\n",
    "print(Pattern(line))\n"
   ]
  },
  {
   "cell_type": "code",
   "execution_count": null,
   "id": "a15fd8f1",
   "metadata": {},
   "outputs": [],
   "source": []
  },
  {
   "cell_type": "code",
   "execution_count": null,
   "id": "14692e18",
   "metadata": {},
   "outputs": [],
   "source": [
    "4.\tPython Program to print an Inverted Star Pattern\n"
   ]
  },
  {
   "cell_type": "code",
   "execution_count": 10,
   "id": "6378be05",
   "metadata": {},
   "outputs": [
    {
     "name": "stdout",
     "output_type": "stream",
     "text": [
      "***********\n",
      " **********\n",
      "  *********\n",
      "   ********\n",
      "    *******\n",
      "     ******\n",
      "      *****\n",
      "       ****\n",
      "        ***\n",
      "         **\n",
      "          *\n"
     ]
    }
   ],
   "source": [
    "# python 3 code to print inverted star\n",
    "# pattern\n",
    "\n",
    "# n is the number of rows in which\n",
    "# star is going to be printed.\n",
    "n=11\n",
    "\n",
    "# i is going to be enabled to\n",
    "# range between n-i t 0 with a\n",
    "# decrement of 1 with each iteration.\n",
    "# and in print function, for each iteration,\n",
    "# ” ” is multiplied with n-i and ‘*’ is\n",
    "# multiplied with i to create correct\n",
    "# space before of the stars.\n",
    "for i in range (n, 0, -1):\n",
    "\tprint((n-i) * ' ' + i * '*')\n"
   ]
  },
  {
   "cell_type": "code",
   "execution_count": null,
   "id": "148ea2ad",
   "metadata": {},
   "outputs": [],
   "source": []
  },
  {
   "cell_type": "code",
   "execution_count": null,
   "id": "3406b477",
   "metadata": {},
   "outputs": [],
   "source": [
    "5.\tPython Program to print double sided stair-case pattern\n"
   ]
  },
  {
   "cell_type": "code",
   "execution_count": null,
   "id": "23f21b17",
   "metadata": {},
   "outputs": [],
   "source": []
  },
  {
   "cell_type": "code",
   "execution_count": null,
   "id": "b3a9905d",
   "metadata": {},
   "outputs": [],
   "source": []
  },
  {
   "cell_type": "code",
   "execution_count": null,
   "id": "224893bb",
   "metadata": {},
   "outputs": [],
   "source": [
    "6.\tPython Program to print with your own font\n"
   ]
  },
  {
   "cell_type": "code",
   "execution_count": 12,
   "id": "63f408d1",
   "metadata": {},
   "outputs": [
    {
     "name": "stdout",
     "output_type": "stream",
     "text": [
      "         *   * \n",
      "         *   * \n",
      "       *   *   *   * \n",
      "       *   *   *   * \n",
      "     *   *   *   *   *   * \n",
      "     *   *   *   *   *   * \n",
      "   *   *   *   *   *   *   *   * \n",
      "   *   *   *   *   *   *   *   * \n",
      " *   *   *   *   *   *   *   *   *   * \n",
      " *   *   *   *   *   *   *   *   *   * \n"
     ]
    }
   ],
   "source": [
    "# Python3 Program to demonstrate\n",
    "# staircase pattern\n",
    "\n",
    "# function definition\n",
    "def pattern(n):\n",
    "\n",
    "\t# for loop for rows\n",
    "\tfor i in range(1,n+1):\n",
    "\n",
    "\t\t# conditional operator\n",
    "\t\tk =i + 1 if(i % 2 != 0) else i\n",
    "\n",
    "\t\t# for loop for printing spaces\n",
    "\t\tfor g in range(k,n):\n",
    "\t\t\tif g>=k:\n",
    "\t\t\t\tprint(end=\" \")\n",
    "\n",
    "\t\t# according to value of k carry\n",
    "\t\t# out further operation\n",
    "\t\tfor j in range(0,k):\n",
    "\t\t\tif j == k - 1:\n",
    "\t\t\t\tprint(\" * \")\n",
    "\t\t\telse:\n",
    "\t\t\t\tprint(\" * \", end = \" \")\n",
    "\n",
    "\n",
    "# Driver code\n",
    "n = 10\n",
    "pattern(n)"
   ]
  },
  {
   "cell_type": "code",
   "execution_count": null,
   "id": "84694fee",
   "metadata": {},
   "outputs": [],
   "source": []
  },
  {
   "cell_type": "code",
   "execution_count": null,
   "id": "34ea88c4",
   "metadata": {},
   "outputs": [],
   "source": [
    "7.\tGet Current Date and Time using Python\n"
   ]
  },
  {
   "cell_type": "code",
   "execution_count": 15,
   "id": "e774718b",
   "metadata": {},
   "outputs": [
    {
     "name": "stdout",
     "output_type": "stream",
     "text": [
      "Time now at greenwich meridian is : 2022-04-18 10:33:15.975274\n"
     ]
    }
   ],
   "source": [
    "# Python3 code to demonstrate\n",
    "# Getting current date and time using\n",
    "# now().\n",
    "\t\n",
    "# importing datetime module for now()\n",
    "import datetime\n",
    "\t\n",
    "# using now() to get current time\n",
    "current_time = datetime.datetime.now()\n",
    "\t\n",
    "# Printing value of now.\n",
    "print (\"Time now at greenwich meridian is : \"\n",
    "\t\t\t\t\t\t\t\t\t, end = \"\")\n",
    "print (current_time)\n"
   ]
  },
  {
   "cell_type": "code",
   "execution_count": null,
   "id": "17c2fb66",
   "metadata": {},
   "outputs": [],
   "source": []
  },
  {
   "cell_type": "code",
   "execution_count": null,
   "id": "56e755c0",
   "metadata": {},
   "outputs": [],
   "source": [
    "8.\tPython | Find yesterday’s, today’s and tomorrow’s date\n"
   ]
  },
  {
   "cell_type": "code",
   "execution_count": 16,
   "id": "8b956e9a",
   "metadata": {},
   "outputs": [
    {
     "name": "stdout",
     "output_type": "stream",
     "text": [
      "Yesterday =  17-04-2022\n",
      "Today =  18-04-2022\n",
      "Tomorrow =  19-04-2022\n"
     ]
    }
   ],
   "source": [
    "# Python program to find yesterday,\n",
    "# today and tomorrow\n",
    "\n",
    "\n",
    "# Import datetime and timedelta\n",
    "# class from datetime module\n",
    "from datetime import datetime, timedelta\n",
    "\n",
    "\n",
    "# Get today's date\n",
    "presentday = datetime.now() # or presentday = datetime.today()\n",
    "\n",
    "# Get Yesterday\n",
    "yesterday = presentday - timedelta(1)\n",
    "\n",
    "# Get Tomorrow\n",
    "tomorrow = presentday + timedelta(1)\n",
    "\n",
    "\n",
    "# strftime() is to format date according to\n",
    "# the need by converting them to string\n",
    "print(\"Yesterday = \", yesterday.strftime('%d-%m-%Y'))\n",
    "print(\"Today = \", presentday.strftime('%d-%m-%Y'))\n",
    "print(\"Tomorrow = \", tomorrow.strftime('%d-%m-%Y'))\n"
   ]
  },
  {
   "cell_type": "code",
   "execution_count": null,
   "id": "ee22645a",
   "metadata": {},
   "outputs": [],
   "source": []
  },
  {
   "cell_type": "code",
   "execution_count": null,
   "id": "787bb1d7",
   "metadata": {},
   "outputs": [],
   "source": [
    "9.\tPython program to convert time from 12 hour to 24 hour format\n"
   ]
  },
  {
   "cell_type": "code",
   "execution_count": 17,
   "id": "36fa1bb6",
   "metadata": {},
   "outputs": [
    {
     "name": "stdout",
     "output_type": "stream",
     "text": [
      "20:05:45\n"
     ]
    }
   ],
   "source": [
    "# Python program to convert time\n",
    "# from 12 hour to 24 hour format\n",
    "\n",
    "# Function to convert the date format\n",
    "def convert24(str1):\n",
    "\t\n",
    "\t# Checking if last two elements of time\n",
    "\t# is AM and first two elements are 12\n",
    "\tif str1[-2:] == \"AM\" and str1[:2] == \"12\":\n",
    "\t\treturn \"00\" + str1[2:-2]\n",
    "\t\t\n",
    "\t# remove the AM\t\n",
    "\telif str1[-2:] == \"AM\":\n",
    "\t\treturn str1[:-2]\n",
    "\t\n",
    "\t# Checking if last two elements of time\n",
    "\t# is PM and first two elements are 12\n",
    "\telif str1[-2:] == \"PM\" and str1[:2] == \"12\":\n",
    "\t\treturn str1[:-2]\n",
    "\t\t\n",
    "\telse:\n",
    "\t\t\n",
    "\t\t# add 12 to hours and remove PM\n",
    "\t\treturn str(int(str1[:2]) + 12) + str1[2:8]\n",
    "\n",
    "# Driver Code\t\t\n",
    "print(convert24(\"08:05:45 PM\"))\n"
   ]
  },
  {
   "cell_type": "code",
   "execution_count": null,
   "id": "f562a290",
   "metadata": {},
   "outputs": [],
   "source": []
  }
 ],
 "metadata": {
  "kernelspec": {
   "display_name": "Python 3",
   "language": "python",
   "name": "python3"
  },
  "language_info": {
   "codemirror_mode": {
    "name": "ipython",
    "version": 3
   },
   "file_extension": ".py",
   "mimetype": "text/x-python",
   "name": "python",
   "nbconvert_exporter": "python",
   "pygments_lexer": "ipython3",
   "version": "3.8.8"
  }
 },
 "nbformat": 4,
 "nbformat_minor": 5
}
