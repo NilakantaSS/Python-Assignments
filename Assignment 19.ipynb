{
 "cells": [
  {
   "cell_type": "code",
   "execution_count": null,
   "id": "028ef1ce",
   "metadata": {},
   "outputs": [],
   "source": [
    "1.\tPython Program to Check if email address valid or not\n"
   ]
  },
  {
   "cell_type": "code",
   "execution_count": 1,
   "id": "2fd6e725",
   "metadata": {},
   "outputs": [
    {
     "name": "stdout",
     "output_type": "stream",
     "text": [
      "Valid Email\n",
      "Valid Email\n",
      "Invalid Email\n"
     ]
    }
   ],
   "source": [
    "# Python program to validate an Email\n",
    "\n",
    "# import re module\n",
    "\n",
    "# re module provides support\n",
    "# for regular expressions\n",
    "import re\n",
    "\n",
    "# Make a regular expression\n",
    "# for validating an Email\n",
    "regex = r'\\b[A-Za-z0-9._%+-]+@[A-Za-z0-9.-]+\\.[A-Z|a-z]{2,}\\b'\n",
    "\n",
    "# Define a function for\n",
    "# for validating an Email\n",
    "\n",
    "\n",
    "def check(email):\n",
    "\n",
    "\t# pass the regular expression\n",
    "\t# and the string into the fullmatch() method\n",
    "\tif(re.fullmatch(regex, email)):\n",
    "\t\tprint(\"Valid Email\")\n",
    "\n",
    "\telse:\n",
    "\t\tprint(\"Invalid Email\")\n",
    "\n",
    "\n",
    "# Driver Code\n",
    "if __name__ == '__main__':\n",
    "\n",
    "\t# Enter the email\n",
    "\temail = \"ankitrai326@gmail.com\"\n",
    "\n",
    "\t# calling run function\n",
    "\tcheck(email)\n",
    "\n",
    "\temail = \"my.ownsite@our-earth.org\"\n",
    "\tcheck(email)\n",
    "\n",
    "\temail = \"ankitrai326.com\"\n",
    "\tcheck(email)\n"
   ]
  },
  {
   "cell_type": "code",
   "execution_count": null,
   "id": "8c4065c4",
   "metadata": {},
   "outputs": [],
   "source": []
  },
  {
   "cell_type": "code",
   "execution_count": null,
   "id": "b4c1b411",
   "metadata": {},
   "outputs": [],
   "source": [
    "2.\tPython program to find files having a particular extension using RegEx\n"
   ]
  },
  {
   "cell_type": "code",
   "execution_count": 2,
   "id": "fbd1f402",
   "metadata": {},
   "outputs": [
    {
     "name": "stdout",
     "output_type": "stream",
     "text": [
      "The file ending with .xml is: geeks.xml\n"
     ]
    }
   ],
   "source": [
    "# import library\n",
    "import re\n",
    "\n",
    "# list of different types of file\n",
    "filenames = [\"gfg.html\", \"geeks.xml\",\n",
    "\t\t\t\"computer.txt\", \"geeksforgeeks.jpg\"]\n",
    "\n",
    "for file in filenames:\n",
    "\t# search given pattern in the line\n",
    "\tmatch = re.search(\"\\.xml$\", file)\n",
    "\n",
    "\t# if match is found\n",
    "\tif match:\n",
    "\t\tprint(\"The file ending with .xml is:\",\n",
    "\t\t\tfile)\n"
   ]
  },
  {
   "cell_type": "code",
   "execution_count": null,
   "id": "055b5a37",
   "metadata": {},
   "outputs": [],
   "source": []
  },
  {
   "cell_type": "code",
   "execution_count": null,
   "id": "966fc2ed",
   "metadata": {},
   "outputs": [],
   "source": [
    "3.\tPython program to extract IP address from file\n"
   ]
  },
  {
   "cell_type": "code",
   "execution_count": null,
   "id": "8490ebfe",
   "metadata": {},
   "outputs": [],
   "source": [
    "#!/usr/bin/python3\n",
    "import sys, re\n",
    "\n",
    "f = open(sys.argv[1],'r')\n",
    "text = f.read()\n",
    "ips = [] \n",
    "regex = re.findall(r'\\b(?:\\d{1,3}\\.){3}\\d{1,3}\\b',text)\n",
    "if regex is not None:\n",
    "    for match in regex:\n",
    "        if match not in ips:\n",
    "            ips.append(match)\n",
    "            print(match)"
   ]
  },
  {
   "cell_type": "code",
   "execution_count": null,
   "id": "d1bdc08e",
   "metadata": {},
   "outputs": [],
   "source": []
  },
  {
   "cell_type": "code",
   "execution_count": null,
   "id": "54103a2f",
   "metadata": {},
   "outputs": [],
   "source": [
    "4.\tPython program to check the validity of a Password\n"
   ]
  },
  {
   "cell_type": "code",
   "execution_count": 6,
   "id": "27fe0ec3",
   "metadata": {},
   "outputs": [
    {
     "name": "stdout",
     "output_type": "stream",
     "text": [
      "Valid Password\n"
     ]
    }
   ],
   "source": [
    "# Python program to check validation of password\n",
    "# Module of regular expression is used with search()\n",
    "import re\n",
    "password = \"R@m@_f0rtu9e$\"\n",
    "flag = 0\n",
    "while True:\n",
    "\tif (len(password)<8):\n",
    "\t\tflag = -1\n",
    "\t\tbreak\n",
    "\telif not re.search(\"[a-z]\", password):\n",
    "\t\tflag = -1\n",
    "\t\tbreak\n",
    "\telif not re.search(\"[A-Z]\", password):\n",
    "\t\tflag = -1\n",
    "\t\tbreak\n",
    "\telif not re.search(\"[0-9]\", password):\n",
    "\t\tflag = -1\n",
    "\t\tbreak\n",
    "\telif not re.search(\"[_@$]\", password):\n",
    "\t\tflag = -1\n",
    "\t\tbreak\n",
    "\telif re.search(\"\\s\", password):\n",
    "\t\tflag = -1\n",
    "\t\tbreak\n",
    "\telse:\n",
    "\t\tflag = 0\n",
    "\t\tprint(\"Valid Password\")\n",
    "\t\tbreak\n",
    "\n",
    "if flag ==-1:\n",
    "\tprint(\"Not a Valid Password\")\n"
   ]
  },
  {
   "cell_type": "code",
   "execution_count": null,
   "id": "25112319",
   "metadata": {},
   "outputs": [],
   "source": []
  },
  {
   "cell_type": "code",
   "execution_count": null,
   "id": "fdc1b22e",
   "metadata": {},
   "outputs": [],
   "source": [
    "5.\tCategorize Password as Strong or Weak using Regex in Python\n"
   ]
  },
  {
   "cell_type": "code",
   "execution_count": 7,
   "id": "110851b0",
   "metadata": {},
   "outputs": [
    {
     "name": "stdout",
     "output_type": "stream",
     "text": [
      "Strong Password!\n",
      "Weak password: Same string pattern repetition\n",
      "Weak Password: Same character repeats three or more times in a row\n",
      "Weak password: Same string pattern repetition\n",
      "Strong Password!\n",
      "Password cannot be a newline or space!\n"
     ]
    }
   ],
   "source": [
    "# Categorizing password as Strong or\n",
    "# Weak in Python using Regex\n",
    "\n",
    "\n",
    "import re\n",
    "\n",
    "\n",
    "# Function to categorize password\n",
    "def password(v):\n",
    "\n",
    "\t# the password should not be a\n",
    "\t# newline or space\n",
    "\tif v == \"\\n\" or v == \" \":\n",
    "\t\treturn \"Password cannot be a newline or space!\"\n",
    "\n",
    "\t# the password length should be in\n",
    "\t# between 9 and 20\n",
    "\tif 9 <= len(v) <= 20:\n",
    "\n",
    "\t\t# checks for occurrence of a character\n",
    "\t\t# three or more times in a row\n",
    "\t\tif re.search(r'(.)\\1\\1', v):\n",
    "\t\t\treturn \"Weak Password: Same character repeats three or more times in a row\"\n",
    "\n",
    "\t\t# checks for occurrence of same string\n",
    "\t\t# pattern( minimum of two character length)\n",
    "\t\t# repeating\n",
    "\t\tif re.search(r'(..)(.*?)\\1', v):\n",
    "\t\t\treturn \"Weak password: Same string pattern repetition\"\n",
    "\n",
    "\t\telse:\n",
    "\t\t\treturn \"Strong Password!\"\n",
    "\n",
    "\telse:\n",
    "\t\treturn \"Password length must be 9-20 characters!\"\n",
    "\n",
    "# Main method\n",
    "def main():\n",
    "\n",
    "\t# Driver code\n",
    "\tprint(password(\"Qggf!@ghf3\"))\n",
    "\tprint(password(\"Gggksforgeeks\"))\n",
    "\tprint(password(\"aaabnil1gu\"))\n",
    "\tprint(password(\"Aasd!feasn\"))\n",
    "\tprint(password(\"772*hd897\"))\n",
    "\tprint(password(\" \"))\n",
    "\n",
    "\n",
    "# Driver Code\n",
    "if __name__ == '__main__':\n",
    "\tmain()\n"
   ]
  },
  {
   "cell_type": "code",
   "execution_count": null,
   "id": "b371e478",
   "metadata": {},
   "outputs": [],
   "source": []
  },
  {
   "cell_type": "code",
   "execution_count": null,
   "id": "01ad1d49",
   "metadata": {},
   "outputs": [],
   "source": [
    "6.\tPython program to read file word by word\n"
   ]
  },
  {
   "cell_type": "code",
   "execution_count": null,
   "id": "a975b3f7",
   "metadata": {},
   "outputs": [],
   "source": [
    "# Python program to read\n",
    "# file word by word\n",
    "\n",
    "# opening the text file\n",
    "with open('GFG.txt','r') as file:\n",
    "\n",
    "\t# reading each line\t\n",
    "\tfor line in file:\n",
    "\n",
    "\t\t# reading each word\t\t\n",
    "\t\tfor word in line.split():\n",
    "\n",
    "\t\t\t# displaying the words\t\t\n",
    "\t\t\tprint(word)\n"
   ]
  },
  {
   "cell_type": "code",
   "execution_count": null,
   "id": "892cbe9f",
   "metadata": {},
   "outputs": [],
   "source": []
  },
  {
   "cell_type": "code",
   "execution_count": null,
   "id": "3a5312bc",
   "metadata": {},
   "outputs": [],
   "source": [
    "7.\tPython program to read character by character from a file\n"
   ]
  },
  {
   "cell_type": "code",
   "execution_count": null,
   "id": "53f5db74",
   "metadata": {},
   "outputs": [],
   "source": [
    "# Demonstrated Python Program\n",
    "# to read file character by character\n",
    "\n",
    "\n",
    "file = open('file.txt', 'r')\n",
    "\n",
    "while 1:\n",
    "\t\n",
    "\t# read by character\n",
    "\tchar = file.read(1)\t\t\n",
    "\tif not char:\n",
    "\t\tbreak\n",
    "\t\t\n",
    "\tprint(char)\n",
    "\n",
    "file.close()\n"
   ]
  },
  {
   "cell_type": "code",
   "execution_count": null,
   "id": "e22dd4f9",
   "metadata": {},
   "outputs": [],
   "source": []
  },
  {
   "cell_type": "code",
   "execution_count": null,
   "id": "21ff2fa0",
   "metadata": {},
   "outputs": [],
   "source": [
    "8.\tPython – Get number of characters, words, spaces and lines in a file\n"
   ]
  },
  {
   "cell_type": "code",
   "execution_count": 10,
   "id": "ef9addba",
   "metadata": {},
   "outputs": [
    {
     "name": "stdout",
     "output_type": "stream",
     "text": [
      "File not found\n"
     ]
    }
   ],
   "source": [
    "# Python implementation to compute\n",
    "# number of characters, words, spaces\n",
    "# and lines in a file\n",
    "\n",
    "# Function to count number\n",
    "# of characters, words, spaces\n",
    "# and lines in a file\n",
    "def counter(fname):\n",
    "\n",
    "\t# variable to store total word count\n",
    "\tnum_words = 0\n",
    "\t\n",
    "\t# variable to store total line count\n",
    "\tnum_lines = 0\n",
    "\t\n",
    "\t# variable to store total character count\n",
    "\tnum_charc = 0\n",
    "\t\n",
    "\t# variable to store total space count\n",
    "\tnum_spaces = 0\n",
    "\t\n",
    "\t# opening file using with() method\n",
    "\t# so that file gets closed\n",
    "\t# after completion of work\n",
    "\twith open(fname, 'r') as f:\n",
    "\t\t\n",
    "\t\t# loop to iterate file\n",
    "\t\t# line by line\n",
    "\t\tfor line in f:\n",
    "\t\t\t\n",
    "\t\t\t# incrementing value of\n",
    "\t\t\t# num_lines with each\n",
    "\t\t\t# iteration of loop to\n",
    "\t\t\t# store total line count\n",
    "\t\t\tnum_lines += 1\n",
    "\t\t\t\n",
    "\t\t\t# declaring a variable word\n",
    "\t\t\t# and assigning its value as Y\n",
    "\t\t\t# because every file is\n",
    "\t\t\t# supposed to start with\n",
    "\t\t\t# a word or a character\n",
    "\t\t\tword = 'Y'\n",
    "\t\t\t\n",
    "\t\t\t# loop to iterate every\n",
    "\t\t\t# line letter by letter\n",
    "\t\t\tfor letter in line:\n",
    "\t\t\t\t\n",
    "\t\t\t\t# condition to check\n",
    "\t\t\t\t# that the encountered character\n",
    "\t\t\t\t# is not white space and a word\n",
    "\t\t\t\tif (letter != ' ' and word == 'Y'):\n",
    "\t\t\t\t\t\n",
    "\t\t\t\t\t# incrementing the word\n",
    "\t\t\t\t\t# count by 1\n",
    "\t\t\t\t\tnum_words += 1\n",
    "\t\t\t\t\t\n",
    "\t\t\t\t\t# assigning value N to\n",
    "\t\t\t\t\t# variable word because until\n",
    "\t\t\t\t\t# space will not encounter\n",
    "\t\t\t\t\t# a word can not be completed\n",
    "\t\t\t\t\tword = 'N'\n",
    "\t\t\t\t\t\n",
    "\t\t\t\t# condition to check\n",
    "\t\t\t\t# that the encountered character\n",
    "\t\t\t\t# is a white space\n",
    "\t\t\t\telif (letter == ' '):\n",
    "\t\t\t\t\t\n",
    "\t\t\t\t\t# incrementing the space\n",
    "\t\t\t\t\t# count by 1\n",
    "\t\t\t\t\tnum_spaces += 1\n",
    "\t\t\t\t\t\n",
    "\t\t\t\t\t# assigning value Y to\n",
    "\t\t\t\t\t# variable word because after\n",
    "\t\t\t\t\t# white space a word\n",
    "\t\t\t\t\t# is supposed to occur\n",
    "\t\t\t\t\tword = 'Y'\n",
    "\t\t\t\t\t\n",
    "\t\t\t\t# loop to iterate every\n",
    "\t\t\t\t# letter character by\n",
    "\t\t\t\t# character\n",
    "\t\t\t\tfor i in letter:\n",
    "\t\t\t\t\t\n",
    "\t\t\t\t\t# condition to check\n",
    "\t\t\t\t\t# that the encountered character\n",
    "\t\t\t\t\t# is not white space and not\n",
    "\t\t\t\t\t# a newline character\n",
    "\t\t\t\t\tif(i !=\" \" and i !=\"\\n\"):\n",
    "\t\t\t\t\t\t\n",
    "\t\t\t\t\t\t# incrementing character\n",
    "\t\t\t\t\t\t# count by 1\n",
    "\t\t\t\t\t\tnum_charc += 1\n",
    "\t\t\t\t\t\t\n",
    "\t# printing total word count\n",
    "\tprint(\"Number of words in text file: \", num_words)\n",
    "\t\n",
    "\t# printing total line count\n",
    "\tprint(\"Number of lines in text file: \", num_lines)\n",
    "\t\n",
    "\t# printing total character count\n",
    "\tprint('Number of characters in text file: ', num_charc)\n",
    "\t\n",
    "\t# printing total space count\n",
    "\tprint('Number of spaces in text file: ', num_spaces)\n",
    "\t\n",
    "# Driver Code:\n",
    "if __name__ == '__main__':\n",
    "\tfname = 'File1.txt'\n",
    "\ttry:\n",
    "\t\tcounter(fname)\n",
    "\texcept:\n",
    "\t\tprint('File not found')\n"
   ]
  },
  {
   "cell_type": "code",
   "execution_count": null,
   "id": "c8f94567",
   "metadata": {},
   "outputs": [],
   "source": []
  },
  {
   "cell_type": "code",
   "execution_count": null,
   "id": "140e3646",
   "metadata": {},
   "outputs": [],
   "source": [
    "9.\tPython program to Count the Number of occurrences of a key-value pair in a text file\n"
   ]
  },
  {
   "cell_type": "code",
   "execution_count": null,
   "id": "d1ad0c90",
   "metadata": {},
   "outputs": [],
   "source": [
    "# Python program to count the\n",
    "# occurrences of key-value pair\n",
    "# in the text file\n",
    "\n",
    "\n",
    "# opening text file\n",
    "f = open(\"file.txt\", \"r\")\n",
    "d = dict()\n",
    "\n",
    "for res in f:\n",
    "\t# removing new line and extra\n",
    "\t# space characters\n",
    "\tres = res.strip()\n",
    "\n",
    "\t# changing ase to prevent matching\n",
    "\t# errors\n",
    "\tres = res.lower()\n",
    "\n",
    "\t# separating key-value pairs\n",
    "\tlines = res.split()\n",
    "\n",
    "\tfor line in lines:\n",
    "\n",
    "\t\tif line in d:\n",
    "\n",
    "\t\t\t# If the key-value pair\n",
    "\t\t\t# is present in d then\n",
    "\t\t\t# increment its value by one\n",
    "\t\t\td[line] = d[line]+1\n",
    "\t\telse:\n",
    "\n",
    "\t\t\t# Insert the key-value pair\n",
    "\t\t\t# in the dictionary and sets\n",
    "\t\t\t# its value to one\n",
    "\t\t\td[line] = 1\n",
    "\n",
    "f.close()\n",
    "\n",
    "# Printing Result\n",
    "for key in list(d.keys()):\n",
    "\tprint(\"The count of {} is {}\".format(key,d[key]))\n"
   ]
  },
  {
   "cell_type": "code",
   "execution_count": null,
   "id": "30fd1442",
   "metadata": {},
   "outputs": [],
   "source": []
  },
  {
   "cell_type": "code",
   "execution_count": null,
   "id": "54ccbe0e",
   "metadata": {},
   "outputs": [],
   "source": [
    "10.\tPython | Finding ‘n’ Character Words in a Text File\n"
   ]
  },
  {
   "cell_type": "code",
   "execution_count": null,
   "id": "ff37cde9",
   "metadata": {},
   "outputs": [],
   "source": [
    "count = 1\n",
    "chrw = \"\"\n",
    "\n",
    "# text file\n",
    "file = open('textfile.txt', 'r')\n",
    "while 1:\n",
    "\tsp = file.read(1)\n",
    "\n",
    "\tif count<= 3:\n",
    "\t\tchrw = chrw + sp\n",
    "\n",
    "\tif count>3:\n",
    "\t\tif sp ==\" \":\n",
    "\t\t\tcount = 0\n",
    "\t\t\tif len(chrw)>0:\n",
    "\t\t\t\tprint(chrw)\n",
    "\t\t\t\tchrw =\"\"\n",
    "\t\telif sp !=\" \":\n",
    "\t\t\tchrw =\"\"\n",
    "\tcount = count + 1\n",
    "\n",
    "\tif not sp:\n",
    "\t\tbreak\n",
    "\n",
    "file.close()\n"
   ]
  }
 ],
 "metadata": {
  "kernelspec": {
   "display_name": "Python 3",
   "language": "python",
   "name": "python3"
  },
  "language_info": {
   "codemirror_mode": {
    "name": "ipython",
    "version": 3
   },
   "file_extension": ".py",
   "mimetype": "text/x-python",
   "name": "python",
   "nbconvert_exporter": "python",
   "pygments_lexer": "ipython3",
   "version": "3.8.8"
  }
 },
 "nbformat": 4,
 "nbformat_minor": 5
}
