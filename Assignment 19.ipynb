{
 "cells": [
  {
   "cell_type": "code",
   "execution_count": null,
   "id": "028ef1ce",
   "metadata": {},
   "outputs": [],
   "source": [
    "1.\tPython Program to Check if email address valid or not\n"
   ]
  },
  {
   "cell_type": "code",
   "execution_count": null,
   "id": "b4c1b411",
   "metadata": {},
   "outputs": [],
   "source": [
    "2.\tPython program to find files having a particular extension using RegEx\n"
   ]
  },
  {
   "cell_type": "code",
   "execution_count": null,
   "id": "966fc2ed",
   "metadata": {},
   "outputs": [],
   "source": [
    "3.\tPython program to extract IP address from file\n"
   ]
  },
  {
   "cell_type": "code",
   "execution_count": null,
   "id": "54103a2f",
   "metadata": {},
   "outputs": [],
   "source": [
    "4.\tPython program to check the validity of a Password\n"
   ]
  },
  {
   "cell_type": "code",
   "execution_count": null,
   "id": "fdc1b22e",
   "metadata": {},
   "outputs": [],
   "source": [
    "5.\tCategorize Password as Strong or Weak using Regex in Python\n"
   ]
  },
  {
   "cell_type": "code",
   "execution_count": null,
   "id": "01ad1d49",
   "metadata": {},
   "outputs": [],
   "source": [
    "6.\tPython program to read file word by word\n"
   ]
  },
  {
   "cell_type": "code",
   "execution_count": null,
   "id": "3a5312bc",
   "metadata": {},
   "outputs": [],
   "source": [
    "7.\tPython program to read character by character from a file\n"
   ]
  },
  {
   "cell_type": "code",
   "execution_count": null,
   "id": "21ff2fa0",
   "metadata": {},
   "outputs": [],
   "source": [
    "8.\tPython – Get number of characters, words, spaces and lines in a file\n"
   ]
  },
  {
   "cell_type": "code",
   "execution_count": null,
   "id": "140e3646",
   "metadata": {},
   "outputs": [],
   "source": [
    "9.\tPython program to Count the Number of occurrences of a key-value pair in a text file\n"
   ]
  },
  {
   "cell_type": "code",
   "execution_count": null,
   "id": "54ccbe0e",
   "metadata": {},
   "outputs": [],
   "source": [
    "10.\tPython | Finding ‘n’ Character Words in a Text File\n"
   ]
  },
  {
   "cell_type": "code",
   "execution_count": null,
   "id": "ff37cde9",
   "metadata": {},
   "outputs": [],
   "source": []
  }
 ],
 "metadata": {
  "kernelspec": {
   "display_name": "Python 3",
   "language": "python",
   "name": "python3"
  },
  "language_info": {
   "codemirror_mode": {
    "name": "ipython",
    "version": 3
   },
   "file_extension": ".py",
   "mimetype": "text/x-python",
   "name": "python",
   "nbconvert_exporter": "python",
   "pygments_lexer": "ipython3",
   "version": "3.8.8"
  }
 },
 "nbformat": 4,
 "nbformat_minor": 5
}
