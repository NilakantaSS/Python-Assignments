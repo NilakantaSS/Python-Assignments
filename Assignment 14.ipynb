{
 "cells": [
  {
   "cell_type": "code",
   "execution_count": null,
   "id": "5a869a88",
   "metadata": {},
   "outputs": [],
   "source": [
    "1.\tPython Program for Recursive Insertion Sort\n"
   ]
  },
  {
   "cell_type": "code",
   "execution_count": 2,
   "id": "a7a301f9",
   "metadata": {},
   "outputs": [
    {
     "name": "stdout",
     "output_type": "stream",
     "text": [
      "5 6 11 12 13 "
     ]
    }
   ],
   "source": [
    "# Recursive Python program for insertion sort\n",
    "# Recursive function to sort an array using insertion sort\n",
    "\n",
    "def insertionSortRecursive(arr,n):\n",
    "\t# base case\n",
    "\tif n<=1:\n",
    "\t\treturn\n",
    "\t\n",
    "\t# Sort first n-1 elements\n",
    "\tinsertionSortRecursive(arr,n-1)\n",
    "\t'''Insert last element at its correct position\n",
    "\t\tin sorted array.'''\n",
    "\tlast = arr[n-1]\n",
    "\tj = n-2\n",
    "\t\n",
    "\t# Move elements of arr[0..i-1], that are\n",
    "\t# greater than key, to one position ahead\n",
    "\t# of their current position\n",
    "\twhile (j>=0 and arr[j]>last):\n",
    "\t\tarr[j+1] = arr[j]\n",
    "\t\tj = j-1\n",
    "\n",
    "\tarr[j+1]=last\n",
    "\t\n",
    "# A utility function to print an array of size n\n",
    "def printArray(arr,n):\n",
    "\tfor i in range(n):\n",
    "\t\tprint(arr[i],end=\" \")\n",
    "\n",
    "# Driver program to test insertion sort\n",
    "arr = [12,11,13,5,6]\n",
    "n = len(arr)\n",
    "insertionSortRecursive(arr, n)\n",
    "printArray(arr, n)\n",
    "\n",
    "# Contributed by Harsh Valecha\n"
   ]
  },
  {
   "cell_type": "code",
   "execution_count": null,
   "id": "d770c9da",
   "metadata": {},
   "outputs": [],
   "source": []
  },
  {
   "cell_type": "code",
   "execution_count": null,
   "id": "eaa1cc2d",
   "metadata": {},
   "outputs": [],
   "source": [
    "2.\tPython Program for QuickSort\n"
   ]
  },
  {
   "cell_type": "code",
   "execution_count": 3,
   "id": "808aa0fe",
   "metadata": {},
   "outputs": [
    {
     "name": "stdout",
     "output_type": "stream",
     "text": [
      "Sorted array is:\n",
      "1\n",
      "5\n",
      "7\n",
      "8\n",
      "9\n",
      "10\n"
     ]
    }
   ],
   "source": [
    "# Python program for implementation of Quicksort Sort\n",
    "\n",
    "# This function takes last element as pivot, places\n",
    "# the pivot element at its correct position in sorted\n",
    "# array, and places all smaller (smaller than pivot)\n",
    "# to left of pivot and all greater elements to right\n",
    "# of pivot\n",
    "\n",
    "\n",
    "def partition(arr, low, high):\n",
    "\ti = (low-1)\t\t # index of smaller element\n",
    "\tpivot = arr[high]\t # pivot\n",
    "\n",
    "\tfor j in range(low, high):\n",
    "\n",
    "\t\t# If current element is smaller than or\n",
    "\t\t# equal to pivot\n",
    "\t\tif arr[j] <= pivot:\n",
    "\n",
    "\t\t\t# increment index of smaller element\n",
    "\t\t\ti = i+1\n",
    "\t\t\tarr[i], arr[j] = arr[j], arr[i]\n",
    "\n",
    "\tarr[i+1], arr[high] = arr[high], arr[i+1]\n",
    "\treturn (i+1)\n",
    "\n",
    "# The main function that implements QuickSort\n",
    "# arr[] --> Array to be sorted,\n",
    "# low --> Starting index,\n",
    "# high --> Ending index\n",
    "\n",
    "# Function to do Quick sort\n",
    "\n",
    "\n",
    "def quickSort(arr, low, high):\n",
    "\tif len(arr) == 1:\n",
    "\t\treturn arr\n",
    "\tif low < high:\n",
    "\n",
    "\t\t# pi is partitioning index, arr[p] is now\n",
    "\t\t# at right place\n",
    "\t\tpi = partition(arr, low, high)\n",
    "\n",
    "\t\t# Separately sort elements before\n",
    "\t\t# partition and after partition\n",
    "\t\tquickSort(arr, low, pi-1)\n",
    "\t\tquickSort(arr, pi+1, high)\n",
    "\n",
    "\n",
    "# Driver code to test above\n",
    "arr = [10, 7, 8, 9, 1, 5]\n",
    "n = len(arr)\n",
    "quickSort(arr, 0, n-1)\n",
    "print(\"Sorted array is:\")\n",
    "for i in range(n):\n",
    "\tprint(\"%d\" % arr[i])\n",
    "\n",
    "# This code is contributed by Mohit Kumra\n",
    "#This code in improved by https://github.com/anushkrishnav\n"
   ]
  },
  {
   "cell_type": "code",
   "execution_count": null,
   "id": "7aa078b8",
   "metadata": {},
   "outputs": [],
   "source": []
  },
  {
   "cell_type": "code",
   "execution_count": null,
   "id": "0a51e1bb",
   "metadata": {},
   "outputs": [],
   "source": [
    "3.\tPython Program for Iterative Quick Sort\n"
   ]
  },
  {
   "cell_type": "code",
   "execution_count": 4,
   "id": "a4b2c742",
   "metadata": {},
   "outputs": [
    {
     "name": "stdout",
     "output_type": "stream",
     "text": [
      "2 2 4 6 9 "
     ]
    }
   ],
   "source": [
    "# A typical recursive Python\n",
    "# implementation of QuickSort\n",
    "\n",
    "# Function takes last element as pivot,\n",
    "# places the pivot element at its correct\n",
    "# position in sorted array, and places all\n",
    "# smaller (smaller than pivot) to left of\n",
    "# pivot and all greater elements to right\n",
    "# of pivot\n",
    "def partition(arr, low, high):\n",
    "\ti = (low - 1)\t\t # index of smaller element\n",
    "\tpivot = arr[high]\t # pivot\n",
    "\n",
    "\tfor j in range(low, high):\n",
    "\n",
    "\t\t# If current element is smaller\n",
    "\t\t# than or equal to pivot\n",
    "\t\tif arr[j] <= pivot:\n",
    "\t\t\n",
    "\t\t\t# increment index of\n",
    "\t\t\t# smaller element\n",
    "\t\t\ti += 1\n",
    "\t\t\tarr[i], arr[j] = arr[j], arr[i]\n",
    "\n",
    "\tarr[i + 1], arr[high] = arr[high], arr[i + 1]\n",
    "\treturn (i + 1)\n",
    "\n",
    "# The main function that implements QuickSort\n",
    "# arr[] --> Array to be sorted,\n",
    "# low --> Starting index,\n",
    "# high --> Ending index\n",
    "\n",
    "# Function to do Quick sort\n",
    "def quickSort(arr, low, high):\n",
    "\tif low < high:\n",
    "\n",
    "\t\t# pi is partitioning index, arr[p] is now\n",
    "\t\t# at right place\n",
    "\t\tpi = partition(arr, low, high)\n",
    "\n",
    "\t\t# Separately sort elements before\n",
    "\t\t# partition and after partition\n",
    "\t\tquickSort(arr, low, pi-1)\n",
    "\t\tquickSort(arr, pi + 1, high)\n",
    "\n",
    "# Driver Code\n",
    "if __name__ == '__main__' :\n",
    "\t\n",
    "\tarr = [4, 2, 6, 9, 2]\n",
    "\tn = len(arr)\n",
    "\t\n",
    "\t# Calling quickSort function\n",
    "\tquickSort(arr, 0, n - 1)\n",
    "\t\n",
    "\tfor i in range(n):\n",
    "\t\tprint(arr[i], end = \" \")\n"
   ]
  },
  {
   "cell_type": "code",
   "execution_count": null,
   "id": "8816590b",
   "metadata": {},
   "outputs": [],
   "source": []
  },
  {
   "cell_type": "code",
   "execution_count": null,
   "id": "3e1531ab",
   "metadata": {},
   "outputs": [],
   "source": [
    "4.\tPython Program for Selection Sort\n"
   ]
  },
  {
   "cell_type": "code",
   "execution_count": 6,
   "id": "9d065eae",
   "metadata": {},
   "outputs": [
    {
     "name": "stdout",
     "output_type": "stream",
     "text": [
      "Sorted array\n",
      "11\n",
      "12\n",
      "22\n",
      "25\n",
      "64\n"
     ]
    }
   ],
   "source": [
    "# Python program for implementation of Selection\n",
    "# Sort\n",
    "import sys\n",
    "A = [64, 25, 12, 22, 11]\n",
    "\n",
    "# Traverse through all array elements\n",
    "for i in range(len(A)):\n",
    "\t\n",
    "\t# Find the minimum element in remaining\n",
    "\t# unsorted array\n",
    "\tmin_idx = i\n",
    "\tfor j in range(i+1, len(A)):\n",
    "\t\tif A[min_idx] > A[j]:\n",
    "\t\t\tmin_idx = j\n",
    "\t\t\t\n",
    "\t# Swap the found minimum element with\n",
    "\t# the first element\t\t\n",
    "\tA[i], A[min_idx] = A[min_idx], A[i]\n",
    "\n",
    "# Driver code to test above\n",
    "print (\"Sorted array\")\n",
    "for i in range(len(A)):\n",
    "\tprint(\"%d\" %A[i]),\n"
   ]
  },
  {
   "cell_type": "code",
   "execution_count": null,
   "id": "ec90334d",
   "metadata": {},
   "outputs": [],
   "source": []
  },
  {
   "cell_type": "code",
   "execution_count": null,
   "id": "b7a5b7bf",
   "metadata": {},
   "outputs": [],
   "source": [
    "5.\tPython Program for Bubble Sort\n"
   ]
  },
  {
   "cell_type": "code",
   "execution_count": 8,
   "id": "d0b8cdad",
   "metadata": {},
   "outputs": [
    {
     "name": "stdout",
     "output_type": "stream",
     "text": [
      "Sorted array is:\n",
      " 11  12  22  25  34  64  90 "
     ]
    }
   ],
   "source": [
    "# Python program for implementation of Bubble Sort\n",
    "\n",
    "def bubbleSort(arr):\n",
    "\tn = len(arr)\n",
    "\n",
    "\t# Traverse through all array elements\n",
    "\tfor i in range(n-1):\n",
    "\t# range(n) also work but outer loop will\n",
    "\t# repeat one time more than needed.\n",
    "\n",
    "\t\t# Last i elements are already in place\n",
    "\t\tfor j in range(0, n-i-1):\n",
    "\n",
    "\t\t\t# traverse the array from 0 to n-i-1\n",
    "\t\t\t# Swap if the element found is greater\n",
    "\t\t\t# than the next element\n",
    "\t\t\tif arr[j] > arr[j + 1] :\n",
    "\t\t\t\tarr[j], arr[j + 1] = arr[j + 1], arr[j]\n",
    "\n",
    "# Driver code to test above\n",
    "arr = [64, 34, 25, 12, 22, 11, 90]\n",
    "\n",
    "bubbleSort(arr)\n",
    "\n",
    "print (\"Sorted array is:\")\n",
    "for i in range(len(arr)):\n",
    "\tprint (\"% d\" % arr[i],end=\" \")\n"
   ]
  },
  {
   "cell_type": "code",
   "execution_count": null,
   "id": "d9da7c6b",
   "metadata": {},
   "outputs": [],
   "source": []
  },
  {
   "cell_type": "code",
   "execution_count": null,
   "id": "8c7ba96f",
   "metadata": {},
   "outputs": [],
   "source": [
    "6.\tPython Program for Merge Sort\n"
   ]
  },
  {
   "cell_type": "code",
   "execution_count": 5,
   "id": "b324c1e7",
   "metadata": {},
   "outputs": [
    {
     "name": "stdout",
     "output_type": "stream",
     "text": [
      "Sorted array is: \n",
      "0 1 2 3 4 5 6 7 8 9 \n"
     ]
    }
   ],
   "source": [
    "def mergeSort(arr):\n",
    "\n",
    "    if len(arr) > 1:\n",
    "\n",
    "        a = len(arr)//2\n",
    "\n",
    "        l = arr[:a]\n",
    "\n",
    "        r = arr[a:]\n",
    "\n",
    "        # Sort the two halves\n",
    "\n",
    "        mergeSort(l)\n",
    "\n",
    "        mergeSort(r) \n",
    "\n",
    "        b = c = d = 0\n",
    "\n",
    "        while b < len(l) and c < len(r):\n",
    "\n",
    "            if l[b] < r[c]:\n",
    "\n",
    "                arr[d] = l[b]\n",
    "\n",
    "                b += 1\n",
    "\n",
    "            else:\n",
    "\n",
    "                arr[d] = r[c]\n",
    "\n",
    "                c += 1\n",
    "\n",
    "            d += 1\n",
    "\n",
    "        while b < len(l):\n",
    "\n",
    "            arr[d] = l[b]\n",
    "\n",
    "            b += 1\n",
    "\n",
    "            d += 1\n",
    "\n",
    "        while c < len(r):\n",
    "\n",
    "            arr[d] = r[c]\n",
    "\n",
    "            c += 1\n",
    "\n",
    "            d += 1\n",
    "\n",
    "\n",
    "def printList(arr):\n",
    "\n",
    "    for i in range(len(arr)):\n",
    "\n",
    "        print(arr[i], end=\" \")\n",
    "\n",
    "    print()\n",
    " \n",
    "\n",
    "# Driver program\n",
    "\n",
    "if __name__ == '__main__':\n",
    "\n",
    "    arr = [0,1,3,5,7,9,2,4,6,8] \n",
    "\n",
    "    mergeSort(arr) \n",
    "\n",
    "    print(\"Sorted array is: \")\n",
    "\n",
    "    printList(arr)\n"
   ]
  },
  {
   "cell_type": "code",
   "execution_count": null,
   "id": "defa0d76",
   "metadata": {},
   "outputs": [],
   "source": []
  },
  {
   "cell_type": "code",
   "execution_count": null,
   "id": "3076f394",
   "metadata": {},
   "outputs": [],
   "source": [
    "7.\tPython Program for Iterative Merge Sort\n"
   ]
  },
  {
   "cell_type": "code",
   "execution_count": 6,
   "id": "d1f63437",
   "metadata": {},
   "outputs": [
    {
     "name": "stdout",
     "output_type": "stream",
     "text": [
      "The Original array is:  [4, 2, 3, 1, 6, 5]\n",
      "Array after sorting is:  [1, 2, 3, 4, 5, 6]\n"
     ]
    }
   ],
   "source": [
    "def merge(S, temp, From, mid, to):\n",
    " \n",
    "    a = From\n",
    "    b = From\n",
    "    c = mid + 1\n",
    " \n",
    "    while b <= mid and c <= to:\n",
    "        if S[b] < S[c]:\n",
    "            temp[a] = S[b]\n",
    "            b = b + 1\n",
    "        else:\n",
    "            temp[a] = S[c]\n",
    "            c = c + 1\n",
    "        a = a + 1\n",
    " \n",
    "    # remaining elements\n",
    "    while b < len(S) and b <= mid:\n",
    "        temp[a] = S[b]\n",
    "        a = a + 1\n",
    "        b = b + 1\n",
    " \n",
    "    # copy back \n",
    "    for b in range(From, to + 1):\n",
    "        S[b] = temp[b]\n",
    " \n",
    " \n",
    "# Iterative sort\n",
    "def Merge_Sort(S):\n",
    " \n",
    "    low = 0\n",
    "    high = len(S) - 1\n",
    " \n",
    "    # sort list\n",
    "    temp = S.copy()\n",
    " \n",
    "    d = 1\n",
    "    while d <= high - low:\n",
    " \n",
    "        for b in range(low, high, 2*d):\n",
    "            From = b\n",
    "            mid = b + d - 1\n",
    "            to = min(b + 2*d - 1, high)\n",
    "            merge(S, temp, From, mid, to)\n",
    " \n",
    "        d = 2*d\n",
    " \n",
    "# Iterative implementation\n",
    "if __name__ == '__main__':\n",
    " \n",
    "    #driver code\n",
    "    S = [4, 2, 3, 1, 6, 5]\n",
    "    print(\"The Original array is: \", S)\n",
    "    Merge_Sort(S)\n",
    "    print(\"Array after sorting is: \", S)"
   ]
  },
  {
   "cell_type": "code",
   "execution_count": null,
   "id": "ed45d940",
   "metadata": {},
   "outputs": [],
   "source": []
  },
  {
   "cell_type": "code",
   "execution_count": null,
   "id": "0ce95fc9",
   "metadata": {},
   "outputs": [],
   "source": [
    "8.\tPython Program for Heap Sort\n"
   ]
  },
  {
   "cell_type": "code",
   "execution_count": 7,
   "id": "3b2c9a4b",
   "metadata": {},
   "outputs": [
    {
     "name": "stdout",
     "output_type": "stream",
     "text": [
      "Sorted array is\n",
      "2 3 4 5 5 6 7 8 "
     ]
    }
   ],
   "source": [
    "# heapify\n",
    "def heapify(arr, n, i):\n",
    "   largest = i # largest value\n",
    "   l = 2 * i + 1 # left\n",
    "   r = 2 * i + 2 # right\n",
    "   # if left child exists\n",
    "   if l < n and arr[i] < arr[l]:\n",
    "      largest = l\n",
    "   # if right child exits\n",
    "   if r < n and arr[largest] < arr[r]:\n",
    "      largest = r\n",
    "   # root\n",
    "   if largest != i:\n",
    "      arr[i],arr[largest] = arr[largest],arr[i] # swap\n",
    "      # root.\n",
    "      heapify(arr, n, largest)\n",
    "# sort\n",
    "def heapSort(arr):\n",
    "   n = len(arr)\n",
    "   # maxheap\n",
    "   for i in range(n, -1, -1):\n",
    "      heapify(arr, n, i)\n",
    "         # element extraction\n",
    "   for i in range(n-1, 0, -1):\n",
    "      arr[i], arr[0] = arr[0], arr[i] # swap\n",
    "      heapify(arr, i, 0)\n",
    "# main\n",
    "arr = [2,5,3,8,6,5,4,7]\n",
    "heapSort(arr)\n",
    "n = len(arr)\n",
    "print (\"Sorted array is\")\n",
    "for i in range(n):\n",
    "   print (arr[i],end=\" \")"
   ]
  },
  {
   "cell_type": "code",
   "execution_count": null,
   "id": "bd4b6a62",
   "metadata": {},
   "outputs": [],
   "source": []
  },
  {
   "cell_type": "code",
   "execution_count": null,
   "id": "5da6cc10",
   "metadata": {},
   "outputs": [],
   "source": [
    "9.\tPython Program for Counting Sort\n"
   ]
  },
  {
   "cell_type": "code",
   "execution_count": 10,
   "id": "3884e471",
   "metadata": {},
   "outputs": [
    {
     "name": "stdout",
     "output_type": "stream",
     "text": [
      "Given array is\n",
      "12 11 13 5 6 7 \n",
      "\n",
      "Sorted array is\n",
      "5 6 7 11 12 13 "
     ]
    }
   ],
   "source": [
    "# Python program for implementation of MergeSort\n",
    "\n",
    "# Merges two subarrays of arr[].\n",
    "# First subarray is arr[l..m]\n",
    "# Second subarray is arr[m+1..r]\n",
    "\n",
    "\n",
    "def merge(arr, l, m, r):\n",
    "\tn1 = m - l + 1\n",
    "\tn2 = r - m\n",
    "\n",
    "\t# create temp arrays\n",
    "\tL = [0] * (n1)\n",
    "\tR = [0] * (n2)\n",
    "\n",
    "\t# Copy data to temp arrays L[] and R[]\n",
    "\tfor i in range(0, n1):\n",
    "\t\tL[i] = arr[l + i]\n",
    "\n",
    "\tfor j in range(0, n2):\n",
    "\t\tR[j] = arr[m + 1 + j]\n",
    "\n",
    "\t# Merge the temp arrays back into arr[l..r]\n",
    "\ti = 0\t # Initial index of first subarray\n",
    "\tj = 0\t # Initial index of second subarray\n",
    "\tk = l\t # Initial index of merged subarray\n",
    "\n",
    "\twhile i < n1 and j < n2:\n",
    "\t\tif L[i] <= R[j]:\n",
    "\t\t\tarr[k] = L[i]\n",
    "\t\t\ti += 1\n",
    "\t\telse:\n",
    "\t\t\tarr[k] = R[j]\n",
    "\t\t\tj += 1\n",
    "\t\tk += 1\n",
    "\n",
    "\t# Copy the remaining elements of L[], if there\n",
    "\t# are any\n",
    "\twhile i < n1:\n",
    "\t\tarr[k] = L[i]\n",
    "\t\ti += 1\n",
    "\t\tk += 1\n",
    "\n",
    "\t# Copy the remaining elements of R[], if there\n",
    "\t# are any\n",
    "\twhile j < n2:\n",
    "\t\tarr[k] = R[j]\n",
    "\t\tj += 1\n",
    "\t\tk += 1\n",
    "\n",
    "# l is for left index and r is right index of the\n",
    "# sub-array of arr to be sorted\n",
    "\n",
    "\n",
    "def mergeSort(arr, l, r):\n",
    "\tif l < r:\n",
    "\n",
    "\t\t# Same as (l+r)//2, but avoids overflow for\n",
    "\t\t# large l and h\n",
    "\t\tm = l+(r-l)//2\n",
    "\n",
    "\t\t# Sort first and second halves\n",
    "\t\tmergeSort(arr, l, m)\n",
    "\t\tmergeSort(arr, m+1, r)\n",
    "\t\tmerge(arr, l, m, r)\n",
    "\n",
    "\n",
    "# Driver code to test above\n",
    "arr = [12, 11, 13, 5, 6, 7]\n",
    "n = len(arr)\n",
    "print(\"Given array is\")\n",
    "for i in range(n):\n",
    "\tprint(\"%d\" % arr[i],end=\" \")\n",
    "\n",
    "mergeSort(arr, 0, n-1)\n",
    "print(\"\\n\\nSorted array is\")\n",
    "for i in range(n):\n",
    "\tprint(\"%d\" % arr[i],end=\" \")\n",
    "\n",
    "# This code is contributed by Mohit Kumra\n"
   ]
  },
  {
   "cell_type": "code",
   "execution_count": null,
   "id": "9799c7e4",
   "metadata": {},
   "outputs": [],
   "source": []
  },
  {
   "cell_type": "code",
   "execution_count": null,
   "id": "cfa10ba1",
   "metadata": {},
   "outputs": [],
   "source": [
    "10.\tPython Program for ShellSort\n"
   ]
  },
  {
   "cell_type": "code",
   "execution_count": 4,
   "id": "134af196",
   "metadata": {},
   "outputs": [
    {
     "name": "stdout",
     "output_type": "stream",
     "text": [
      "Original List\n",
      "10 1 23 50 4 9 -4 \n",
      "\n",
      "Sorted List\n",
      "-4 1 4 9 10 23 50 \n",
      "\n"
     ]
    }
   ],
   "source": [
    "# function for shell sort\n",
    "def shellsort(MyList): \n",
    "  n = len(MyList)\n",
    "  gap = n // 2 \n",
    "  while gap > 0: \n",
    "    for i in range(gap,n): \n",
    "      temp = MyList[i] \n",
    "      j = i \n",
    "      while  j >= gap and MyList[j-gap] > temp: \n",
    "        MyList[j] = MyList[j-gap] \n",
    "        j = j - gap \n",
    "      MyList[j] = temp \n",
    "    gap = gap // 2\n",
    "\n",
    "# function to print list\n",
    "def PrintList(MyList):\n",
    "  for i in MyList:\n",
    "    print(i, end=\" \")\n",
    "  print(\"\\n\")\n",
    "  \n",
    "# test the code                 \n",
    "MyList = [10, 1, 23, 50, 4, 9, -4]\n",
    "print(\"Original List\")\n",
    "PrintList(MyList)\n",
    "\n",
    "shellsort(MyList)\n",
    "print(\"Sorted List\")\n",
    "PrintList(MyList)"
   ]
  },
  {
   "cell_type": "code",
   "execution_count": null,
   "id": "83348a84",
   "metadata": {},
   "outputs": [],
   "source": []
  }
 ],
 "metadata": {
  "kernelspec": {
   "display_name": "Python 3",
   "language": "python",
   "name": "python3"
  },
  "language_info": {
   "codemirror_mode": {
    "name": "ipython",
    "version": 3
   },
   "file_extension": ".py",
   "mimetype": "text/x-python",
   "name": "python",
   "nbconvert_exporter": "python",
   "pygments_lexer": "ipython3",
   "version": "3.8.8"
  }
 },
 "nbformat": 4,
 "nbformat_minor": 5
}
