{
 "cells": [
  {
   "cell_type": "code",
   "execution_count": null,
   "id": "06868e82",
   "metadata": {},
   "outputs": [],
   "source": [
    "1.\tPython | Convert a list of Tuples into Dictionary\n"
   ]
  },
  {
   "cell_type": "code",
   "execution_count": 2,
   "id": "a0cb6dcb",
   "metadata": {},
   "outputs": [
    {
     "name": "stdout",
     "output_type": "stream",
     "text": [
      "{'akash': [10], 'gaurav': [12], 'anand': [14], 'suraj': [20], 'akhil': [25], 'ashish': [30]}\n"
     ]
    }
   ],
   "source": [
    "# Python code to convert into dictionary\n",
    "\n",
    "def Convert(tup, di):\n",
    "\tfor a, b in tup:\n",
    "\t\tdi.setdefault(a, []).append(b)\n",
    "\treturn di\n",
    "\t\n",
    "# Driver Code\t\n",
    "tups = [(\"akash\", 10), (\"gaurav\", 12), (\"anand\", 14),\n",
    "\t(\"suraj\", 20), (\"akhil\", 25), (\"ashish\", 30)]\n",
    "dictionary = {}\n",
    "print (Convert(tups, dictionary))\n"
   ]
  },
  {
   "cell_type": "code",
   "execution_count": null,
   "id": "51b3fce0",
   "metadata": {},
   "outputs": [],
   "source": []
  },
  {
   "cell_type": "code",
   "execution_count": null,
   "id": "ab12b67c",
   "metadata": {},
   "outputs": [],
   "source": [
    "2.\tPython counter and dictionary intersection example (Make a string using deletion and rearrangement)\n"
   ]
  },
  {
   "cell_type": "code",
   "execution_count": 3,
   "id": "e7d8fdcb",
   "metadata": {},
   "outputs": [
    {
     "name": "stdout",
     "output_type": "stream",
     "text": [
      "Possible\n"
     ]
    }
   ],
   "source": [
    "# Python code to find if we can make first string\n",
    "# from second by deleting some characters from\n",
    "# second and rearranging remaining characters.\n",
    "from collections import Counter\n",
    "\n",
    "def makeString(str1,str2):\n",
    "\n",
    "\t# convert both strings into dictionaries\n",
    "\t# output will be like str1=\"aabbcc\",\n",
    "\t# dict1={'a':2,'b':2,'c':2}\n",
    "\t# str2 = 'abbbcc', dict2={'a':1,'b':3,'c':2}\n",
    "\tdict1 = Counter(str1)\n",
    "\tdict2 = Counter(str2)\n",
    "\n",
    "\t# take intersection of two dictionries\n",
    "\t# output will be result = {'a':1,'b':2,'c':2}\n",
    "\tresult = dict1 & dict2\n",
    "\n",
    "\t# compare resultant dictionary with first\n",
    "\t# dictionary comparison first compares keys\n",
    "\t# and then compares their corresponding values\n",
    "\treturn result == dict1\n",
    "\n",
    "# Driver program\n",
    "if __name__ == \"__main__\":\n",
    "\tstr1 = 'ABHISHEKsinGH'\n",
    "\tstr2 = 'gfhfBHkooIHnfndSHEKsiAnG'\n",
    "\tif (makeString(str1,str2)==True):\n",
    "\t\tprint(\"Possible\")\n",
    "\telse:\n",
    "\t\tprint(\"Not Possible\")\n"
   ]
  },
  {
   "cell_type": "code",
   "execution_count": null,
   "id": "5d35348a",
   "metadata": {},
   "outputs": [],
   "source": []
  },
  {
   "cell_type": "code",
   "execution_count": null,
   "id": "ba11dd9c",
   "metadata": {},
   "outputs": [],
   "source": [
    "3.\tPython dictionary, set and counter to check if frequencies can become same\n"
   ]
  },
  {
   "cell_type": "code",
   "execution_count": 4,
   "id": "7a17ae10",
   "metadata": {},
   "outputs": [
    {
     "name": "stdout",
     "output_type": "stream",
     "text": [
      "No\n"
     ]
    }
   ],
   "source": [
    "# Function to Check if frequency of all characters\n",
    "# can become same by one removal\n",
    "from collections import Counter\n",
    "\n",
    "def allSame(input):\n",
    "\t\n",
    "\t# calculate frequency of each character\n",
    "\t# and convert string into dictionary\n",
    "\tdict=Counter(input)\n",
    "\n",
    "\t# now get list of all values and push it\n",
    "\t# in set\n",
    "\tsame = list(set(dict.values()))\n",
    "\n",
    "\tif len(same)>2:\n",
    "\t\tprint('No')\n",
    "\telif len (same)==2 and same[1]-same[0]>1:\n",
    "\t\tprint('No')\n",
    "\telse:\n",
    "\t\tprint('Yes')\n",
    "\n",
    "\t\n",
    "\t# now check if frequency of all characters\n",
    "\t# can become same\n",
    "\t\n",
    "# Driver program\n",
    "if __name__ == \"__main__\":\n",
    "\tinput = 'xxxyyzzt'\n",
    "\tallSame(input)\n"
   ]
  },
  {
   "cell_type": "code",
   "execution_count": null,
   "id": "e7450c03",
   "metadata": {},
   "outputs": [],
   "source": []
  },
  {
   "cell_type": "code",
   "execution_count": null,
   "id": "ed50d836",
   "metadata": {},
   "outputs": [],
   "source": [
    "4.\tScraping And Finding Ordered Words In A Dictionary using Python\n"
   ]
  },
  {
   "cell_type": "code",
   "execution_count": 5,
   "id": "275d422d",
   "metadata": {},
   "outputs": [],
   "source": [
    "# Python program to find ordered words\n",
    "import requests\n",
    "\n",
    "# Scrapes the words from the URL below and stores\n",
    "# them in a list\n",
    "def getWords():\n",
    "\n",
    "\t# contains about 2500 words\n",
    "\turl = \"http://www.puzzlers.org/pub/wordlists/unixdict.txt\"\n",
    "\tfetchData = requests.get(url)\n",
    "\n",
    "\t# extracts the content of the webpage\n",
    "\twordList = fetchData.content\n",
    "\n",
    "\t# decodes the UTF-8 encoded text and splits the\n",
    "\t# string to turn it into a list of words\n",
    "\twordList = wordList.decode(\"utf-8\").split()\n",
    "\n",
    "\treturn wordList\n",
    "\n",
    "\n",
    "# function to determine whether a word is ordered or not\n",
    "def isOrdered():\n",
    "\n",
    "\t# fetching the wordList\n",
    "\tcollection = getWords()\n",
    "\n",
    "\t# since the first few of the elements of the\n",
    "\t# dictionary are numbers, getting rid of those\n",
    "\t# numbers by slicing off the first 17 elements\n",
    "\tcollection = collection[16:]\n",
    "\tword = ''\n",
    "\n",
    "\tfor word in collection:\n",
    "\t\tresult = 'Word is ordered'\n",
    "\t\ti = 0\n",
    "\t\tl = len(word) - 1\n",
    "\n",
    "\t\tif (len(word) < 3): # skips the 1 and 2 lettered strings\n",
    "\t\t\tcontinue\n",
    "\n",
    "\t\t# traverses through all characters of the word in pairs\n",
    "\t\twhile i < l:\t\t\n",
    "\t\t\tif (ord(word[i]) > ord(word[i+1])):\n",
    "\t\t\t\tresult = 'Word is not ordered'\n",
    "\t\t\t\tbreak\n",
    "\t\t\telse:\n",
    "\t\t\t\ti += 1\n",
    "\n",
    "\t\t# only printing the ordered words\n",
    "\t\tif (result == 'Word is ordered'):\n",
    "\t\t\tprint(word,': ',result)\n",
    "\n",
    "\n",
    "# execute isOrdered() function\n",
    "if __name__ == '__main__':\n",
    "\tisOrdered()\n"
   ]
  },
  {
   "cell_type": "code",
   "execution_count": null,
   "id": "472272b9",
   "metadata": {},
   "outputs": [],
   "source": []
  },
  {
   "cell_type": "code",
   "execution_count": null,
   "id": "05b4c681",
   "metadata": {},
   "outputs": [],
   "source": [
    "5.\tPossible Words using given characters in Python\n"
   ]
  },
  {
   "cell_type": "code",
   "execution_count": 6,
   "id": "2c31dfde",
   "metadata": {},
   "outputs": [
    {
     "name": "stdout",
     "output_type": "stream",
     "text": [
      "me\n",
      "goal\n"
     ]
    }
   ],
   "source": [
    "# Function to print words which can be created\n",
    "# using given set of characters\n",
    "\n",
    "\n",
    "\n",
    "def charCount(word):\n",
    "\tdict = {}\n",
    "\tfor i in word:\n",
    "\t\tdict[i] = dict.get(i, 0) + 1\n",
    "\treturn dict\n",
    "\n",
    "\n",
    "def possible_words(lwords, charSet):\n",
    "\tfor word in lwords:\n",
    "\t\tflag = 1\n",
    "\t\tchars = charCount(word)\n",
    "\t\tfor key in chars:\n",
    "\t\t\tif key not in charSet:\n",
    "\t\t\t\tflag = 0\n",
    "\t\t\telse:\n",
    "\t\t\t\tif charSet.count(key) != chars[key]:\n",
    "\t\t\t\t\tflag = 0\n",
    "\t\tif flag == 1:\n",
    "\t\t\tprint(word)\n",
    "\n",
    "if __name__ == \"__main__\":\n",
    "\tinput = ['goo', 'bat', 'me', 'eat', 'goal', 'boy', 'run']\n",
    "\tcharSet = ['e', 'o', 'b', 'a', 'm', 'g', 'l']\n",
    "\tpossible_words(input, charSet)\n"
   ]
  },
  {
   "cell_type": "code",
   "execution_count": null,
   "id": "3a9b13eb",
   "metadata": {},
   "outputs": [],
   "source": []
  },
  {
   "cell_type": "code",
   "execution_count": null,
   "id": "28ceec40",
   "metadata": {},
   "outputs": [],
   "source": [
    "6.\tPython – Keys associated with Values in Dictionary\n"
   ]
  },
  {
   "cell_type": "code",
   "execution_count": 7,
   "id": "c22367fa",
   "metadata": {},
   "outputs": [
    {
     "name": "stdout",
     "output_type": "stream",
     "text": [
      "The original dictionary : {'gfg': [4, 5], 'is': [8], 'best': [10, 12]}\n",
      "The keys mapped to [5, 10] are : ['gfg', 'best']\n"
     ]
    }
   ],
   "source": [
    "# Python3 code to demonstrate working of\n",
    "# Value's Key association\n",
    "# Using loop + items()\n",
    "\n",
    "# initializing dictionary\n",
    "test_dict = {'gfg' : [4, 5], 'is' : [8], 'best' : [10, 12]}\n",
    "\n",
    "# printing original dictionary\n",
    "print(\"The original dictionary : \" + str(test_dict))\n",
    "\n",
    "# initializing value list\n",
    "val_list = [5, 10]\n",
    "\n",
    "# Value's Key association\n",
    "# Using loop + items()\n",
    "temp = {}\n",
    "for key, vals in test_dict.items():\n",
    "\tfor val in vals:\n",
    "\t\ttemp[val] = key\n",
    "res = [temp[ele] for ele in val_list]\n",
    "\n",
    "# printing result\n",
    "print(\"The keys mapped to \" + str(val_list) + \" are : \" + str(res))\n"
   ]
  },
  {
   "cell_type": "code",
   "execution_count": null,
   "id": "28294be9",
   "metadata": {},
   "outputs": [],
   "source": []
  },
  {
   "cell_type": "code",
   "execution_count": null,
   "id": "e8a8346b",
   "metadata": {},
   "outputs": [],
   "source": [
    "7.\tPython program to Find the size of a Tuple\n"
   ]
  },
  {
   "cell_type": "code",
   "execution_count": 8,
   "id": "e4322a1a",
   "metadata": {},
   "outputs": [
    {
     "name": "stdout",
     "output_type": "stream",
     "text": [
      "Size of Tuple1: 88bytes\n",
      "Size of Tuple2: 88bytes\n",
      "Size of Tuple3: 72bytes\n"
     ]
    }
   ],
   "source": [
    "import sys\n",
    "\n",
    "# sample Tuples\n",
    "Tuple1 = (\"A\", 1, \"B\", 2, \"C\", 3)\n",
    "Tuple2 = (\"Geek1\", \"Raju\", \"Geek2\", \"Nikhil\", \"Geek3\", \"Deepanshu\")\n",
    "Tuple3 = ((1, \"Lion\"), ( 2, \"Tiger\"), (3, \"Fox\"), (4, \"Wolf\"))\n",
    "\n",
    "# print the sizes of sample Tuples\n",
    "print(\"Size of Tuple1: \" + str(sys.getsizeof(Tuple1)) + \"bytes\")\n",
    "print(\"Size of Tuple2: \" + str(sys.getsizeof(Tuple2)) + \"bytes\")\n",
    "print(\"Size of Tuple3: \" + str(sys.getsizeof(Tuple3)) + \"bytes\")\n"
   ]
  },
  {
   "cell_type": "code",
   "execution_count": null,
   "id": "eb886e08",
   "metadata": {},
   "outputs": [],
   "source": []
  },
  {
   "cell_type": "code",
   "execution_count": null,
   "id": "c81b960e",
   "metadata": {},
   "outputs": [],
   "source": [
    "8.\tPython – Maximum and Minimum K elements in Tuple\n"
   ]
  },
  {
   "cell_type": "code",
   "execution_count": 9,
   "id": "82bd6cc2",
   "metadata": {},
   "outputs": [
    {
     "name": "stdout",
     "output_type": "stream",
     "text": [
      "The original tuple is : (5, 20, 3, 7, 6, 8)\n",
      "The extracted values : (3, 5, 8, 20)\n"
     ]
    }
   ],
   "source": [
    "# Python3 code to demonstrate working of\n",
    "# Maximum and Minimum K elements in Tuple\n",
    "# Using sorted() + loop\n",
    "\n",
    "# initializing tuple\n",
    "test_tup = (5, 20, 3, 7, 6, 8)\n",
    "\n",
    "# printing original tuple\n",
    "print(\"The original tuple is : \" + str(test_tup))\n",
    "\n",
    "# initializing K\n",
    "K = 2\n",
    "\n",
    "# Maximum and Minimum K elements in Tuple\n",
    "# Using sorted() + loop\n",
    "res = []\n",
    "test_tup = list(sorted(test_tup))\n",
    "\n",
    "for idx, val in enumerate(test_tup):\n",
    "\tif idx < K or idx >= len(test_tup) - K:\n",
    "\t\tres.append(val)\n",
    "res = tuple(res)\n",
    "\n",
    "# printing result\n",
    "print(\"The extracted values : \" + str(res))\n"
   ]
  },
  {
   "cell_type": "code",
   "execution_count": null,
   "id": "c0b40f22",
   "metadata": {},
   "outputs": [],
   "source": []
  },
  {
   "cell_type": "code",
   "execution_count": null,
   "id": "02e58220",
   "metadata": {},
   "outputs": [],
   "source": [
    "9.\tCreate a list of tuples from given list having number and its cube in each tuple\n"
   ]
  },
  {
   "cell_type": "code",
   "execution_count": 11,
   "id": "194337b4",
   "metadata": {},
   "outputs": [
    {
     "name": "stdout",
     "output_type": "stream",
     "text": [
      "[(1, 1), (2, 8), (5, 125), (6, 216)]\n"
     ]
    }
   ],
   "source": [
    "# Python program to create a list of tuples\n",
    "# from given list having number and\n",
    "# its cube in each tuple\n",
    "\n",
    "# creating a list\n",
    "list1 = [1, 2, 5, 6]\n",
    "\n",
    "# using list comprehension to iterate each\n",
    "# values in list and create a tuple as specified\n",
    "res = [(val, pow(val, 3)) for val in list1]\n",
    "\n",
    "# print the result\n",
    "print(res)\n"
   ]
  },
  {
   "cell_type": "code",
   "execution_count": null,
   "id": "896c7b25",
   "metadata": {},
   "outputs": [],
   "source": []
  },
  {
   "cell_type": "code",
   "execution_count": null,
   "id": "d864128f",
   "metadata": {},
   "outputs": [],
   "source": [
    "10.\tPython – Adding Tuple to List and vice – versa\n"
   ]
  },
  {
   "cell_type": "code",
   "execution_count": 13,
   "id": "b4ac9e40",
   "metadata": {},
   "outputs": [
    {
     "name": "stdout",
     "output_type": "stream",
     "text": [
      "The original list is : [5, 6, 7]\n",
      "The container after addition : [5, 6, 7, 9, 10]\n"
     ]
    }
   ],
   "source": [
    "# Python3 code to demonstrate working of\n",
    "# Adding Tuple to List and vice - versa\n",
    "# Using += operator (list + tuple)\n",
    "\n",
    "# initializing list\n",
    "test_list = [5, 6, 7]\n",
    "\n",
    "# printing original list\n",
    "print(\"The original list is : \" + str(test_list))\n",
    "\n",
    "# initializing tuple\n",
    "test_tup = (9, 10)\n",
    "\n",
    "# Adding Tuple to List and vice - versa\n",
    "# Using += operator (list + tuple)\n",
    "test_list += test_tup\n",
    "\n",
    "# printing result\n",
    "print(\"The container after addition : \" + str(test_list))\n"
   ]
  },
  {
   "cell_type": "code",
   "execution_count": null,
   "id": "5c8d75e0",
   "metadata": {},
   "outputs": [],
   "source": []
  },
  {
   "cell_type": "code",
   "execution_count": null,
   "id": "65acf066",
   "metadata": {},
   "outputs": [],
   "source": [
    "11.\tPython – Closest Pair to Kth index element in Tuple\n"
   ]
  },
  {
   "cell_type": "code",
   "execution_count": 14,
   "id": "e4e6cc0d",
   "metadata": {},
   "outputs": [
    {
     "name": "stdout",
     "output_type": "stream",
     "text": [
      "The original list is : [(3, 4), (78, 76), (2, 3), (9, 8), (19, 23)]\n",
      "The nearest tuple to Kth index element is : (19, 23)\n"
     ]
    }
   ],
   "source": [
    "# Python3 code to demonstrate working of\n",
    "# Closest Pair to Kth index element in Tuple\n",
    "# Using enumerate() + loop\n",
    "\n",
    "# initializing list\n",
    "test_list = [(3, 4), (78, 76), (2, 3), (9, 8), (19, 23)]\n",
    "\n",
    "# printing original list\n",
    "print(\"The original list is : \" + str(test_list))\n",
    "\n",
    "# initializing tuple\n",
    "tup = (17, 23)\n",
    "\n",
    "# initializing K\n",
    "K = 1\n",
    "\n",
    "# Closest Pair to Kth index element in Tuple\n",
    "# Using enumerate() + loop\n",
    "min_dif, res = 999999999, None\n",
    "for idx, val in enumerate(test_list):\n",
    "\tdif = abs(tup[K - 1] - val[K - 1])\n",
    "\tif dif < min_dif:\n",
    "\t\tmin_dif, res = dif, idx\n",
    "\n",
    "# printing result\n",
    "print(\"The nearest tuple to Kth index element is : \" + str(test_list[res]))\n"
   ]
  },
  {
   "cell_type": "code",
   "execution_count": null,
   "id": "eb11e2cc",
   "metadata": {},
   "outputs": [],
   "source": []
  }
 ],
 "metadata": {
  "kernelspec": {
   "display_name": "Python 3",
   "language": "python",
   "name": "python3"
  },
  "language_info": {
   "codemirror_mode": {
    "name": "ipython",
    "version": 3
   },
   "file_extension": ".py",
   "mimetype": "text/x-python",
   "name": "python",
   "nbconvert_exporter": "python",
   "pygments_lexer": "ipython3",
   "version": "3.8.8"
  }
 },
 "nbformat": 4,
 "nbformat_minor": 5
}
