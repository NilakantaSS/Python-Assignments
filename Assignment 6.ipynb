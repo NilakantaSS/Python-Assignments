{
 "cells": [
  {
   "cell_type": "markdown",
   "id": "e47919d0",
   "metadata": {},
   "source": [
    "1.\tPython program to add two Matrices"
   ]
  },
  {
   "cell_type": "code",
   "execution_count": 1,
   "id": "be76636e",
   "metadata": {},
   "outputs": [
    {
     "name": "stdout",
     "output_type": "stream",
     "text": [
      "[<map object at 0x000002307082E4F0>, <map object at 0x000002307086E0A0>, <map object at 0x000002307086E130>]\n"
     ]
    }
   ],
   "source": [
    "# Program to add two matrices\n",
    "# using zip()\n",
    "\n",
    "X = [[1,2,3],\n",
    "\t[4 ,5,6],\n",
    "\t[7 ,8,9]]\n",
    "\n",
    "Y = [[9,8,7],\n",
    "\t[6,5,4],\n",
    "\t[3,2,1]]\n",
    "\n",
    "result = [map(sum, zip(*t)) for t in zip(X, Y)]\n",
    "\n",
    "print(result)\n"
   ]
  },
  {
   "cell_type": "code",
   "execution_count": null,
   "id": "2e7026c2",
   "metadata": {},
   "outputs": [],
   "source": []
  },
  {
   "cell_type": "markdown",
   "id": "ed61bb60",
   "metadata": {},
   "source": [
    "2.\tPython program to multiply two matrices"
   ]
  },
  {
   "cell_type": "code",
   "execution_count": 2,
   "id": "495585f6",
   "metadata": {},
   "outputs": [
    {
     "name": "stdout",
     "output_type": "stream",
     "text": [
      "[114, 160, 60, 27]\n",
      "[74, 97, 73, 14]\n",
      "[119, 157, 112, 23]\n"
     ]
    }
   ],
   "source": [
    "# Program to multiply two matrices using nested loops\n",
    "\n",
    "# take a 3x3 matrix\n",
    "A = [[12, 7, 3],\n",
    "\t[4, 5, 6],\n",
    "\t[7, 8, 9]]\n",
    "\n",
    "# take a 3x4 matrix\n",
    "B = [[5, 8, 1, 2],\n",
    "\t[6, 7, 3, 0],\n",
    "\t[4, 5, 9, 1]]\n",
    "\t\n",
    "result = [[0, 0, 0, 0],\n",
    "\t\t[0, 0, 0, 0],\n",
    "\t\t[0, 0, 0, 0]]\n",
    "\n",
    "# iterating by row of A\n",
    "for i in range(len(A)):\n",
    "\n",
    "\t# iterating by column by B\n",
    "\tfor j in range(len(B[0])):\n",
    "\n",
    "\t\t# iterating by rows of B\n",
    "\t\tfor k in range(len(B)):\n",
    "\t\t\tresult[i][j] += A[i][k] * B[k][j]\n",
    "\n",
    "for r in result:\n",
    "\tprint(r)\n"
   ]
  },
  {
   "cell_type": "code",
   "execution_count": null,
   "id": "f6717381",
   "metadata": {},
   "outputs": [],
   "source": []
  },
  {
   "cell_type": "markdown",
   "id": "9975bdbf",
   "metadata": {},
   "source": [
    "3.\tPython program for Matrix Product"
   ]
  },
  {
   "cell_type": "code",
   "execution_count": 3,
   "id": "dfffe8ad",
   "metadata": {},
   "outputs": [
    {
     "name": "stdout",
     "output_type": "stream",
     "text": [
      "Result: \n",
      "[26, 29, 40]\n",
      "[48, 88, 89]\n",
      "[105, 144, 173]\n"
     ]
    },
    {
     "data": {
      "text/plain": [
       "0"
      ]
     },
     "execution_count": 3,
     "metadata": {},
     "output_type": "execute_result"
    }
   ],
   "source": [
    "def Multiply(A,B):\n",
    "    result=[ [0,0,0],[0,0,0],[0,0,0] ]\n",
    "    #for rows\n",
    "    for i in range(len(A)):\n",
    "        #for columns\n",
    "        for j in range(len(B[0])):\n",
    "            #for rows of matrix B\n",
    "            for k in range(len(B)):\n",
    "                result[i][j] += A[i][k] * B[k][j]\n",
    "\n",
    "    for p in result:\n",
    "        print(p)\n",
    "    return 0\n",
    "\n",
    "A = [ [1, 2, 3],[6, 7, 4], [8, 10, 11] ]\n",
    "B = [[1, 5, 3],[2, 6, 5], [7, 4, 9] ]\n",
    "\n",
    "print(\"Result: \")\n",
    "Multiply(A,B)"
   ]
  },
  {
   "cell_type": "code",
   "execution_count": null,
   "id": "fc7e7ce4",
   "metadata": {},
   "outputs": [],
   "source": []
  },
  {
   "cell_type": "markdown",
   "id": "f9ca684d",
   "metadata": {},
   "source": [
    "4.\tAdding and Subtracting Matrices in Python"
   ]
  },
  {
   "cell_type": "code",
   "execution_count": 4,
   "id": "ae1d054a",
   "metadata": {},
   "outputs": [
    {
     "name": "stdout",
     "output_type": "stream",
     "text": [
      "Printing elements of first matrix\n",
      "[[1 2]\n",
      " [3 4]]\n",
      "Printing elements of second matrix\n",
      "[[4 5]\n",
      " [6 7]]\n",
      "Addition of two matrix\n",
      "[[ 5  7]\n",
      " [ 9 11]]\n"
     ]
    }
   ],
   "source": [
    "# importing numpy as np\n",
    "import numpy as np\n",
    "\n",
    "\n",
    "# creating first matrix\n",
    "A = np.array([[1, 2], [3, 4]])\n",
    "\n",
    "# creating second matrix\n",
    "B = np.array([[4, 5], [6, 7]])\n",
    "\n",
    "print(\"Printing elements of first matrix\")\n",
    "print(A)\n",
    "print(\"Printing elements of second matrix\")\n",
    "print(B)\n",
    "\n",
    "# adding two matrix\n",
    "print(\"Addition of two matrix\")\n",
    "print(np.add(A, B))"
   ]
  },
  {
   "cell_type": "code",
   "execution_count": null,
   "id": "a1fa37f3",
   "metadata": {},
   "outputs": [],
   "source": []
  },
  {
   "cell_type": "markdown",
   "id": "9453b2cc",
   "metadata": {},
   "source": [
    "5.\tTranspose a matrix in Single line in Python"
   ]
  },
  {
   "cell_type": "code",
   "execution_count": 5,
   "id": "d667ca2e",
   "metadata": {},
   "outputs": [
    {
     "name": "stdout",
     "output_type": "stream",
     "text": [
      "[[1 2 3]\n",
      " [4 5 6]]\n",
      "\n",
      "\n",
      "[[1 4]\n",
      " [2 5]\n",
      " [3 6]]\n"
     ]
    }
   ],
   "source": [
    "# You need to install numpy in order to import it\n",
    "import numpy as np\n",
    "matrix = np.array([[1,2,3],[4,5,6]])\n",
    "print(matrix)\n",
    "print(\"\\n\")\n",
    "print(matrix.T)\n"
   ]
  },
  {
   "cell_type": "code",
   "execution_count": null,
   "id": "f2481b96",
   "metadata": {},
   "outputs": [],
   "source": []
  },
  {
   "cell_type": "markdown",
   "id": "23c7c9dc",
   "metadata": {},
   "source": [
    "6.\tPython | Matrix creation of n*n"
   ]
  },
  {
   "cell_type": "code",
   "execution_count": 6,
   "id": "de991193",
   "metadata": {},
   "outputs": [
    {
     "name": "stdout",
     "output_type": "stream",
     "text": [
      "The dimension : 4\n",
      "The created matrix of N * N: [[1, 2, 3, 4], [5, 6, 7, 8], [9, 10, 11, 12], [13, 14, 15, 16]]\n"
     ]
    }
   ],
   "source": [
    "# Python3 code to demonstrate\n",
    "# matrix creation of n * n\n",
    "# using next() + itertools.count()\n",
    "import itertools\n",
    "\n",
    "# initializing N\n",
    "N = 4\n",
    "\n",
    "# printing dimension\n",
    "print(\"The dimension : \" + str(N))\n",
    "\n",
    "# using next() + itertools.count()\n",
    "# matrix creation of n * n\n",
    "temp = itertools.count(1)\n",
    "res = [[next(temp) for i in range(N)] for i in range(N)]\n",
    "\n",
    "# print result\n",
    "print(\"The created matrix of N * N: \" + str(res))\n"
   ]
  },
  {
   "cell_type": "code",
   "execution_count": null,
   "id": "84d9687e",
   "metadata": {},
   "outputs": [],
   "source": []
  },
  {
   "cell_type": "markdown",
   "id": "12e75d6d",
   "metadata": {},
   "source": [
    "7.\tPython | Get Kth Column of Matrix"
   ]
  },
  {
   "cell_type": "code",
   "execution_count": 7,
   "id": "10a4dd88",
   "metadata": {},
   "outputs": [
    {
     "name": "stdout",
     "output_type": "stream",
     "text": [
      "The original list is : [[4, 5, 6], [8, 1, 10], [7, 12, 5]]\n",
      "The Kth column of matrix is : [6, 10, 5]\n"
     ]
    }
   ],
   "source": [
    "# Python3 code to demonstrate working of\n",
    "# Get Kth Column of Matrix\n",
    "# using list comprehension\n",
    "\n",
    "# initialize list\n",
    "test_list = [[4, 5, 6], [8, 1, 10], [7, 12, 5]]\n",
    "\n",
    "# printing original list\n",
    "print(\"The original list is : \" + str(test_list))\n",
    "\n",
    "# initialize K\n",
    "K = 2\n",
    "\n",
    "# Get Kth Column of Matrix\n",
    "# using list comprehension\n",
    "res = [sub[K] for sub in test_list]\n",
    "\n",
    "# printing result\n",
    "print(\"The Kth column of matrix is : \" + str(res))\n"
   ]
  },
  {
   "cell_type": "code",
   "execution_count": null,
   "id": "4b32bfa6",
   "metadata": {},
   "outputs": [],
   "source": []
  },
  {
   "cell_type": "markdown",
   "id": "5eb17a3e",
   "metadata": {},
   "source": [
    "8.\tPython – Vertical Concatenation in Matrix"
   ]
  },
  {
   "cell_type": "code",
   "execution_count": 8,
   "id": "0ae72949",
   "metadata": {},
   "outputs": [
    {
     "name": "stdout",
     "output_type": "stream",
     "text": [
      "The original list : [['Gfg', 'good'], ['is', 'for'], ['Best']]\n",
      "List after column Concatenation : ['GfgisBest', 'goodfor']\n"
     ]
    }
   ],
   "source": [
    "# Python3 code to demonstrate working of\n",
    "# Vertical Concatenation in Matrix\n",
    "# Using loop\n",
    "\n",
    "# initializing lists\n",
    "test_list = [[\"Gfg\", \"good\"], [\"is\", \"for\"], [\"Best\"]]\n",
    "\n",
    "# printing original list\n",
    "print(\"The original list : \" + str(test_list))\n",
    "\n",
    "# using loop for iteration\n",
    "res = []\n",
    "N = 0\n",
    "while N != len(test_list):\n",
    "\ttemp = ''\n",
    "\tfor idx in test_list:\n",
    "\t\t\n",
    "\t\t# checking for valid index / column\n",
    "\t\ttry: temp = temp + idx[N]\n",
    "\t\texcept IndexError: pass\n",
    "\tres.append(temp)\n",
    "\tN = N + 1\n",
    "\n",
    "res = [ele for ele in res if ele]\n",
    "\n",
    "# printing result\n",
    "print(\"List after column Concatenation : \" + str(res))\n"
   ]
  },
  {
   "cell_type": "code",
   "execution_count": null,
   "id": "c2d6cc4d",
   "metadata": {},
   "outputs": [],
   "source": []
  },
  {
   "cell_type": "markdown",
   "id": "e6661e28",
   "metadata": {},
   "source": [
    "9.\tPython program to check if a string is palindrome or not"
   ]
  },
  {
   "cell_type": "code",
   "execution_count": 9,
   "id": "49ddd5d1",
   "metadata": {},
   "outputs": [
    {
     "name": "stdout",
     "output_type": "stream",
     "text": [
      "Yes\n"
     ]
    }
   ],
   "source": [
    "# function which return reverse of a string\n",
    "\n",
    "def isPalindrome(s):\n",
    "\treturn s == s[::-1]\n",
    "\n",
    "\n",
    "# Driver code\n",
    "s = \"malayalam\"\n",
    "ans = isPalindrome(s)\n",
    "\n",
    "if ans:\n",
    "\tprint(\"Yes\")\n",
    "else:\n",
    "\tprint(\"No\")\n"
   ]
  },
  {
   "cell_type": "code",
   "execution_count": null,
   "id": "e34fb50e",
   "metadata": {},
   "outputs": [],
   "source": []
  },
  {
   "cell_type": "markdown",
   "id": "e24c7d21",
   "metadata": {},
   "source": [
    "10.\tPython program to check whether the string is Symmetrical or Palindrome"
   ]
  },
  {
   "cell_type": "code",
   "execution_count": 10,
   "id": "c795c5d0",
   "metadata": {},
   "outputs": [
    {
     "name": "stdout",
     "output_type": "stream",
     "text": [
      "amaama string is symmertical\n",
      "amaama string is palindrome\n"
     ]
    }
   ],
   "source": [
    "string = 'amaama'\n",
    "half = int(len(string) / 2)\n",
    "\n",
    "if len(string) % 2 == 0: # even\n",
    "\tfirst_str = string[:half]\n",
    "\tsecond_str = string[half:]\n",
    "else: # odd\n",
    "\tfirst_str = string[:half]\n",
    "\tsecond_str = string[half+1:]\n",
    "\n",
    "# symmetric\n",
    "if first_str == second_str:\n",
    "\tprint(string, 'string is symmertical')\n",
    "else:\n",
    "\tprint(string, 'string is not symmertical')\n",
    "\n",
    "# palindrome\n",
    "if first_str == second_str[::-1]: # ''.join(reversed(second_str)) [slower]\n",
    "\tprint(string, 'string is palindrome')\n",
    "else:\n",
    "\tprint(string, 'string is not palindrome')\n"
   ]
  },
  {
   "cell_type": "code",
   "execution_count": null,
   "id": "b206d723",
   "metadata": {},
   "outputs": [],
   "source": []
  },
  {
   "cell_type": "code",
   "execution_count": null,
   "id": "12415c0f",
   "metadata": {},
   "outputs": [],
   "source": []
  }
 ],
 "metadata": {
  "kernelspec": {
   "display_name": "Python 3",
   "language": "python",
   "name": "python3"
  },
  "language_info": {
   "codemirror_mode": {
    "name": "ipython",
    "version": 3
   },
   "file_extension": ".py",
   "mimetype": "text/x-python",
   "name": "python",
   "nbconvert_exporter": "python",
   "pygments_lexer": "ipython3",
   "version": "3.8.8"
  }
 },
 "nbformat": 4,
 "nbformat_minor": 5
}
