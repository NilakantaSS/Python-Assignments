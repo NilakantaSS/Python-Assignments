{
 "cells": [
  {
   "cell_type": "code",
   "execution_count": null,
   "id": "71113977",
   "metadata": {},
   "outputs": [],
   "source": [
    "1.\tWrite a Python program to find those numbers which are divisible by 7 and multiple of 5, between 1500 and 2700 (both included).\n"
   ]
  },
  {
   "cell_type": "code",
   "execution_count": 1,
   "id": "c915e908",
   "metadata": {},
   "outputs": [
    {
     "name": "stdout",
     "output_type": "stream",
     "text": [
      "1505,1540,1575,1610,1645,1680,1715,1750,1785,1820,1855,1890,1925,1960,1995,2030,2065,2100,2135,2170,2205,2240,2275,2310,2345,2380,2415,2450,2485,2520,2555,2590,2625,2660,2695\n"
     ]
    }
   ],
   "source": [
    "nl=[]\n",
    "for x in range(1500, 2701):\n",
    "    if (x%7==0) and (x%5==0):\n",
    "        nl.append(str(x))\n",
    "print (','.join(nl))"
   ]
  },
  {
   "cell_type": "code",
   "execution_count": null,
   "id": "23e4efe1",
   "metadata": {},
   "outputs": [],
   "source": []
  },
  {
   "cell_type": "code",
   "execution_count": null,
   "id": "dd9cf533",
   "metadata": {},
   "outputs": [],
   "source": [
    "2.\tWrite a Python program that accepts a word from the user and reverse it.\n"
   ]
  },
  {
   "cell_type": "code",
   "execution_count": null,
   "id": "0281539a",
   "metadata": {},
   "outputs": [],
   "source": [
    "# Python code to reverse a string\n",
    "# using loop\n",
    "\n",
    "def reverse(s):\n",
    "str = \"\"\n",
    "for i in s:\n",
    "\tstr = i + str\n",
    "return str\n",
    "\n",
    "s = \"Geeksforgeeks\"\n",
    "\n",
    "print (\"The original string is : \",end=\"\")\n",
    "print (s)\n",
    "\n",
    "print (\"The reversed string(using loops) is : \",end=\"\")\n",
    "print (reverse(s))\n"
   ]
  },
  {
   "cell_type": "code",
   "execution_count": null,
   "id": "db638a90",
   "metadata": {},
   "outputs": [],
   "source": []
  },
  {
   "cell_type": "code",
   "execution_count": null,
   "id": "b9341f0d",
   "metadata": {},
   "outputs": [],
   "source": [
    "3.\tWrite a Python program to calculate a dog's age in dog's years.  Note: For the first two years, a dog year is equal to 10.5 human years. After that, each dog year equals 4 human years.\n"
   ]
  },
  {
   "cell_type": "code",
   "execution_count": null,
   "id": "a9877e59",
   "metadata": {},
   "outputs": [],
   "source": [
    "h_age = int(input(\"Input a dog's age in human years: \"))\n",
    "\n",
    "if h_age < 0:\n",
    "\tprint(\"Age must be positive number.\")\n",
    "\texit()\n",
    "elif h_age <= 2:\n",
    "\td_age = h_age * 10.5\n",
    "else:\n",
    "\td_age = 21 + (h_age - 2)*4\n",
    "\n",
    "print(\"The dog's age in dog's years is\", d_age)"
   ]
  },
  {
   "cell_type": "code",
   "execution_count": null,
   "id": "06155dac",
   "metadata": {},
   "outputs": [],
   "source": []
  },
  {
   "cell_type": "code",
   "execution_count": null,
   "id": "c86cce6a",
   "metadata": {},
   "outputs": [],
   "source": [
    "4.\tWrite a Python program to check a triangle is equilateral, isosceles or scalene\n"
   ]
  },
  {
   "cell_type": "code",
   "execution_count": 3,
   "id": "e5b29748",
   "metadata": {},
   "outputs": [
    {
     "name": "stdout",
     "output_type": "stream",
     "text": [
      "Input lengths of the traingle. sides: \n",
      "X: 6\n",
      "y: 8\n",
      "z: 12\n",
      "Scalene triangle\n"
     ]
    }
   ],
   "source": [
    "print(\"Input lengths of the traingle. sides: \")\n",
    "x = int(input(\"X: \"))\n",
    "y = int(input(\"y: \"))\n",
    "z = int(input(\"z: \"))\n",
    "\n",
    "if x == y == z:\n",
    "    print(\"Equilateral triangle\")\n",
    "elif x==y or y==z or z==x:\n",
    "    print(\"isosceles triangle\")\n",
    "else:\n",
    "    print(\"Scalene triangle\")\n"
   ]
  },
  {
   "cell_type": "code",
   "execution_count": null,
   "id": "62d1d46e",
   "metadata": {},
   "outputs": [],
   "source": []
  },
  {
   "cell_type": "code",
   "execution_count": null,
   "id": "bbface88",
   "metadata": {},
   "outputs": [],
   "source": [
    "5.\tWrite a Python program to detect the number of local variables declared in a function. \n"
   ]
  },
  {
   "cell_type": "code",
   "execution_count": 4,
   "id": "7469473c",
   "metadata": {},
   "outputs": [
    {
     "name": "stdout",
     "output_type": "stream",
     "text": [
      "3\n"
     ]
    }
   ],
   "source": [
    "def abc():\n",
    "    x = 1\n",
    "    y = 2\n",
    "    str1 =\"w3resource\"\n",
    "    print(\"Python Exercise\")\n",
    "    \n",
    "print(abc.__code__.co_nlocals)"
   ]
  },
  {
   "cell_type": "code",
   "execution_count": null,
   "id": "0f6b98ca",
   "metadata": {},
   "outputs": [],
   "source": []
  },
  {
   "cell_type": "code",
   "execution_count": null,
   "id": "161788ab",
   "metadata": {},
   "outputs": [],
   "source": [
    "6.\tWrite a Python program to execute a string containing Python code.\n"
   ]
  },
  {
   "cell_type": "code",
   "execution_count": 5,
   "id": "77ffbbbd",
   "metadata": {},
   "outputs": [
    {
     "name": "stdout",
     "output_type": "stream",
     "text": [
      "hello world\n",
      "Multiply of 2 and 3 is:  6\n"
     ]
    }
   ],
   "source": [
    "mycode = 'print(\"hello world\")'\n",
    "code = \"\"\"\n",
    "def multiply(x,y):\n",
    "    return x*y\n",
    "print('Multiply of 2 and 3 is: ', multiply(2,3))\n",
    "\"\"\"\n",
    "exec(mycode)\n",
    "exec(code)"
   ]
  },
  {
   "cell_type": "code",
   "execution_count": null,
   "id": "19b5ab1b",
   "metadata": {},
   "outputs": [],
   "source": []
  },
  {
   "cell_type": "code",
   "execution_count": null,
   "id": "6529943a",
   "metadata": {},
   "outputs": [],
   "source": [
    "7.\tWrite a Python program to convert a given list of tuples to a list of strings using map function.\n"
   ]
  },
  {
   "cell_type": "code",
   "execution_count": 6,
   "id": "6ecfb157",
   "metadata": {},
   "outputs": [
    {
     "name": "stdout",
     "output_type": "stream",
     "text": [
      "Original list of tuples:\n",
      "[('red', 'pink'), ('white', 'black'), ('orange', 'green')]\n",
      "\n",
      "Convert the said list of tuples to a list of strings:\n",
      "['red pink', 'white black', 'orange green']\n",
      "\n",
      "Original list of tuples:\n",
      "[('Sheridan', 'Gentry'), ('Laila', 'Mckee'), ('Ahsan', 'Rivas'), ('Conna', 'Gonzalez')]\n",
      "\n",
      "Convert the said list of tuples to a list of strings:\n",
      "['Sheridan Gentry', 'Laila Mckee', 'Ahsan Rivas', 'Conna Gonzalez']\n"
     ]
    }
   ],
   "source": [
    "def tuples_to_list_string(lst):\n",
    "    result = list(map(' '.join, lst))\n",
    "    return result   \n",
    "colors = [('red', 'pink'), ('white', 'black'), ('orange', 'green')]\n",
    "print(\"Original list of tuples:\")\n",
    "print(colors)\n",
    "print(\"\\nConvert the said list of tuples to a list of strings:\")\n",
    "print(tuples_to_list_string(colors))\n",
    "names = [('Sheridan','Gentry'), ('Laila','Mckee'), ('Ahsan','Rivas'), ('Conna','Gonzalez')]\n",
    "print(\"\\nOriginal list of tuples:\")\n",
    "print(names)\n",
    "print(\"\\nConvert the said list of tuples to a list of strings:\")\n",
    "print(tuples_to_list_string(names))"
   ]
  },
  {
   "cell_type": "code",
   "execution_count": null,
   "id": "e3889ad0",
   "metadata": {},
   "outputs": [],
   "source": []
  },
  {
   "cell_type": "code",
   "execution_count": null,
   "id": "21b044df",
   "metadata": {},
   "outputs": [],
   "source": [
    "8.\tWrite a Python program to split a given dictionary of lists into list of dictionaries using map function.\n"
   ]
  },
  {
   "cell_type": "code",
   "execution_count": 7,
   "id": "9a1d58a5",
   "metadata": {},
   "outputs": [
    {
     "name": "stdout",
     "output_type": "stream",
     "text": [
      "Original dictionary of lists:\n",
      "{'Science': [88, 89, 62, 95], 'Language': [77, 78, 84, 80]}\n",
      "\n",
      "Split said dictionary of lists into list of dictionaries:\n",
      "[{'Science': 88, 'Language': 77}, {'Science': 89, 'Language': 78}, {'Science': 62, 'Language': 84}, {'Science': 95, 'Language': 80}]\n"
     ]
    }
   ],
   "source": [
    "def list_of_dicts(marks):\n",
    "    result = map(dict, zip(*[[(key, val) for val in value] for key, value in marks.items()]))\n",
    "    return list(result)\n",
    "marks = {'Science': [88, 89, 62, 95], 'Language': [77, 78, 84, 80]}\n",
    "print(\"Original dictionary of lists:\")\n",
    "print(marks)\n",
    "print(\"\\nSplit said dictionary of lists into list of dictionaries:\")\n",
    "print(list_of_dicts(marks))"
   ]
  },
  {
   "cell_type": "code",
   "execution_count": null,
   "id": "9fee1f65",
   "metadata": {},
   "outputs": [],
   "source": []
  },
  {
   "cell_type": "code",
   "execution_count": null,
   "id": "488f3784",
   "metadata": {},
   "outputs": [],
   "source": [
    "9.\tWrite a Python program to scan a specified directory and identify the sub directories and files.\n"
   ]
  },
  {
   "cell_type": "code",
   "execution_count": null,
   "id": "d57f5baa",
   "metadata": {},
   "outputs": [],
   "source": [
    "import os\n",
    "root = 'g:\\\\testpath\\\\'\n",
    "for entry in os.scandir(root):\n",
    "   if entry.is_dir():\n",
    "       typ = 'dir'\n",
    "   elif entry.is_file():\n",
    "       typ = 'file'\n",
    "   elif entry.is_symlink():\n",
    "       typ = 'link'\n",
    "   else:\n",
    "       typ = 'unknown'\n",
    "   print('{name} {typ}'.format(\n",
    "       name=entry.name,\n",
    "       typ=typ,\n",
    "   ))"
   ]
  },
  {
   "cell_type": "code",
   "execution_count": null,
   "id": "4b8a259b",
   "metadata": {},
   "outputs": [],
   "source": []
  },
  {
   "cell_type": "code",
   "execution_count": null,
   "id": "31b3a8ed",
   "metadata": {},
   "outputs": [],
   "source": [
    "10.\tWrite a Python program to parse a string representing time and returns the structure time. \n"
   ]
  },
  {
   "cell_type": "code",
   "execution_count": 9,
   "id": "e24544bc",
   "metadata": {},
   "outputs": [
    {
     "name": "stdout",
     "output_type": "stream",
     "text": [
      "String representing time: 22 January, 2020\n",
      "time.struct_time(tm_year=2020, tm_mon=1, tm_mday=22, tm_hour=0, tm_min=0, tm_sec=0, tm_wday=2, tm_yday=22, tm_isdst=-1)\n",
      "\n",
      "String representing time: 30 Nov 00\n",
      "time.struct_time(tm_year=2000, tm_mon=11, tm_mday=30, tm_hour=0, tm_min=0, tm_sec=0, tm_wday=3, tm_yday=335, tm_isdst=-1)\n",
      "\n",
      "String representing time: 04/11/15 11:55:23\n",
      "time.struct_time(tm_year=2015, tm_mon=4, tm_mday=11, tm_hour=11, tm_min=55, tm_sec=23, tm_wday=5, tm_yday=101, tm_isdst=-1)\n",
      "\n",
      "String representing time: 12-11-2019\n",
      "time.struct_time(tm_year=2019, tm_mon=12, tm_mday=11, tm_hour=0, tm_min=0, tm_sec=0, tm_wday=2, tm_yday=345, tm_isdst=-1)\n",
      "\n",
      "String representing time: 13::55::26\n",
      "time.struct_time(tm_year=1900, tm_mon=1, tm_mday=1, tm_hour=13, tm_min=55, tm_sec=26, tm_wday=0, tm_yday=1, tm_isdst=-1)\n"
     ]
    }
   ],
   "source": [
    "import time\n",
    "time_string = \"22 January, 2020\"\n",
    "print(\"String representing time:\",time_string)\n",
    "result = time.strptime(time_string, \"%d %B, %Y\")\n",
    "print(result)\n",
    "time_string = \"30 Nov 00\"\n",
    "print(\"\\nString representing time:\",time_string)\n",
    "result = time.strptime(time_string, \"%d %b %y\")\n",
    "print(result)\n",
    "time_string = '04/11/15 11:55:23'\n",
    "print(\"\\nString representing time:\",time_string)\n",
    "result = time.strptime(time_string, \"%m/%d/%y %H:%M:%S\")\n",
    "print(result)\n",
    "time_string = '12-11-2019'\n",
    "print(\"\\nString representing time:\",time_string)\n",
    "result = time.strptime(time_string, \"%m-%d-%Y\")\n",
    "print(result)\n",
    "time_string = '13::55::26'\n",
    "print(\"\\nString representing time:\",time_string)\n",
    "result = time.strptime(time_string, \"%H::%M::%S\")\n",
    "print(result)"
   ]
  },
  {
   "cell_type": "code",
   "execution_count": null,
   "id": "acb58587",
   "metadata": {},
   "outputs": [],
   "source": []
  },
  {
   "cell_type": "code",
   "execution_count": null,
   "id": "ab007462",
   "metadata": {},
   "outputs": [],
   "source": [
    "11.\tWrite a Python code to send some sort of data in the URL's query string.\n"
   ]
  },
  {
   "cell_type": "code",
   "execution_count": 10,
   "id": "dafefa2d",
   "metadata": {},
   "outputs": [
    {
     "name": "stdout",
     "output_type": "stream",
     "text": [
      "Parameters:  {'key1': 'value1', 'key2': 'value2'}\n",
      "Print the url to check the URL has been correctly encoded or not!\n",
      "https://httpbin.org/get?key1=value1&key2=value2\n",
      "\n",
      "Pass a list of items as a value:\n",
      "Parameters:  {'key1': 'value1', 'key2': ['value2', 'value3']}\n",
      "Print the url to check the URL has been correctly encoded or not!\n",
      "https://httpbin.org/get?key1=value1&key2=value2&key2=value3\n"
     ]
    }
   ],
   "source": [
    "import requests\n",
    "payload = {'key1': 'value1', 'key2': 'value2'}\n",
    "print(\"Parameters: \",payload)\n",
    "r = requests.get('https://httpbin.org/get', params=payload)\n",
    "print(\"Print the url to check the URL has been correctly encoded or not!\")\n",
    "print(r.url)\n",
    "print(\"\\nPass a list of items as a value:\")\n",
    "payload = {'key1': 'value1', 'key2': ['value2', 'value3']}\n",
    "print(\"Parameters: \",payload)\n",
    "r = requests.get('https://httpbin.org/get', params=payload)\n",
    "print(\"Print the url to check the URL has been correctly encoded or not!\")\n",
    "print(r.url)"
   ]
  },
  {
   "cell_type": "code",
   "execution_count": null,
   "id": "73cd453b",
   "metadata": {},
   "outputs": [],
   "source": []
  },
  {
   "cell_type": "code",
   "execution_count": null,
   "id": "6e206a92",
   "metadata": {},
   "outputs": [],
   "source": [
    "12.\tWrite a Python code to send a request to a web page, and print the information of headers. Also parse these values and print key-value pairs holding various information. \n"
   ]
  },
  {
   "cell_type": "code",
   "execution_count": 11,
   "id": "9ca81bc3",
   "metadata": {},
   "outputs": [
    {
     "name": "stdout",
     "output_type": "stream",
     "text": [
      "Headers information of the said response:\n",
      "{'Server': 'GitHub.com', 'Date': 'Mon, 18 Apr 2022 06:23:27 GMT', 'Content-Type': 'application/json; charset=utf-8', 'Cache-Control': 'public, max-age=60, s-maxage=60', 'Vary': 'Accept, Accept-Encoding, Accept, X-Requested-With', 'ETag': 'W/\"4f825cc84e1c733059d46e76e6df9db557ae5254f9625dfe8e1b09499c449438\"', 'X-GitHub-Media-Type': 'github.v3; format=json', 'Access-Control-Expose-Headers': 'ETag, Link, Location, Retry-After, X-GitHub-OTP, X-RateLimit-Limit, X-RateLimit-Remaining, X-RateLimit-Used, X-RateLimit-Resource, X-RateLimit-Reset, X-OAuth-Scopes, X-Accepted-OAuth-Scopes, X-Poll-Interval, X-GitHub-Media-Type, X-GitHub-SSO, X-GitHub-Request-Id, Deprecation, Sunset', 'Access-Control-Allow-Origin': '*', 'Strict-Transport-Security': 'max-age=31536000; includeSubdomains; preload', 'X-Frame-Options': 'deny', 'X-Content-Type-Options': 'nosniff', 'X-XSS-Protection': '0', 'Referrer-Policy': 'origin-when-cross-origin, strict-origin-when-cross-origin', 'Content-Security-Policy': \"default-src 'none'\", 'Content-Encoding': 'gzip', 'X-RateLimit-Limit': '60', 'X-RateLimit-Remaining': '59', 'X-RateLimit-Reset': '1650266606', 'X-RateLimit-Resource': 'core', 'X-RateLimit-Used': '1', 'Accept-Ranges': 'bytes', 'Transfer-Encoding': 'chunked', 'X-GitHub-Request-Id': '94C9:45CC:1BB9:391F:625D03DE'}\n",
      "\n",
      "Various Key-value pairs information of the said resource and request:\n",
      "Date:  Mon, 18 Apr 2022 06:23:27 GMT\n",
      "server:  GitHub.com\n"
     ]
    },
    {
     "ename": "KeyError",
     "evalue": "'status'",
     "output_type": "error",
     "traceback": [
      "\u001b[1;31m---------------------------------------------------------------------------\u001b[0m",
      "\u001b[1;31mKeyError\u001b[0m                                  Traceback (most recent call last)",
      "\u001b[1;32m<ipython-input-11-5f81553d4a16>\u001b[0m in \u001b[0;36m<module>\u001b[1;34m\u001b[0m\n\u001b[0;32m      8\u001b[0m \u001b[0mprint\u001b[0m\u001b[1;33m(\u001b[0m\u001b[1;34m\"Date: \"\u001b[0m\u001b[1;33m,\u001b[0m\u001b[0mr\u001b[0m\u001b[1;33m.\u001b[0m\u001b[0mheaders\u001b[0m\u001b[1;33m[\u001b[0m\u001b[1;34m'date'\u001b[0m\u001b[1;33m]\u001b[0m\u001b[1;33m)\u001b[0m\u001b[1;33m\u001b[0m\u001b[1;33m\u001b[0m\u001b[0m\n\u001b[0;32m      9\u001b[0m \u001b[0mprint\u001b[0m\u001b[1;33m(\u001b[0m\u001b[1;34m\"server: \"\u001b[0m\u001b[1;33m,\u001b[0m\u001b[0mr\u001b[0m\u001b[1;33m.\u001b[0m\u001b[0mheaders\u001b[0m\u001b[1;33m[\u001b[0m\u001b[1;34m'server'\u001b[0m\u001b[1;33m]\u001b[0m\u001b[1;33m)\u001b[0m\u001b[1;33m\u001b[0m\u001b[1;33m\u001b[0m\u001b[0m\n\u001b[1;32m---> 10\u001b[1;33m \u001b[0mprint\u001b[0m\u001b[1;33m(\u001b[0m\u001b[1;34m\"status: \"\u001b[0m\u001b[1;33m,\u001b[0m\u001b[0mr\u001b[0m\u001b[1;33m.\u001b[0m\u001b[0mheaders\u001b[0m\u001b[1;33m[\u001b[0m\u001b[1;34m'status'\u001b[0m\u001b[1;33m]\u001b[0m\u001b[1;33m)\u001b[0m\u001b[1;33m\u001b[0m\u001b[1;33m\u001b[0m\u001b[0m\n\u001b[0m\u001b[0;32m     11\u001b[0m \u001b[0mprint\u001b[0m\u001b[1;33m(\u001b[0m\u001b[1;34m\"cache-control: \"\u001b[0m\u001b[1;33m,\u001b[0m\u001b[0mr\u001b[0m\u001b[1;33m.\u001b[0m\u001b[0mheaders\u001b[0m\u001b[1;33m[\u001b[0m\u001b[1;34m'cache-control'\u001b[0m\u001b[1;33m]\u001b[0m\u001b[1;33m)\u001b[0m\u001b[1;33m\u001b[0m\u001b[1;33m\u001b[0m\u001b[0m\n\u001b[0;32m     12\u001b[0m \u001b[0mprint\u001b[0m\u001b[1;33m(\u001b[0m\u001b[1;34m\"vary: \"\u001b[0m\u001b[1;33m,\u001b[0m\u001b[0mr\u001b[0m\u001b[1;33m.\u001b[0m\u001b[0mheaders\u001b[0m\u001b[1;33m[\u001b[0m\u001b[1;34m'vary'\u001b[0m\u001b[1;33m]\u001b[0m\u001b[1;33m)\u001b[0m\u001b[1;33m\u001b[0m\u001b[1;33m\u001b[0m\u001b[0m\n",
      "\u001b[1;32m~\\anaconda3\\lib\\site-packages\\requests\\structures.py\u001b[0m in \u001b[0;36m__getitem__\u001b[1;34m(self, key)\u001b[0m\n\u001b[0;32m     52\u001b[0m \u001b[1;33m\u001b[0m\u001b[0m\n\u001b[0;32m     53\u001b[0m     \u001b[1;32mdef\u001b[0m \u001b[0m__getitem__\u001b[0m\u001b[1;33m(\u001b[0m\u001b[0mself\u001b[0m\u001b[1;33m,\u001b[0m \u001b[0mkey\u001b[0m\u001b[1;33m)\u001b[0m\u001b[1;33m:\u001b[0m\u001b[1;33m\u001b[0m\u001b[1;33m\u001b[0m\u001b[0m\n\u001b[1;32m---> 54\u001b[1;33m         \u001b[1;32mreturn\u001b[0m \u001b[0mself\u001b[0m\u001b[1;33m.\u001b[0m\u001b[0m_store\u001b[0m\u001b[1;33m[\u001b[0m\u001b[0mkey\u001b[0m\u001b[1;33m.\u001b[0m\u001b[0mlower\u001b[0m\u001b[1;33m(\u001b[0m\u001b[1;33m)\u001b[0m\u001b[1;33m]\u001b[0m\u001b[1;33m[\u001b[0m\u001b[1;36m1\u001b[0m\u001b[1;33m]\u001b[0m\u001b[1;33m\u001b[0m\u001b[1;33m\u001b[0m\u001b[0m\n\u001b[0m\u001b[0;32m     55\u001b[0m \u001b[1;33m\u001b[0m\u001b[0m\n\u001b[0;32m     56\u001b[0m     \u001b[1;32mdef\u001b[0m \u001b[0m__delitem__\u001b[0m\u001b[1;33m(\u001b[0m\u001b[0mself\u001b[0m\u001b[1;33m,\u001b[0m \u001b[0mkey\u001b[0m\u001b[1;33m)\u001b[0m\u001b[1;33m:\u001b[0m\u001b[1;33m\u001b[0m\u001b[1;33m\u001b[0m\u001b[0m\n",
      "\u001b[1;31mKeyError\u001b[0m: 'status'"
     ]
    }
   ],
   "source": [
    "import requests\n",
    "r = requests.get('https://api.github.com/')\n",
    "response = r.headers\n",
    "print(\"Headers information of the said response:\")\n",
    "print(response)\n",
    "print(\"\\nVarious Key-value pairs information of the said resource and request:\")\n",
    "\n",
    "print(\"Date: \",r.headers['date'])\n",
    "print(\"server: \",r.headers['server'])\n",
    "print(\"status: \",r.headers['status'])\n",
    "print(\"cache-control: \",r.headers['cache-control'])\n",
    "print(\"vary: \",r.headers['vary'])\n",
    "print(\"x-github-media-type: \",r.headers['x-github-media-type'])\n",
    "print(\"access-control-expose-headers: \",r.headers['access-control-expose-headers'])\n",
    "print(\"strict-transport-security: \",r.headers['strict-transport-security'])\n",
    "print(\"x-content-type-options: \",r.headers['x-content-type-options'])\n",
    "print(\"x-xss-protection: \",r.headers['x-xss-protection'])\n",
    "print(\"referrer-policy: \",r.headers['referrer-policy'])\n",
    "print(\"content-security-policy: \",r.headers['content-security-policy'])\n",
    "print(\"content-encoding: \",r.headers['content-encoding'])\n",
    "print(\"X-Ratelimit-Remaining: \",r.headers['X-Ratelimit-Remaining'])\n",
    "print(\"X-Ratelimit-Reset: \",r.headers['X-Ratelimit-Reset'])\n",
    "print(\"X-Ratelimit-Used: \",r.headers['X-Ratelimit-Used'])\n",
    "print(\"Accept-Ranges:\",r.headers['Accept-Ranges'])\n",
    "print(\"X-GitHub-Request-Id:\",r.headers['X-GitHub-Request-Id'])"
   ]
  },
  {
   "cell_type": "code",
   "execution_count": null,
   "id": "df47f1bb",
   "metadata": {},
   "outputs": [],
   "source": []
  },
  {
   "cell_type": "code",
   "execution_count": null,
   "id": "7d0edad4",
   "metadata": {},
   "outputs": [],
   "source": [
    "13.\tWrite a Python program to write a Python dictionary to a csv file. After writing the CSV file read the CSV file and display the content. \n"
   ]
  },
  {
   "cell_type": "code",
   "execution_count": null,
   "id": "0dc2879a",
   "metadata": {},
   "outputs": [],
   "source": []
  },
  {
   "cell_type": "code",
   "execution_count": null,
   "id": "7d4073fd",
   "metadata": {},
   "outputs": [],
   "source": []
  },
  {
   "cell_type": "code",
   "execution_count": null,
   "id": "2245778a",
   "metadata": {},
   "outputs": [],
   "source": [
    "14.\tWrite a Python program that reads each row of a given csv file and skip the header of the file. Also print the number of rows and the field names. \n"
   ]
  },
  {
   "cell_type": "code",
   "execution_count": null,
   "id": "e668d85c",
   "metadata": {},
   "outputs": [],
   "source": []
  },
  {
   "cell_type": "code",
   "execution_count": null,
   "id": "1cf2be06",
   "metadata": {},
   "outputs": [],
   "source": []
  },
  {
   "cell_type": "code",
   "execution_count": null,
   "id": "9769b499",
   "metadata": {},
   "outputs": [],
   "source": [
    "15.\tWrite a Python program to check that a string contains only a certain set of characters (in this case a-z, A-Z and 0-9)\n",
    "\n"
   ]
  },
  {
   "cell_type": "code",
   "execution_count": null,
   "id": "b8bd0ac8",
   "metadata": {},
   "outputs": [],
   "source": []
  },
  {
   "cell_type": "code",
   "execution_count": null,
   "id": "32d7c987",
   "metadata": {},
   "outputs": [],
   "source": []
  }
 ],
 "metadata": {
  "kernelspec": {
   "display_name": "Python 3",
   "language": "python",
   "name": "python3"
  },
  "language_info": {
   "codemirror_mode": {
    "name": "ipython",
    "version": 3
   },
   "file_extension": ".py",
   "mimetype": "text/x-python",
   "name": "python",
   "nbconvert_exporter": "python",
   "pygments_lexer": "ipython3",
   "version": "3.8.8"
  }
 },
 "nbformat": 4,
 "nbformat_minor": 5
}
