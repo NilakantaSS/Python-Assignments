{
 "cells": [
  {
   "cell_type": "code",
   "execution_count": null,
   "id": "58264e16",
   "metadata": {},
   "outputs": [],
   "source": [
    "1.\tPython – Sort Dictionary key and values List\n"
   ]
  },
  {
   "cell_type": "code",
   "execution_count": 2,
   "id": "1793bfe7",
   "metadata": {},
   "outputs": [
    {
     "name": "stdout",
     "output_type": "stream",
     "text": [
      "The original dictionary is : {'gfg': [7, 6, 3], 'is': [2, 10, 3], 'best': [19, 4]}\n",
      "The sorted dictionary : {'best': [4, 19], 'gfg': [3, 6, 7], 'is': [2, 3, 10]}\n"
     ]
    }
   ],
   "source": [
    "# Python3 code to demonstrate working of\n",
    "# Sort Dictionary key and values List\n",
    "# Using loop + dictionary comprehension\n",
    "\n",
    "# initializing dictionary\n",
    "test_dict = {'gfg': [7, 6, 3],\n",
    "\t\t\t'is': [2, 10, 3],\n",
    "\t\t\t'best': [19, 4]}\n",
    "\n",
    "# printing original dictionary\n",
    "print(\"The original dictionary is : \" + str(test_dict))\n",
    "\n",
    "# Sort Dictionary key and values List\n",
    "# Using loop + dictionary comprehension\n",
    "res = dict()\n",
    "for key in sorted(test_dict):\n",
    "\tres[key] = sorted(test_dict[key])\n",
    "\n",
    "# printing result\n",
    "print(\"The sorted dictionary : \" + str(res))\n"
   ]
  },
  {
   "cell_type": "code",
   "execution_count": null,
   "id": "cd25a2bb",
   "metadata": {},
   "outputs": [],
   "source": []
  },
  {
   "cell_type": "code",
   "execution_count": null,
   "id": "a89ee7e7",
   "metadata": {},
   "outputs": [],
   "source": [
    "2.\tHandling missing keys in Python dictionaries\n"
   ]
  },
  {
   "cell_type": "code",
   "execution_count": 3,
   "id": "cf32fbaa",
   "metadata": {},
   "outputs": [
    {
     "name": "stdout",
     "output_type": "stream",
     "text": [
      "0091\n",
      "Not Found\n"
     ]
    }
   ],
   "source": [
    "country_code = {'India' : '0091',\n",
    "\t\t\t\t'Australia' : '0025',\n",
    "\t\t\t\t'Nepal' : '00977'}\n",
    "\n",
    "# search dictionary for country code of India\n",
    "print(country_code.get('India', 'Not Found'))\n",
    "\n",
    "# search dictionary for country code of Japan\n",
    "print(country_code.get('Japan', 'Not Found'))\n"
   ]
  },
  {
   "cell_type": "code",
   "execution_count": null,
   "id": "b1932544",
   "metadata": {},
   "outputs": [],
   "source": []
  },
  {
   "cell_type": "code",
   "execution_count": null,
   "id": "ee7e47ac",
   "metadata": {},
   "outputs": [],
   "source": [
    "3.\tPython dictionary with keys having multiple inputs\n"
   ]
  },
  {
   "cell_type": "code",
   "execution_count": 4,
   "id": "e4d85d9a",
   "metadata": {},
   "outputs": [
    {
     "name": "stdout",
     "output_type": "stream",
     "text": [
      "{(\"19.07'53.2\", \"72.54'51.0\"): 'Mumbai', (\"28.33'34.1\", \"77.06'16.6\"): 'Delhi'}\n",
      "\n",
      "\n",
      "[\"19.07'53.2\", \"28.33'34.1\"]\n",
      "[\"72.54'51.0\", \"77.06'16.6\"]\n",
      "['Mumbai', 'Delhi']\n"
     ]
    }
   ],
   "source": [
    "# dictionary containing longitude and latitude of places\n",
    "places = {(\"19.07'53.2\", \"72.54'51.0\"):\"Mumbai\", \\\n",
    "\t\t(\"28.33'34.1\", \"77.06'16.6\"):\"Delhi\"}\n",
    "\n",
    "print(places)\n",
    "print('\\n')\n",
    "\n",
    "# Traversing dictionary with multi-keys and creating\n",
    "# different lists from it\n",
    "lat = []\n",
    "long = []\n",
    "plc = []\n",
    "for i in places:\n",
    "\tlat.append(i[0])\n",
    "\tlong.append(i[1])\n",
    "\tplc.append(places[i[0], i[1]])\n",
    "\n",
    "print(lat)\n",
    "print(long)\n",
    "print(plc)\n"
   ]
  },
  {
   "cell_type": "code",
   "execution_count": null,
   "id": "3448b881",
   "metadata": {},
   "outputs": [],
   "source": []
  },
  {
   "cell_type": "code",
   "execution_count": null,
   "id": "c64da171",
   "metadata": {},
   "outputs": [],
   "source": [
    "4.\tPrint anagrams together in Python using List and Dictionary\n"
   ]
  },
  {
   "cell_type": "code",
   "execution_count": 5,
   "id": "fd4ca9a2",
   "metadata": {},
   "outputs": [
    {
     "name": "stdout",
     "output_type": "stream",
     "text": [
      "cat tac act dog god \n"
     ]
    }
   ],
   "source": [
    "# Function to return all anagrams together\n",
    "def allAnagram(input):\n",
    "\t\n",
    "\t# empty dictionary which holds subsets\n",
    "\t# of all anagrams together\n",
    "\tdict = {}\n",
    "\n",
    "\t# traverse list of strings\n",
    "\tfor strVal in input:\n",
    "\t\t\n",
    "\t\t# sorted(iterable) method accepts any\n",
    "\t\t# iterable and rerturns list of items\n",
    "\t\t# in ascending order\n",
    "\t\tkey = ''.join(sorted(strVal))\n",
    "\t\t\n",
    "\t\t# now check if key exist in dictionary\n",
    "\t\t# or not. If yes then simply append the\n",
    "\t\t# strVal into the list of it's corresponding\n",
    "\t\t# key. If not then map empty list onto\n",
    "\t\t# key and then start appending values\n",
    "\t\tif key in dict.keys():\n",
    "\t\t\tdict[key].append(strVal)\n",
    "\t\telse:\n",
    "\t\t\tdict[key] = []\n",
    "\t\t\tdict[key].append(strVal)\n",
    "\n",
    "\t# traverse dictionary and concatenate values\n",
    "\t# of keys together\n",
    "\toutput = \"\"\n",
    "\tfor key,value in dict.items():\n",
    "\t\toutput = output + ' '.join(value) + ' '\n",
    "\n",
    "\treturn output\n",
    "\n",
    "# Driver function\n",
    "if __name__ == \"__main__\":\n",
    "\tinput=['cat', 'dog', 'tac', 'god', 'act']\n",
    "\tprint (allAnagram(input))\n"
   ]
  },
  {
   "cell_type": "code",
   "execution_count": null,
   "id": "4b8bfbfb",
   "metadata": {},
   "outputs": [],
   "source": []
  },
  {
   "cell_type": "code",
   "execution_count": null,
   "id": "e4433ba3",
   "metadata": {},
   "outputs": [],
   "source": [
    "5.\tK’th Non-repeating Character in Python using List Comprehension and OrderedDict\n"
   ]
  },
  {
   "cell_type": "code",
   "execution_count": 7,
   "id": "d4131326",
   "metadata": {},
   "outputs": [
    {
     "name": "stdout",
     "output_type": "stream",
     "text": [
      "r\n"
     ]
    }
   ],
   "source": [
    "# Function to find k'th non repeating character\n",
    "# in string\n",
    "from collections import OrderedDict\n",
    "\n",
    "def kthRepeating(input,k):\n",
    "\n",
    "\t# OrderedDict returns a dictionary data\n",
    "\t\t# structure having characters of input\n",
    "\t# string as keys in the same order they\n",
    "\t\t# were inserted and 0 as their default value\n",
    "\tdict=OrderedDict.fromkeys(input,0)\n",
    "\n",
    "\t# now traverse input string to calculate\n",
    "\t\t# frequency of each character\n",
    "\tfor ch in input:\n",
    "\t\tdict[ch]+=1\n",
    "\n",
    "\t# now extract list of all keys whose value\n",
    "\t\t# is 1 from dict Ordered Dictionary\n",
    "\tnonRepeatDict = [key for (key,value) in dict.items() if value==1]\n",
    "\t\n",
    "\t# now return (k-1)th character from above list\n",
    "\tif len(nonRepeatDict) < k:\n",
    "\t\treturn 'Less than k non-repeating characters in input.'\n",
    "\telse:\n",
    "\t\treturn nonRepeatDict[k-1]\n",
    "\n",
    "# Driver function\n",
    "if __name__ == \"__main__\":\n",
    "\tinput = \"geeksforgeeks\"\n",
    "\tk = 3\n",
    "\tprint (kthRepeating(input, k))\n"
   ]
  },
  {
   "cell_type": "code",
   "execution_count": null,
   "id": "ee6b8655",
   "metadata": {},
   "outputs": [],
   "source": []
  },
  {
   "cell_type": "code",
   "execution_count": null,
   "id": "f9dce696",
   "metadata": {},
   "outputs": [],
   "source": [
    "6.\tCheck if binary representations of two numbers are anagram\n"
   ]
  },
  {
   "cell_type": "code",
   "execution_count": 9,
   "id": "c5acee7c",
   "metadata": {},
   "outputs": [
    {
     "name": "stdout",
     "output_type": "stream",
     "text": [
      "Yes\n"
     ]
    }
   ],
   "source": [
    "# function to Check if binary representations\n",
    "# of two numbers are anagram\n",
    "from collections import Counter\n",
    "\n",
    "def checkAnagram(num1,num2):\n",
    "\n",
    "\t# convert numbers into in binary\n",
    "\t# and remove first two characters of\n",
    "\t# output string because bin function\n",
    "\t# '0b' as prefix in output string\n",
    "\tbin1 = bin(num1)[2:]\n",
    "\tbin2 = bin(num2)[2:]\n",
    "\n",
    "\t# append zeros in shorter string\n",
    "\tzeros = abs(len(bin1)-len(bin2))\n",
    "\tif (len(bin1)>len(bin2)):\n",
    "\t\tbin2 = zeros * '0' + bin2\n",
    "\telse:\n",
    "\t\tbin1 = zeros * '0' + bin1\n",
    "\n",
    "\t# convert binary representations\n",
    "\t# into dictionary\n",
    "\tdict1 = Counter(bin1)\n",
    "\tdict2 = Counter(bin2)\n",
    "\n",
    "\t# compare both dictionaries\n",
    "\tif dict1 == dict2:\n",
    "\t\tprint('Yes')\n",
    "\telse:\n",
    "\t\tprint('No')\n",
    "\n",
    "# Driver program\n",
    "if __name__ == \"__main__\":\n",
    "\tnum1 = 8\n",
    "\tnum2 = 4\n",
    "\tcheckAnagram(num1,num2)\n",
    "\t\n"
   ]
  },
  {
   "cell_type": "code",
   "execution_count": null,
   "id": "95bfb159",
   "metadata": {},
   "outputs": [],
   "source": []
  },
  {
   "cell_type": "code",
   "execution_count": null,
   "id": "488d6991",
   "metadata": {},
   "outputs": [],
   "source": [
    "7.\tPython Counter to find the size of largest subset of anagram words\n"
   ]
  },
  {
   "cell_type": "code",
   "execution_count": 10,
   "id": "4f39f31b",
   "metadata": {},
   "outputs": [
    {
     "name": "stdout",
     "output_type": "stream",
     "text": [
      "1\n",
      "1\n",
      "2\n",
      "2\n",
      "3\n"
     ]
    }
   ],
   "source": [
    "from collections import Counter\n",
    "\n",
    "def maxAnagramSize(input):\n",
    "    input = input.split(\" \")\n",
    "    \n",
    "    for i in range(0, len(input)):\n",
    "        input[i]=''.join(sorted(input[i]))\n",
    "        \n",
    "        freqDict = Counter(input)\n",
    "        \n",
    "        print(max(freqDict.values()))\n",
    "        \n",
    "if __name__ == \"__main__\":\n",
    "    input = 'ant magenta magnate tan gnamate'\n",
    "    maxAnagramSize(input)"
   ]
  },
  {
   "cell_type": "code",
   "execution_count": null,
   "id": "7cc860fb",
   "metadata": {},
   "outputs": [],
   "source": []
  },
  {
   "cell_type": "code",
   "execution_count": null,
   "id": "345d84b7",
   "metadata": {},
   "outputs": [],
   "source": [
    "8.\tPython | Remove all duplicates words from a given sentence\n"
   ]
  },
  {
   "cell_type": "code",
   "execution_count": 11,
   "id": "3a0af25b",
   "metadata": {},
   "outputs": [
    {
     "name": "stdout",
     "output_type": "stream",
     "text": [
      "Python is great and Java also\n"
     ]
    }
   ],
   "source": [
    "from collections import Counter\n",
    "\n",
    "def remov_duplicates(input):\n",
    "\n",
    "\t# split input string separated by space\n",
    "\tinput = input.split(\" \")\n",
    "\n",
    "\t# now create dictionary using counter method\n",
    "\t# which will have strings as key and their\n",
    "\t# frequencies as value\n",
    "\tUniqW = Counter(input)\n",
    "\n",
    "\t# joins two adjacent elements in iterable way\n",
    "\ts = \" \".join(UniqW.keys())\n",
    "\tprint (s)\n",
    "\n",
    "# Driver program\n",
    "if __name__ == \"__main__\":\n",
    "\tinput = 'Python is great and Java is also great'\n",
    "\tremov_duplicates(input)\n"
   ]
  },
  {
   "cell_type": "code",
   "execution_count": null,
   "id": "f3060451",
   "metadata": {},
   "outputs": [],
   "source": []
  },
  {
   "cell_type": "code",
   "execution_count": null,
   "id": "ff664019",
   "metadata": {},
   "outputs": [],
   "source": [
    "9.\tPython Dictionary to find mirror characters in a string\n"
   ]
  },
  {
   "cell_type": "code",
   "execution_count": 12,
   "id": "25c1872a",
   "metadata": {},
   "outputs": [
    {
     "name": "stdout",
     "output_type": "stream",
     "text": [
      "paizwlc\n"
     ]
    }
   ],
   "source": [
    "# function to mirror characters of a string\n",
    "\n",
    "def mirrorChars(input,k):\n",
    "\n",
    "\t# create dictionary\n",
    "\toriginal = 'abcdefghijklmnopqrstuvwxyz'\n",
    "\treverse = 'zyxwvutsrqponmlkjihgfedcba'\n",
    "\tdictChars = dict(zip(original,reverse))\n",
    "\n",
    "\t# separate out string after length k to change\n",
    "\t# characters in mirror\n",
    "\tprefix = input[0:k-1]\n",
    "\tsuffix = input[k-1:]\n",
    "\tmirror = ''\n",
    "\n",
    "\t# change into mirror\n",
    "\tfor i in range(0,len(suffix)):\n",
    "\t\tmirror = mirror + dictChars[suffix[i]]\n",
    "\n",
    "\t# concat prefix and mirrored part\n",
    "\tprint (prefix+mirror)\n",
    "\t\t\n",
    "# Driver program\n",
    "if __name__ == \"__main__\":\n",
    "\tinput = 'paradox'\n",
    "\tk = 3\n",
    "\tmirrorChars(input,k)\n"
   ]
  },
  {
   "cell_type": "code",
   "execution_count": null,
   "id": "3c667169",
   "metadata": {},
   "outputs": [],
   "source": []
  },
  {
   "cell_type": "code",
   "execution_count": null,
   "id": "29d274d7",
   "metadata": {},
   "outputs": [],
   "source": [
    "10.\tCounting the frequencies in a list using dictionary in Python\n"
   ]
  },
  {
   "cell_type": "code",
   "execution_count": 14,
   "id": "a2553e23",
   "metadata": {},
   "outputs": [
    {
     "name": "stdout",
     "output_type": "stream",
     "text": [
      " 1 :  5\n",
      " 5 :  2\n",
      " 3 :  3\n",
      " 4 :  3\n",
      " 2 :  4\n"
     ]
    }
   ],
   "source": [
    "# Python program to count the frequency of\n",
    "# elements in a list using a dictionary\n",
    "\n",
    "def CountFrequency(my_list):\n",
    "\n",
    "\t# Creating an empty dictionary\n",
    "\tfreq = {}\n",
    "\tfor item in my_list:\n",
    "\t\tif (item in freq):\n",
    "\t\t\tfreq[item] += 1\n",
    "\t\telse:\n",
    "\t\t\tfreq[item] = 1\n",
    "\n",
    "\tfor key, value in freq.items():\n",
    "\t\tprint (\"% d : % d\"%(key, value))\n",
    "\n",
    "# Driver function\n",
    "if __name__ == \"__main__\":\n",
    "\tmy_list =[1, 1, 1, 5, 5, 3, 1, 3, 3, 1, 4, 4, 4, 2, 2, 2, 2]\n",
    "\n",
    "\tCountFrequency(my_list)\n"
   ]
  },
  {
   "cell_type": "code",
   "execution_count": null,
   "id": "188847dd",
   "metadata": {},
   "outputs": [],
   "source": []
  }
 ],
 "metadata": {
  "kernelspec": {
   "display_name": "Python 3",
   "language": "python",
   "name": "python3"
  },
  "language_info": {
   "codemirror_mode": {
    "name": "ipython",
    "version": 3
   },
   "file_extension": ".py",
   "mimetype": "text/x-python",
   "name": "python",
   "nbconvert_exporter": "python",
   "pygments_lexer": "ipython3",
   "version": "3.8.8"
  }
 },
 "nbformat": 4,
 "nbformat_minor": 5
}
