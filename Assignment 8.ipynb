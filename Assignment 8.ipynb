{
 "cells": [
  {
   "cell_type": "markdown",
   "id": "6221dd93",
   "metadata": {},
   "source": [
    "    1.\tPython – Least Frequent Character in String"
   ]
  },
  {
   "cell_type": "code",
   "execution_count": 1,
   "id": "4dc1d7d9",
   "metadata": {},
   "outputs": [
    {
     "name": "stdout",
     "output_type": "stream",
     "text": [
      "The original string is : GeeksforGeeks\n",
      "The minimum of all characters in GeeksforGeeks is : f\n"
     ]
    }
   ],
   "source": [
    "# Python 3 code to demonstrate\n",
    "# Least Frequent Character in String\n",
    "# naive method\n",
    "\n",
    "# initializing string\n",
    "test_str = \"GeeksforGeeks\"\n",
    "\n",
    "# printing original string\n",
    "print (\"The original string is : \" + test_str)\n",
    "\n",
    "# using naive method to get\n",
    "# Least Frequent Character in String\n",
    "all_freq = {}\n",
    "for i in test_str:\n",
    "\tif i in all_freq:\n",
    "\t\tall_freq[i] += 1\n",
    "\telse:\n",
    "\t\tall_freq[i] = 1\n",
    "res = min(all_freq, key = all_freq.get)\n",
    "\n",
    "# printing result\n",
    "print (\"The minimum of all characters in GeeksforGeeks is : \" + str(res))\n"
   ]
  },
  {
   "cell_type": "code",
   "execution_count": null,
   "id": "d6739dd3",
   "metadata": {},
   "outputs": [],
   "source": []
  },
  {
   "cell_type": "markdown",
   "id": "102a0c58",
   "metadata": {},
   "source": [
    "2.\tPython | Maximum frequency character in String"
   ]
  },
  {
   "cell_type": "code",
   "execution_count": 9,
   "id": "b0828b58",
   "metadata": {},
   "outputs": [
    {
     "name": "stdout",
     "output_type": "stream",
     "text": [
      "The original string is : ineuron lets build together\n"
     ]
    },
    {
     "ename": "TypeError",
     "evalue": "'str' object is not callable",
     "output_type": "error",
     "traceback": [
      "\u001b[1;31m---------------------------------------------------------------------------\u001b[0m",
      "\u001b[1;31mTypeError\u001b[0m                                 Traceback (most recent call last)",
      "\u001b[1;32m<ipython-input-9-2a2b281543af>\u001b[0m in \u001b[0;36m<module>\u001b[1;34m\u001b[0m\n\u001b[0;32m     20\u001b[0m \u001b[1;33m\u001b[0m\u001b[0m\n\u001b[0;32m     21\u001b[0m \u001b[1;31m# printing result\u001b[0m\u001b[1;33m\u001b[0m\u001b[1;33m\u001b[0m\u001b[1;33m\u001b[0m\u001b[0m\n\u001b[1;32m---> 22\u001b[1;33m \u001b[0mprint\u001b[0m \u001b[1;33m(\u001b[0m\u001b[1;34m\"The maximum of all characters in GeeksforGeeks is : \"\u001b[0m \u001b[1;33m+\u001b[0m \u001b[0mstr\u001b[0m\u001b[1;33m(\u001b[0m\u001b[0mres\u001b[0m\u001b[1;33m)\u001b[0m\u001b[1;33m)\u001b[0m\u001b[1;33m\u001b[0m\u001b[1;33m\u001b[0m\u001b[0m\n\u001b[0m",
      "\u001b[1;31mTypeError\u001b[0m: 'str' object is not callable"
     ]
    }
   ],
   "source": [
    "# Python 3 code to demonstrate\n",
    "# Maximum frequency character in String\n",
    "# naive method\n",
    "\n",
    "# initializing string\n",
    "test_str = \"ineuron lets build together\"\n",
    "\n",
    "# printing original string\n",
    "print (\"The original string is : \" + test_str)\n",
    "\n",
    "# using naive method to get\n",
    "# Maximum frequency character in String\n",
    "all_freq = {}\n",
    "for i in test_str:\n",
    "\tif i in all_freq:\n",
    "\t\tall_freq[i] += 1\n",
    "\telse:\n",
    "\t\tall_freq[i] = 1\n",
    "res = max(all_freq, key = all_freq.get)\n",
    "\n",
    "# printing result\n",
    "print (\"The maximum of all characters in GeeksforGeeks is : \" + str(res))\n"
   ]
  },
  {
   "cell_type": "code",
   "execution_count": null,
   "id": "67265bbc",
   "metadata": {},
   "outputs": [],
   "source": []
  },
  {
   "cell_type": "markdown",
   "id": "a6f1b9e1",
   "metadata": {},
   "source": [
    "3.\tPython | Program to check if a string contains any special character"
   ]
  },
  {
   "cell_type": "code",
   "execution_count": 8,
   "id": "af95983c",
   "metadata": {},
   "outputs": [
    {
     "name": "stdout",
     "output_type": "stream",
     "text": [
      "String is accepted\n"
     ]
    }
   ],
   "source": [
    "# Python3 program to check if a string\n",
    "# contains any special character\n",
    "\n",
    "# import required package\n",
    "import re\n",
    "\n",
    "# Function checks if the string\n",
    "# contains any special character\n",
    "def run(string):\n",
    "\n",
    "\t# Make own character set and pass\n",
    "\t# this as argument in compile method\n",
    "\tregex = re.compile('[@_!#$%^&*()<>?/\\|}{~:]')\n",
    "\t\n",
    "\t# Pass the string in search\n",
    "\t# method of regex object.\n",
    "\tif(regex.search(string) == None):\n",
    "\t\tprint(\"String is accepted\")\n",
    "\t\t\n",
    "\telse:\n",
    "\t\tprint(\"String is not accepted.\")\n",
    "\t\n",
    "\n",
    "# Driver Code\n",
    "if __name__ == '__main__' :\n",
    "\t\n",
    "\t# Enter the string\n",
    "\tstring = \"ineuron lets build together\"\n",
    "\t\n",
    "\t# calling run function\n",
    "\trun(string)\n"
   ]
  },
  {
   "cell_type": "code",
   "execution_count": null,
   "id": "aecd1e1e",
   "metadata": {},
   "outputs": [],
   "source": []
  },
  {
   "cell_type": "markdown",
   "id": "9ab87520",
   "metadata": {},
   "source": [
    "4.\tGenerating random strings until a given string is generated"
   ]
  },
  {
   "cell_type": "code",
   "execution_count": null,
   "id": "f07318c4",
   "metadata": {},
   "outputs": [],
   "source": []
  },
  {
   "cell_type": "code",
   "execution_count": null,
   "id": "7825530a",
   "metadata": {},
   "outputs": [],
   "source": []
  },
  {
   "cell_type": "markdown",
   "id": "9a525b43",
   "metadata": {},
   "source": [
    "5.\tFind words which are greater than given length k"
   ]
  },
  {
   "cell_type": "code",
   "execution_count": 4,
   "id": "b62db592",
   "metadata": {},
   "outputs": [
    {
     "name": "stdout",
     "output_type": "stream",
     "text": [
      "['ineuron', 'lets', 'build']\n"
     ]
    }
   ],
   "source": [
    "# Python program to find all string\n",
    "# which are greater than given length k\n",
    "\n",
    "# function find string greater than length k\n",
    "def string_k(k, str):\n",
    "\t\n",
    "\t# create the empty string\n",
    "\tstring = []\n",
    "\t\n",
    "\t# split the string where space is comes\n",
    "\ttext = str.split(\" \")\n",
    "\t\n",
    "\t# iterate the loop till every substring\n",
    "\tfor x in text:\n",
    "\t\t\n",
    "\t\t# if length of current sub string\n",
    "\t\t# is greater than k then\n",
    "\t\tif len(x) > k:\n",
    "\t\t\t\n",
    "\t\t\t# append this sub string in\n",
    "\t\t\t# string list\n",
    "\t\t\tstring.append(x)\n",
    "\t\t\t\n",
    "\t# return string list\n",
    "\treturn string\n",
    "\n",
    "\n",
    "# Driver Program\t\n",
    "k = 3\n",
    "str =\"ineuron lets build together\"\n",
    "print(string_k(k, str))\n"
   ]
  },
  {
   "cell_type": "code",
   "execution_count": null,
   "id": "7fa7e697",
   "metadata": {},
   "outputs": [],
   "source": []
  },
  {
   "cell_type": "markdown",
   "id": "fa180abb",
   "metadata": {},
   "source": [
    "6.\tPython program for removing i-th character from a string"
   ]
  },
  {
   "cell_type": "code",
   "execution_count": 10,
   "id": "d05e4b78",
   "metadata": {},
   "outputs": [
    {
     "name": "stdout",
     "output_type": "stream",
     "text": [
      "ineurn lets build together\n"
     ]
    }
   ],
   "source": [
    "# Python3 program for removing i-th\n",
    "# indexed character from a string\n",
    "\n",
    "# Removes character at index i\n",
    "def remove(string, i):\n",
    "\n",
    "\t# Characters before the i-th indexed\n",
    "\t# is stored in a variable a\n",
    "\ta = string[ : i]\n",
    "\t\n",
    "\t# Characters after the nth indexed\n",
    "\t# is stored in a variable b\n",
    "\tb = string[i + 1: ]\n",
    "\t\n",
    "\t# Returning string after removing\n",
    "\t# nth indexed character.\n",
    "\treturn a + b\n",
    "\t\n",
    "# Driver Code\n",
    "if __name__ == '__main__':\n",
    "\t\n",
    "\tstring = \"ineuron lets build together\"\n",
    "\t\n",
    "\t# Remove nth index element\n",
    "\ti = 5\n",
    "\t\n",
    "\t# Print the new string\n",
    "\tprint(remove(string, i))\n"
   ]
  },
  {
   "cell_type": "code",
   "execution_count": null,
   "id": "0a9050ad",
   "metadata": {},
   "outputs": [],
   "source": []
  },
  {
   "cell_type": "markdown",
   "id": "d91392eb",
   "metadata": {},
   "source": [
    "7.\tPython program to split and join a string"
   ]
  },
  {
   "cell_type": "code",
   "execution_count": 11,
   "id": "6d8e39ca",
   "metadata": {},
   "outputs": [
    {
     "name": "stdout",
     "output_type": "stream",
     "text": [
      "['ineuron', 'lets', 'build', 'together']\n",
      "ineuron-lets-build-together\n"
     ]
    }
   ],
   "source": [
    "# Python program to split a string and\n",
    "# join it using different delimiter\n",
    "\n",
    "def split_string(string):\n",
    "\n",
    "\t# Split the string based on space delimiter\n",
    "\tlist_string = string.split(' ')\n",
    "\t\n",
    "\treturn list_string\n",
    "\n",
    "def join_string(list_string):\n",
    "\n",
    "\t# Join the string based on '-' delimiter\n",
    "\tstring = '-'.join(list_string)\n",
    "\t\n",
    "\treturn string\n",
    "\n",
    "# Driver Function\n",
    "if __name__ == '__main__':\n",
    "\tstring = 'ineuron lets build together'\n",
    "\t\n",
    "\t# Splitting a string\n",
    "\tlist_string = split_string(string)\n",
    "\tprint(list_string)\n",
    "\n",
    "\t# Join list of strings into one\n",
    "\tnew_string = join_string(list_string)\n",
    "\tprint(new_string)\n"
   ]
  },
  {
   "cell_type": "code",
   "execution_count": null,
   "id": "36a151be",
   "metadata": {},
   "outputs": [],
   "source": []
  },
  {
   "cell_type": "markdown",
   "id": "f0a9e89e",
   "metadata": {},
   "source": [
    "8.\tPython | Check if a given string is binary string or not"
   ]
  },
  {
   "cell_type": "code",
   "execution_count": 12,
   "id": "ae28361c",
   "metadata": {},
   "outputs": [
    {
     "name": "stdout",
     "output_type": "stream",
     "text": [
      "Yes\n"
     ]
    }
   ],
   "source": [
    "# Python program to check\n",
    "# if a string is binary or not\n",
    "\n",
    "# function for checking the\n",
    "# string is accepted or not\n",
    "def check(string) :\n",
    "\n",
    "\t# set function convert string\n",
    "\t# into set of characters .\n",
    "\tp = set(string)\n",
    "\n",
    "\t# declare set of '0', '1' .\n",
    "\ts = {'0', '1'}\n",
    "\n",
    "\t# check set p is same as set s\n",
    "\t# or set p contains only '0'\n",
    "\t# or set p contains only '1'\n",
    "\t# or not, if any one condition\n",
    "\t# is true then string is accepted\n",
    "\t# otherwise not .\n",
    "\tif s == p or p == {'0'} or p == {'1'}:\n",
    "\t\tprint(\"Yes\")\n",
    "\telse :\n",
    "\t\tprint(\"No\")\n",
    "\n",
    "\n",
    "\t\t\n",
    "# driver code\n",
    "if __name__ == \"__main__\" :\n",
    "\n",
    "\tstring = \"101010000111\"\n",
    "\n",
    "\t# function calling\n",
    "\tcheck(string)\n"
   ]
  },
  {
   "cell_type": "code",
   "execution_count": null,
   "id": "c297bbb8",
   "metadata": {},
   "outputs": [],
   "source": []
  },
  {
   "cell_type": "markdown",
   "id": "657bb00e",
   "metadata": {},
   "source": [
    "9.\tPython program to find uncommon words from two Strings"
   ]
  },
  {
   "cell_type": "code",
   "execution_count": 13,
   "id": "d9aa598e",
   "metadata": {},
   "outputs": [
    {
     "name": "stdout",
     "output_type": "stream",
     "text": [
      "['lets', 'build', 'together', 'Learning', 'from']\n"
     ]
    }
   ],
   "source": [
    "# Python3 program to find a list of uncommon words\n",
    "\n",
    "# Function to return all uncommon words\n",
    "def UncommonWords(A, B):\n",
    "\n",
    "\t# count will contain all the word counts\n",
    "\tcount = {}\n",
    "\t\n",
    "\t# insert words of string A to hash\n",
    "\tfor word in A.split():\n",
    "\t\tcount[word] = count.get(word, 0) + 1\n",
    "\t\n",
    "\t# insert words of string B to hash\n",
    "\tfor word in B.split():\n",
    "\t\tcount[word] = count.get(word, 0) + 1\n",
    "\n",
    "\t# return required list of words\n",
    "\treturn [word for word in count if count[word] == 1]\n",
    "\n",
    "# Driver Code\n",
    "A = \"ineuron lets build together\"\n",
    "B = \"Learning from ineuron\"\n",
    "\n",
    "# Print required answer\n",
    "print(UncommonWords(A, B))\n"
   ]
  },
  {
   "cell_type": "code",
   "execution_count": null,
   "id": "bc2daccd",
   "metadata": {},
   "outputs": [],
   "source": []
  },
  {
   "cell_type": "markdown",
   "id": "a0eabade",
   "metadata": {},
   "source": [
    "10.\tPython – Replace duplicate Occurrence in String"
   ]
  },
  {
   "cell_type": "code",
   "execution_count": 18,
   "id": "be4c8eb1",
   "metadata": {},
   "outputs": [
    {
     "name": "stdout",
     "output_type": "stream",
     "text": [
      "The string is : \n",
      "Jane is the best . Jane loves to cook. Jane and Will cook together\n",
      "The string after replacing with values is : \n",
      "Jane is the best . She loves to cook. She and Will cook together\n"
     ]
    }
   ],
   "source": [
    "my_str = 'Jane is the best . Jane loves to cook. Jane and Will cook together'\n",
    "print(\"The string is : \")\n",
    "print(my_str)\n",
    "replace_dict = {'Jane' : 'She' }\n",
    "my_list = my_str.split(' ')\n",
    "my_result = ' '.join([replace_dict.get(val) if val in replace_dict.keys() and my_list.index(val) != idx else val for idx, val in enumerate(my_list)])\n",
    "print(\"The string after replacing with values is : \")\n",
    "print(my_result)"
   ]
  },
  {
   "cell_type": "code",
   "execution_count": null,
   "id": "b10d3274",
   "metadata": {},
   "outputs": [],
   "source": []
  }
 ],
 "metadata": {
  "kernelspec": {
   "display_name": "Python 3",
   "language": "python",
   "name": "python3"
  },
  "language_info": {
   "codemirror_mode": {
    "name": "ipython",
    "version": 3
   },
   "file_extension": ".py",
   "mimetype": "text/x-python",
   "name": "python",
   "nbconvert_exporter": "python",
   "pygments_lexer": "ipython3",
   "version": "3.8.8"
  }
 },
 "nbformat": 4,
 "nbformat_minor": 5
}
