{
 "cells": [
  {
   "cell_type": "code",
   "execution_count": null,
   "id": "e5268e7f",
   "metadata": {},
   "outputs": [],
   "source": [
    "1.\tPython Program for Topological Sorting\n"
   ]
  },
  {
   "cell_type": "code",
   "execution_count": 1,
   "id": "aa6942a6",
   "metadata": {},
   "outputs": [
    {
     "name": "stdout",
     "output_type": "stream",
     "text": [
      "Following is a Topological Sort of the given graph\n",
      "[5, 4, 2, 3, 1, 0]\n"
     ]
    }
   ],
   "source": [
    "#Python program to print topological sorting of a DAG\n",
    "from collections import defaultdict\n",
    "\n",
    "#Class to represent a graph\n",
    "class Graph:\n",
    "\tdef __init__(self,vertices):\n",
    "\t\tself.graph = defaultdict(list) #dictionary containing adjacency List\n",
    "\t\tself.V = vertices #No. of vertices\n",
    "\n",
    "\t# function to add an edge to graph\n",
    "\tdef addEdge(self,u,v):\n",
    "\t\tself.graph[u].append(v)\n",
    "\n",
    "\t# A recursive function used by topologicalSort\n",
    "\tdef topologicalSortUtil(self,v,visited,stack):\n",
    "\n",
    "\t\t# Mark the current node as visited.\n",
    "\t\tvisited[v] = True\n",
    "\n",
    "\t\t# Recur for all the vertices adjacent to this vertex\n",
    "\t\tfor i in self.graph[v]:\n",
    "\t\t\tif visited[i] == False:\n",
    "\t\t\t\tself.topologicalSortUtil(i,visited,stack)\n",
    "\n",
    "\t\t# Push current vertex to stack which stores result\n",
    "\t\tstack.insert(0,v)\n",
    "\n",
    "\t# The function to do Topological Sort. It uses recursive\n",
    "\t# topologicalSortUtil()\n",
    "\tdef topologicalSort(self):\n",
    "\t\t# Mark all the vertices as not visited\n",
    "\t\tvisited = [False]*self.V\n",
    "\t\tstack =[]\n",
    "\n",
    "\t\t# Call the recursive helper function to store Topological\n",
    "\t\t# Sort starting from all vertices one by one\n",
    "\t\tfor i in range(self.V):\n",
    "\t\t\tif visited[i] == False:\n",
    "\t\t\t\tself.topologicalSortUtil(i,visited,stack)\n",
    "\n",
    "\t\t# Print contents of stack\n",
    "\t\tprint (stack)\n",
    "\n",
    "g= Graph(6)\n",
    "g.addEdge(5, 2);\n",
    "g.addEdge(5, 0);\n",
    "g.addEdge(4, 0);\n",
    "g.addEdge(4, 1);\n",
    "g.addEdge(2, 3);\n",
    "g.addEdge(3, 1);\n",
    "\n",
    "print (\"Following is a Topological Sort of the given graph\")\n",
    "g.topologicalSort()\n",
    "#This code is contributed by Neelam Yadav\n"
   ]
  },
  {
   "cell_type": "code",
   "execution_count": null,
   "id": "a1dd9159",
   "metadata": {},
   "outputs": [],
   "source": []
  },
  {
   "cell_type": "code",
   "execution_count": null,
   "id": "e5e5f183",
   "metadata": {},
   "outputs": [],
   "source": [
    "2.\tPython Program for Radix Sort\n"
   ]
  },
  {
   "cell_type": "code",
   "execution_count": 2,
   "id": "534ceb3a",
   "metadata": {},
   "outputs": [
    {
     "name": "stdout",
     "output_type": "stream",
     "text": [
      "2 24 45 66 75 90 170 802 "
     ]
    }
   ],
   "source": [
    "# Python program for implementation of Radix Sort\n",
    "\n",
    "# A function to do counting sort of arr[] according to\n",
    "# the digit represented by exp.\n",
    "def countingSort(arr, exp1):\n",
    "\n",
    "\tn = len(arr)\n",
    "\n",
    "\t# The output array elements that will have sorted arr\n",
    "\toutput = [0] * (n)\n",
    "\n",
    "\t# initialize count array as 0\n",
    "\tcount = [0] * (10)\n",
    "\n",
    "\t# Store count of occurrences in count[]\n",
    "\tfor i in range(0, n):\n",
    "\t\tindex = (arr[i]/exp1)\n",
    "\t\tcount[int((index)%10)] += 1\n",
    "\n",
    "\t# Change count[i] so that count[i] now contains actual\n",
    "\t# position of this digit in output array\n",
    "\tfor i in range(1,10):\n",
    "\t\tcount[i] += count[i-1]\n",
    "\n",
    "\t# Build the output array\n",
    "\ti = n-1\n",
    "\twhile i>=0:\n",
    "\t\tindex = (arr[i]/exp1)\n",
    "\t\toutput[ count[ int((index)%10) ] - 1] = arr[i]\n",
    "\t\tcount[int((index)%10)] -= 1\n",
    "\t\ti -= 1\n",
    "\n",
    "\t# Copying the output array to arr[],\n",
    "\t# so that arr now contains sorted numbers\n",
    "\ti = 0\n",
    "\tfor i in range(0,len(arr)):\n",
    "\t\tarr[i] = output[i]\n",
    "\n",
    "# Method to do Radix Sort\n",
    "def radixSort(arr):\n",
    "\n",
    "\t# Find the maximum number to know number of digits\n",
    "\tmax1 = max(arr)\n",
    "\n",
    "\t# Do counting sort for every digit. Note that instead\n",
    "\t# of passing digit number, exp is passed. exp is 10^i\n",
    "\t# where i is current digit number\n",
    "\texp = 1\n",
    "\twhile max1/exp > 0:\n",
    "\t\tcountingSort(arr,exp)\n",
    "\t\texp *= 10\n",
    "\n",
    "# Driver code to test above\n",
    "arr = [ 170, 45, 75, 90, 802, 24, 2, 66]\n",
    "radixSort(arr)\n",
    "\n",
    "for i in range(len(arr)):\n",
    "\tprint(arr[i],end=\" \")\n",
    "\n",
    "# This code is contributed by Mohit Kumra\n",
    "# This code is updated by Sudeep Saxena(saxenasudeepcse@gmail.com) on July 9, 2020\n"
   ]
  },
  {
   "cell_type": "code",
   "execution_count": null,
   "id": "14614874",
   "metadata": {},
   "outputs": [],
   "source": []
  },
  {
   "cell_type": "code",
   "execution_count": null,
   "id": "3267409d",
   "metadata": {},
   "outputs": [],
   "source": [
    "3.\tPython Program for Binary Insertion Sort\n"
   ]
  },
  {
   "cell_type": "code",
   "execution_count": 8,
   "id": "d54f4201",
   "metadata": {},
   "outputs": [
    {
     "name": "stdout",
     "output_type": "stream",
     "text": [
      "Sorted array is:\n",
      "1 3 3 4 4 5 6 8 "
     ]
    }
   ],
   "source": [
    "# sort\n",
    "def insertion_sort(arr):\n",
    "   for i in range(1, len(arr)):\n",
    "      temp = arr[i]\n",
    "      pos = binary_search(arr, temp, 0, i) + 1\n",
    "      for k in range(i, pos, -1):\n",
    "         arr[k] = arr[k - 1]\n",
    "      arr[pos] = temp\n",
    "def binary_search(arr, key, start, end):\n",
    "   #key\n",
    "   if end - start <= 1:\n",
    "      if key < arr[start]:\n",
    "         return start - 1\n",
    "      else:\n",
    "         return start\n",
    "   mid = (start + end)//2\n",
    "   if arr[mid] < key:\n",
    "      return binary_search(arr, key, mid, end)\n",
    "   elif arr[mid] > key:\n",
    "      return binary_search(arr, key, start, mid)\n",
    "   else:\n",
    "      return mid\n",
    "# main\n",
    "arr = [1,5,3,4,8,6,3,4]\n",
    "n = len(arr)\n",
    "insertion_sort(arr)\n",
    "print(\"Sorted array is:\")\n",
    "for i in range(n):\n",
    "   print(arr[i],end=\" \")"
   ]
  },
  {
   "cell_type": "code",
   "execution_count": null,
   "id": "c5bf1799",
   "metadata": {},
   "outputs": [],
   "source": []
  },
  {
   "cell_type": "code",
   "execution_count": null,
   "id": "18683704",
   "metadata": {},
   "outputs": [],
   "source": [
    "4.\tPython Program for Bitonic Sort\n"
   ]
  },
  {
   "cell_type": "code",
   "execution_count": 5,
   "id": "ebe7e567",
   "metadata": {},
   "outputs": [
    {
     "name": "stdout",
     "output_type": "stream",
     "text": [
      "\n",
      "\n",
      "Sorted array is\n",
      "1 5 2 6 3 7 4 8 "
     ]
    }
   ],
   "source": [
    "# Python program for Bitonic Sort. Note that this program\n",
    "# works only when size of input is a power of 2.\n",
    "\n",
    "# The parameter dir indicates the sorting direction, ASCENDING\n",
    "# or DESCENDING; if (a[i] > a[j]) agrees with the direction,\n",
    "# then a[i] and a[j] are interchanged.*/\n",
    "def compAndSwap(a, i, j, dire):\n",
    "\tif (dire==1 and a[i] > a[j]) or (dire==0 and a[i] > a[j]):\n",
    "\t\ta[i],a[j] = a[j],a[i]\n",
    "\n",
    "# It recursively sorts a bitonic sequence in ascending order,\n",
    "# if dir = 1, and in descending order otherwise (means dir=0).\n",
    "# The sequence to be sorted starts at index position low,\n",
    "# the parameter cnt is the number of elements to be sorted.\n",
    "def bitonicMerge(a, low, cnt, dire):\n",
    "\tif cnt > 1:\n",
    "\t\tk = cnt//2\n",
    "\t\tfor i in range(low , low+k):\n",
    "\t\t\tcompAndSwap(a, i, i+k, dire)\n",
    "\t\tbitonicMerge(a, low, k, dire)\n",
    "\t\tbitonicMerge(a, low+k, k, dire)\n",
    "\n",
    "# This function first produces a bitonic sequence by recursively\n",
    "# sorting its two halves in opposite sorting orders, and then\n",
    "# calls bitonicMerge to make them in the same order\n",
    "def bitonicSort(a, low, cnt,dire):\n",
    "\tif cnt > 1:\n",
    "\t\tk = cnt//2\n",
    "\t\tbitonicSort(a, low, k, 1)\n",
    "\t\tbitonicSort(a, low+k, k, 0)\n",
    "\t\tbitonicMerge(a, low, cnt, dire)\n",
    "\n",
    "# Caller of bitonicSort for sorting the entire array of length N\n",
    "# in ASCENDING order\n",
    "def sort(a,N, up):\n",
    "\tbitonicSort(a,0, N, up)\n",
    "\n",
    "# Driver code to test above\n",
    "a = [3, 7, 4, 8, 6, 2, 1, 5]\n",
    "n = len(a)\n",
    "up = 1\n",
    "\n",
    "sort(a, n, up)\n",
    "print (\"\\n\\nSorted array is\")\n",
    "for i in range(n):\n",
    "\tprint(\"%d\" %a[i],end=\" \")\n"
   ]
  },
  {
   "cell_type": "code",
   "execution_count": null,
   "id": "c7b5c692",
   "metadata": {},
   "outputs": [],
   "source": []
  },
  {
   "cell_type": "code",
   "execution_count": null,
   "id": "27e2bf32",
   "metadata": {},
   "outputs": [],
   "source": [
    "5.\tPython Program for Comb Sort\n"
   ]
  },
  {
   "cell_type": "code",
   "execution_count": 7,
   "id": "4846ad67",
   "metadata": {},
   "outputs": [
    {
     "name": "stdout",
     "output_type": "stream",
     "text": [
      "Before:  [75, 16, 55, 19, 48, 14, 2, 61, 22, 100]\n",
      "After:   [2, 14, 16, 19, 22, 48, 55, 61, 75, 100]\n"
     ]
    }
   ],
   "source": [
    "##\n",
    "# Python's algorithm of Combsort sort\n",
    " \n",
    " \n",
    "def combsort(num):\n",
    "    gap = len(num)\n",
    "    swaps = True\n",
    "    while gap > 1 or swaps:\n",
    "        gap = max(1, int(gap / 1.25))  # minimum gap is 1\n",
    "        swaps = False\n",
    "        for i in range(len(num) - gap):\n",
    "            j = i+gap\n",
    "            if num[i] > num[j]:\n",
    "                num[i], num[j] = num[j], num[i]\n",
    "                swaps = True\n",
    " \n",
    "num_list = [75, 16, 55, 19, 48, 14, 2, 61, 22, 100]\n",
    "print(\"Before: \", num_list)\n",
    "combsort(num_list)\n",
    "print(\"After:  \", num_list)"
   ]
  },
  {
   "cell_type": "code",
   "execution_count": null,
   "id": "380c4f01",
   "metadata": {},
   "outputs": [],
   "source": []
  },
  {
   "cell_type": "code",
   "execution_count": null,
   "id": "43603f90",
   "metadata": {},
   "outputs": [],
   "source": [
    "6.\tPython Program for Pigeonhole Sort\n"
   ]
  },
  {
   "cell_type": "code",
   "execution_count": 9,
   "id": "7e3fcaab",
   "metadata": {},
   "outputs": [
    {
     "name": "stdout",
     "output_type": "stream",
     "text": [
      "Sorted order is :  2 3 4 6 7 8 8 "
     ]
    }
   ],
   "source": [
    "# Python program to implement Pigeonhole Sort */\n",
    "\n",
    "# source code : \"https://en.wikibooks.org/wiki/\n",
    "# Algorithm_Implementation/Sorting/Pigeonhole_sort\"\n",
    "def pigeonhole_sort(a):\n",
    "\t# size of range of values in the list\n",
    "\t# (ie, number of pigeonholes we need)\n",
    "\tmy_min = min(a)\n",
    "\tmy_max = max(a)\n",
    "\tsize = my_max - my_min + 1\n",
    "\n",
    "\t# our list of pigeonholes\n",
    "\tholes = [0] * size\n",
    "\n",
    "\t# Populate the pigeonholes.\n",
    "\tfor x in a:\n",
    "\t\tassert type(x) is int, \"integers only please\"\n",
    "\t\tholes[x - my_min] += 1\n",
    "\n",
    "\t# Put the elements back into the array in order.\n",
    "\ti = 0\n",
    "\tfor count in range(size):\n",
    "\t\twhile holes[count] > 0:\n",
    "\t\t\tholes[count] -= 1\n",
    "\t\t\ta[i] = count + my_min\n",
    "\t\t\ti += 1\n",
    "\t\t\t\n",
    "\n",
    "a = [8, 3, 2, 7, 4, 6, 8]\n",
    "print(\"Sorted order is : \", end =\" \")\n",
    "\n",
    "pigeonhole_sort(a)\n",
    "\t\t\n",
    "for i in range(0, len(a)):\n",
    "\tprint(a[i], end =\" \")\n",
    "\t\n"
   ]
  },
  {
   "cell_type": "code",
   "execution_count": null,
   "id": "6fb380e3",
   "metadata": {},
   "outputs": [],
   "source": []
  },
  {
   "cell_type": "code",
   "execution_count": null,
   "id": "7c497a57",
   "metadata": {},
   "outputs": [],
   "source": [
    "7.\tPython Program for Cocktail Sort\n"
   ]
  },
  {
   "cell_type": "code",
   "execution_count": 10,
   "id": "ab373efe",
   "metadata": {},
   "outputs": [
    {
     "name": "stdout",
     "output_type": "stream",
     "text": [
      "Sorted array is:\n",
      "0\n",
      "1\n",
      "2\n",
      "2\n",
      "4\n",
      "5\n",
      "8\n"
     ]
    }
   ],
   "source": [
    "# Python program for implementation of Cocktail Sort\n",
    "\n",
    "def cocktailSort(a):\n",
    "\tn = len(a)\n",
    "\tswapped = True\n",
    "\tstart = 0\n",
    "\tend = n-1\n",
    "\twhile (swapped==True):\n",
    "\n",
    "\t\t# reset the swapped flag on entering the loop,\n",
    "\t\t# because it might be true from a previous\n",
    "\t\t# iteration.\n",
    "\t\tswapped = False\n",
    "\n",
    "\t\t# loop from left to right same as the bubble\n",
    "\t\t# sort\n",
    "\t\tfor i in range (start, end):\n",
    "\t\t\tif (a[i] > a[i+1]) :\n",
    "\t\t\t\ta[i], a[i+1]= a[i+1], a[i]\n",
    "\t\t\t\tswapped=True\n",
    "\n",
    "\t\t# if nothing moved, then array is sorted.\n",
    "\t\tif (swapped==False):\n",
    "\t\t\tbreak\n",
    "\n",
    "\t\t# otherwise, reset the swapped flag so that it\n",
    "\t\t# can be used in the next stage\n",
    "\t\tswapped = False\n",
    "\n",
    "\t\t# move the end point back by one, because\n",
    "\t\t# item at the end is in its rightful spot\n",
    "\t\tend = end-1\n",
    "\n",
    "\t\t# from right to left, doing the same\n",
    "\t\t# comparison as in the previous stage\n",
    "\t\tfor i in range(end-1, start-1,-1):\n",
    "\t\t\tif (a[i] > a[i+1]):\n",
    "\t\t\t\ta[i], a[i+1] = a[i+1], a[i]\n",
    "\t\t\t\tswapped = True\n",
    "\n",
    "\t\t# increase the starting point, because\n",
    "\t\t# the last stage would have moved the next\n",
    "\t\t# smallest number to its rightful spot.\n",
    "\t\tstart = start+1\n",
    "\n",
    "# Driver code to test above\n",
    "a = [5, 1, 4, 2, 8, 0, 2]\n",
    "cocktailSort(a)\n",
    "print(\"Sorted array is:\")\n",
    "for i in range(len(a)):\n",
    "\tprint (\"%d\" %a[i]),\n"
   ]
  },
  {
   "cell_type": "code",
   "execution_count": null,
   "id": "b6979313",
   "metadata": {},
   "outputs": [],
   "source": []
  },
  {
   "cell_type": "code",
   "execution_count": null,
   "id": "e3c32a40",
   "metadata": {},
   "outputs": [],
   "source": [
    "8.\tPython Program for Gnome Sort\n"
   ]
  },
  {
   "cell_type": "code",
   "execution_count": 14,
   "id": "7d6a1145",
   "metadata": {},
   "outputs": [
    {
     "name": "stdout",
     "output_type": "stream",
     "text": [
      "Sorted sequence is:\n",
      "1 2 3 4 5 6 7 8 "
     ]
    }
   ],
   "source": [
    "def gnomeSort( arr, n):\n",
    "   index = 0\n",
    "   while index < n:\n",
    "      if index == 0:\n",
    "         index = index + 1\n",
    "      if arr[index] >= arr[index - 1]:\n",
    "         index = index + 1\n",
    "      else:\n",
    "         arr[index], arr[index-1] = arr[index-1], arr[index]\n",
    "         index = index - 1\n",
    "   return arr\n",
    "# main\n",
    "arr = [1,4,2,3,6,5,8,7]\n",
    "n = len(arr)\n",
    "arr = gnomeSort(arr, n)\n",
    "print (\"Sorted sequence is:\")\n",
    "for i in arr:\n",
    "   print (i,end=\" \")"
   ]
  },
  {
   "cell_type": "code",
   "execution_count": null,
   "id": "514d6f78",
   "metadata": {},
   "outputs": [],
   "source": []
  },
  {
   "cell_type": "code",
   "execution_count": null,
   "id": "860d948c",
   "metadata": {},
   "outputs": [],
   "source": [
    "9.\tPython Program for Odd-Even Sort / Brick Sort\n"
   ]
  },
  {
   "cell_type": "code",
   "execution_count": 15,
   "id": "098c9eab",
   "metadata": {},
   "outputs": [
    {
     "name": "stdout",
     "output_type": "stream",
     "text": [
      "-9 2 10 34 "
     ]
    }
   ],
   "source": [
    "# Python Program to implement\n",
    "# Odd-Even / Brick Sort\n",
    "\n",
    "def oddEvenSort(arr, n):\n",
    "\t# Initially array is unsorted\n",
    "\tisSorted = 0\n",
    "\twhile isSorted == 0:\n",
    "\t\tisSorted = 1\n",
    "\t\ttemp = 0\n",
    "\t\tfor i in range(1, n-1, 2):\n",
    "\t\t\tif arr[i] > arr[i+1]:\n",
    "\t\t\t\tarr[i], arr[i+1] = arr[i+1], arr[i]\n",
    "\t\t\t\tisSorted = 0\n",
    "\t\t\t\t\n",
    "\t\tfor i in range(0, n-1, 2):\n",
    "\t\t\tif arr[i] > arr[i+1]:\n",
    "\t\t\t\tarr[i], arr[i+1] = arr[i+1], arr[i]\n",
    "\t\t\t\tisSorted = 0\n",
    "\t\n",
    "\treturn\n",
    "\n",
    "\n",
    "arr = [34, 2, 10, -9]\n",
    "n = len(arr)\n",
    "\n",
    "oddEvenSort(arr, n);\n",
    "for i in range(0, n):\n",
    "\tprint(arr[i], end =\" \")\n",
    "\t\n",
    "# Code Contribute by Mohit Gupta_OMG <(0_o)>\n"
   ]
  },
  {
   "cell_type": "code",
   "execution_count": null,
   "id": "8132bbac",
   "metadata": {},
   "outputs": [],
   "source": []
  },
  {
   "cell_type": "code",
   "execution_count": null,
   "id": "d3a40f72",
   "metadata": {},
   "outputs": [],
   "source": [
    "10.\tPython Program for BogoSort or Permutation Sort\n"
   ]
  },
  {
   "cell_type": "code",
   "execution_count": 17,
   "id": "7dddeeab",
   "metadata": {},
   "outputs": [
    {
     "name": "stdout",
     "output_type": "stream",
     "text": [
      "Sorted array :\n",
      "0\n",
      "1\n",
      "2\n",
      "3\n",
      "4\n",
      "5\n"
     ]
    }
   ],
   "source": [
    "# Python program for implementation of Bogo Sort\n",
    "import random\n",
    "\n",
    "# Sorts array a[0..n-1] using Bogo sort\n",
    "def bogoSort(a):\n",
    "\tn = len(a)\n",
    "\twhile (is_sorted(a)== False):\n",
    "\t\tshuffle(a)\n",
    "\n",
    "# To check if array is sorted or not\n",
    "def is_sorted(a):\n",
    "\tn = len(a)\n",
    "\tfor i in range(0, n-1):\n",
    "\t\tif (a[i] > a[i+1] ):\n",
    "\t\t\treturn False\n",
    "\treturn True\n",
    "\n",
    "# To generate permutation of the array\n",
    "def shuffle(a):\n",
    "\tn = len(a)\n",
    "\tfor i in range (0,n):\n",
    "\t\tr = random.randint(0,n-1)\n",
    "\t\ta[i], a[r] = a[r], a[i]\n",
    "\n",
    "# Driver code to test above\n",
    "a = [3, 2, 4, 1, 0, 5]\n",
    "bogoSort(a)\n",
    "print(\"Sorted array :\")\n",
    "for i in range(len(a)):\n",
    "\tprint (\"%d\" %a[i]),\n"
   ]
  },
  {
   "cell_type": "code",
   "execution_count": null,
   "id": "7e4ca5be",
   "metadata": {},
   "outputs": [],
   "source": []
  }
 ],
 "metadata": {
  "kernelspec": {
   "display_name": "Python 3",
   "language": "python",
   "name": "python3"
  },
  "language_info": {
   "codemirror_mode": {
    "name": "ipython",
    "version": 3
   },
   "file_extension": ".py",
   "mimetype": "text/x-python",
   "name": "python",
   "nbconvert_exporter": "python",
   "pygments_lexer": "ipython3",
   "version": "3.8.8"
  }
 },
 "nbformat": 4,
 "nbformat_minor": 5
}
