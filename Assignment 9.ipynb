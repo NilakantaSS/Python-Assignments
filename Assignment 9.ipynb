{
 "cells": [
  {
   "cell_type": "code",
   "execution_count": null,
   "id": "d480de7b",
   "metadata": {},
   "outputs": [],
   "source": [
    "1.\tPython – Replace multiple words with K\n"
   ]
  },
  {
   "cell_type": "code",
   "execution_count": 1,
   "id": "1a522b22",
   "metadata": {},
   "outputs": [
    {
     "name": "stdout",
     "output_type": "stream",
     "text": [
      "The original string is : ineuron lets build together\n",
      "String after multiple replace : ineuron lets build together\n"
     ]
    }
   ],
   "source": [
    "# Python3 code to demonstrate working of\n",
    "# Replace multiple words with K\n",
    "# Using join() + split() + list comprehension\n",
    "\n",
    "# initializing string\n",
    "test_str = 'ineuron lets build together'\n",
    "\n",
    "# printing original string\n",
    "print(\"The original string is : \" + str(test_str))\n",
    "\n",
    "# initializing word list\n",
    "word_list = [\"best\", 'CS', 'for']\n",
    "\n",
    "# initializing replace word\n",
    "repl_wrd = 'gfg'\n",
    "\n",
    "# Replace multiple words with K\n",
    "# Using join() + split() + list comprehension\n",
    "res = ' '.join([repl_wrd if idx in word_list else idx for idx in test_str.split()])\n",
    "\n",
    "# printing result\n",
    "print(\"String after multiple replace : \" + str(res))\n"
   ]
  },
  {
   "cell_type": "code",
   "execution_count": null,
   "id": "d82864b7",
   "metadata": {},
   "outputs": [],
   "source": []
  },
  {
   "cell_type": "code",
   "execution_count": null,
   "id": "8afd2c8a",
   "metadata": {},
   "outputs": [],
   "source": [
    "2.\tPython | Permutation of a given string using inbuilt function\n"
   ]
  },
  {
   "cell_type": "code",
   "execution_count": 2,
   "id": "72c86fb0",
   "metadata": {},
   "outputs": [
    {
     "name": "stdout",
     "output_type": "stream",
     "text": [
      "ABC\n",
      "ACB\n",
      "BAC\n",
      "BCA\n",
      "CAB\n",
      "CBA\n"
     ]
    }
   ],
   "source": [
    "# Function to find permutations of a given string\n",
    "from itertools import permutations\n",
    "\n",
    "def allPermutations(str):\n",
    "\t\n",
    "\t# Get all permutations of string 'ABC'\n",
    "\tpermList = permutations(str)\n",
    "\n",
    "\t# print all permutations\n",
    "\tfor perm in list(permList):\n",
    "\t\tprint (''.join(perm))\n",
    "\t\t\n",
    "# Driver program\n",
    "if __name__ == \"__main__\":\n",
    "\tstr = 'ABC'\n",
    "\tallPermutations(str)\n"
   ]
  },
  {
   "cell_type": "code",
   "execution_count": null,
   "id": "1dbf3d61",
   "metadata": {},
   "outputs": [],
   "source": []
  },
  {
   "cell_type": "code",
   "execution_count": null,
   "id": "406ca164",
   "metadata": {},
   "outputs": [],
   "source": [
    "3.\tPython | Check for URL in a String\n"
   ]
  },
  {
   "cell_type": "code",
   "execution_count": 3,
   "id": "2970937f",
   "metadata": {},
   "outputs": [
    {
     "name": "stdout",
     "output_type": "stream",
     "text": [
      "Urls:  ['https://auth.geeksforgeeks.org/user/Chinmoy%20Lenka/articles', 'https://www.geeksforgeeks.org/']\n"
     ]
    }
   ],
   "source": [
    "# Python code to find the URL from an input string\n",
    "# Using the regular expression\n",
    "import re\n",
    "\n",
    "def Find(string):\n",
    "\n",
    "\t# findall() has been used\n",
    "\t# with valid conditions for urls in string\n",
    "\tregex = r\"(?i)\\b((?:https?://|www\\d{0,3}[.]|[a-z0-9.\\-]+[.][a-z]{2,4}/)(?:[^\\s()<>]+|\\(([^\\s()<>]+|(\\([^\\s()<>]+\\)))*\\))+(?:\\(([^\\s()<>]+|(\\([^\\s()<>]+\\)))*\\)|[^\\s`!()\\[\\]{};:'\\\".,<>?«»“”‘’]))\"\n",
    "\turl = re.findall(regex,string)\t\n",
    "\treturn [x[0] for x in url]\n",
    "\t\n",
    "# Driver Code\n",
    "string = 'My Profile: https://auth.geeksforgeeks.org/user/Chinmoy%20Lenka/articles in the portal of https://www.geeksforgeeks.org/'\n",
    "print(\"Urls: \", Find(string))\n"
   ]
  },
  {
   "cell_type": "code",
   "execution_count": null,
   "id": "b66bc657",
   "metadata": {},
   "outputs": [],
   "source": []
  },
  {
   "cell_type": "code",
   "execution_count": null,
   "id": "66055c64",
   "metadata": {},
   "outputs": [],
   "source": [
    "4.\tExecute a String of Code in Python\n"
   ]
  },
  {
   "cell_type": "code",
   "execution_count": 4,
   "id": "22ca27c1",
   "metadata": {},
   "outputs": [
    {
     "name": "stdout",
     "output_type": "stream",
     "text": [
      "120\n"
     ]
    }
   ],
   "source": [
    "# Python program to illustrate use of exec to\n",
    "# execute a given code as string.\n",
    "\n",
    "# function illustrating how exec() functions.\n",
    "def exec_code():\n",
    "\tLOC = \"\"\"\n",
    "def factorial(num):\n",
    "\tfact=1\n",
    "\tfor i in range(1,num+1):\n",
    "\t\tfact = fact*i\n",
    "\treturn fact\n",
    "print(factorial(5))\n",
    "\"\"\"\n",
    "\texec(LOC)\n",
    "\t\n",
    "# Driver Code\n",
    "exec_code()\n"
   ]
  },
  {
   "cell_type": "code",
   "execution_count": null,
   "id": "356f88d1",
   "metadata": {},
   "outputs": [],
   "source": []
  },
  {
   "cell_type": "code",
   "execution_count": null,
   "id": "04d3485c",
   "metadata": {},
   "outputs": [],
   "source": [
    "5.\tString slicing in Python to rotate a string\n"
   ]
  },
  {
   "cell_type": "code",
   "execution_count": 6,
   "id": "07ac8a32",
   "metadata": {},
   "outputs": [
    {
     "name": "stdout",
     "output_type": "stream",
     "text": [
      "Left Rotation :  euronletsbuildtogetherin\n",
      "Right Rotation :  erineuronletsbuildtogeth\n"
     ]
    }
   ],
   "source": [
    "# Function to rotate string left and right by d length\n",
    "\n",
    "def rotate(input,d):\n",
    "\n",
    "\t# slice string in two parts for left and right\n",
    "\tLfirst = input[0 : d]\n",
    "\tLsecond = input[d :]\n",
    "\tRfirst = input[0 : len(input)-d]\n",
    "\tRsecond = input[len(input)-d : ]\n",
    "\n",
    "\t# now concatenate two parts together\n",
    "\tprint (\"Left Rotation : \", (Lsecond + Lfirst) )\n",
    "\tprint (\"Right Rotation : \", (Rsecond + Rfirst))\n",
    "\n",
    "# Driver program\n",
    "if __name__ == \"__main__\":\n",
    "\tinput = 'ineuronletsbuildtogether'\n",
    "\td=2\n",
    "\trotate(input,d)\n"
   ]
  },
  {
   "cell_type": "code",
   "execution_count": null,
   "id": "9bede5ca",
   "metadata": {},
   "outputs": [],
   "source": []
  },
  {
   "cell_type": "code",
   "execution_count": null,
   "id": "cbbde3f0",
   "metadata": {},
   "outputs": [],
   "source": [
    "6.\tString slicing in Python to check if a string can become empty by recursive deletion\n"
   ]
  },
  {
   "cell_type": "code",
   "execution_count": 16,
   "id": "e981c6da",
   "metadata": {},
   "outputs": [],
   "source": [
    "def recursive_deletion(string: str, sub_str: str):\n",
    "    if len(string) == 0:\n",
    "        return 'Yes'\n",
    "\n",
    "    idx = string.find(sub_str)\n",
    "    if idx != -1:\n",
    "        return recursive_deletion(string[:idx] + string[idx+len(sub_str):], sub_str)\n",
    "    else:\n",
    "        return 'No'\n",
    "\n",
    "\n",
    "assert recursive_deletion(\"GEEGEEKSKS\", \"GEEKS\") == \"Yes\"\n",
    "assert recursive_deletion(\"GEEGEEKSSGEK\", \"GEEKS\") == \"No\""
   ]
  },
  {
   "cell_type": "code",
   "execution_count": null,
   "id": "79903538",
   "metadata": {},
   "outputs": [],
   "source": []
  },
  {
   "cell_type": "code",
   "execution_count": null,
   "id": "e7262054",
   "metadata": {},
   "outputs": [],
   "source": [
    "7.\tPython Counter| Find all duplicate characters in string\n"
   ]
  },
  {
   "cell_type": "code",
   "execution_count": 21,
   "id": "0d4600b7",
   "metadata": {},
   "outputs": [
    {
     "name": "stdout",
     "output_type": "stream",
     "text": [
      "t o i\n"
     ]
    }
   ],
   "source": [
    "## initializing string\n",
    "string = \"tutorialspoint\"\n",
    "## initializing a list to append all the duplicate characters\n",
    "duplicates = []\n",
    "for char in string:\n",
    "   ## checking whether the character have a duplicate or not\n",
    "   ## str.count(char) returns the frequency of a char in the str\n",
    "   if string.count(char) > 1:\n",
    "    if char not in duplicates:\n",
    "        duplicates.append(char)\n",
    "print(*duplicates)"
   ]
  },
  {
   "cell_type": "code",
   "execution_count": null,
   "id": "27a9da55",
   "metadata": {},
   "outputs": [],
   "source": []
  },
  {
   "cell_type": "code",
   "execution_count": null,
   "id": "d8f602da",
   "metadata": {},
   "outputs": [],
   "source": [
    "8.\tPython – Replace all occurrences of a substring in a string\n"
   ]
  },
  {
   "cell_type": "code",
   "execution_count": 23,
   "id": "c6a02d64",
   "metadata": {},
   "outputs": [
    {
     "name": "stdout",
     "output_type": "stream",
     "text": [
      "ineuron lets build together\n",
      "ineuron lets build together lets build together\n"
     ]
    }
   ],
   "source": [
    "# Python3 program to demonstrate the\n",
    "# use of replace() method\n",
    "\n",
    "string = \"ineuron lets build together\"\n",
    "\n",
    "# Prints the string by replacing all\n",
    "# geeks by Geeks\n",
    "print(string.replace(\"ineuron\", \"ineuron\"))\n",
    "\n",
    "# Prints the string by replacing only\n",
    "# 3 occurrence of Geeks\n",
    "print(string.replace(\"ineuron\", \"ineuron lets build together\", 3))\n"
   ]
  },
  {
   "cell_type": "code",
   "execution_count": null,
   "id": "59f6c84e",
   "metadata": {},
   "outputs": [],
   "source": []
  },
  {
   "cell_type": "code",
   "execution_count": null,
   "id": "e449c7d9",
   "metadata": {},
   "outputs": [],
   "source": [
    "9.\tPython – Extract Unique values dictionary values\n"
   ]
  },
  {
   "cell_type": "code",
   "execution_count": 26,
   "id": "db517606",
   "metadata": {},
   "outputs": [
    {
     "name": "stdout",
     "output_type": "stream",
     "text": [
      "The dictionary is : \n",
      "{'hi': [5, 3, 8, 0], 'there': [22, 51, 63, 77], 'how': [7, 0, 22], 'are': [12, 11, 45], 'you': [56, 31, 89, 90]}\n",
      "The unique values are : \n",
      "[0, 3, 5, 7, 8, 11, 12, 22, 31, 45, 51, 56, 63, 77, 89, 90]\n"
     ]
    }
   ],
   "source": [
    "my_dict = {'hi': [5,3,8,0],\n",
    "          'there': [22,51,63,77],\n",
    "          'how':[7,0,22],\n",
    "          'are': [12,11,45],\n",
    "          'you' : [56,31,89,90]}\n",
    "print(\"The dictionary is : \")\n",
    "print(my_dict)\n",
    "\n",
    "my_result = list(sorted({elem for val in my_dict.values() for elem in val}))\n",
    "\n",
    "print(\"The unique values are : \")\n",
    "print(my_result)"
   ]
  },
  {
   "cell_type": "code",
   "execution_count": null,
   "id": "0739774a",
   "metadata": {},
   "outputs": [],
   "source": []
  },
  {
   "cell_type": "code",
   "execution_count": null,
   "id": "c9d72fa9",
   "metadata": {},
   "outputs": [],
   "source": [
    "10.\tPython program to find the sum of all items in a dictionary\n"
   ]
  },
  {
   "cell_type": "code",
   "execution_count": 27,
   "id": "6ab1a7bd",
   "metadata": {},
   "outputs": [
    {
     "name": "stdout",
     "output_type": "stream",
     "text": [
      "Sum : 600\n"
     ]
    }
   ],
   "source": [
    "# Python3 Program to find sum of\n",
    "# all items in a Dictionary\n",
    "\n",
    "# Function to print sum\n",
    "\n",
    "\n",
    "def returnSum(myDict):\n",
    "\n",
    "\tlist = []\n",
    "\tfor i in myDict:\n",
    "\t\tlist.append(myDict[i])\n",
    "\tfinal = sum(list)\n",
    "\n",
    "\treturn final\n",
    "\n",
    "\n",
    "# Driver Function\n",
    "dict = {'a': 100, 'b': 200, 'c': 300}\n",
    "print(\"Sum :\", returnSum(dict))\n"
   ]
  },
  {
   "cell_type": "code",
   "execution_count": null,
   "id": "4f4c8f07",
   "metadata": {},
   "outputs": [],
   "source": []
  }
 ],
 "metadata": {
  "kernelspec": {
   "display_name": "Python 3",
   "language": "python",
   "name": "python3"
  },
  "language_info": {
   "codemirror_mode": {
    "name": "ipython",
    "version": 3
   },
   "file_extension": ".py",
   "mimetype": "text/x-python",
   "name": "python",
   "nbconvert_exporter": "python",
   "pygments_lexer": "ipython3",
   "version": "3.8.8"
  }
 },
 "nbformat": 4,
 "nbformat_minor": 5
}
