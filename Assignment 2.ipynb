{
 "cells": [
  {
   "cell_type": "markdown",
   "id": "e26af8f6",
   "metadata": {},
   "source": [
    "1.\tPython Program for n-th Fibonacci number"
   ]
  },
  {
   "cell_type": "code",
   "execution_count": 4,
   "id": "e691545d",
   "metadata": {},
   "outputs": [
    {
     "name": "stdout",
     "output_type": "stream",
     "text": [
      "34\n"
     ]
    }
   ],
   "source": [
    "def Fibonacci(n):\n",
    "    if n<=0:\n",
    "        print(\"Incorrect input\")\n",
    "        \n",
    "    elif n == 1:\n",
    "        return 0\n",
    "    elif n == 2:\n",
    "        return 1 \n",
    "    else:\n",
    "        return Fibonacci(n-1)+Fibonacci(n-2)\n",
    "    \n",
    "print(Fibonacci(10))\n",
    "        "
   ]
  },
  {
   "cell_type": "code",
   "execution_count": null,
   "id": "b0c2deb0",
   "metadata": {},
   "outputs": [],
   "source": []
  },
  {
   "cell_type": "markdown",
   "id": "14da6b25",
   "metadata": {},
   "source": [
    "2.\tPython Program for How to check if a given number is Fibonacci number?"
   ]
  },
  {
   "cell_type": "code",
   "execution_count": 7,
   "id": "3f670e8c",
   "metadata": {},
   "outputs": [
    {
     "name": "stdout",
     "output_type": "stream",
     "text": [
      "1 is a Fibonacci Number\n",
      "2 is a Fibonacci Number\n",
      "3 is a Fibonacci Number\n",
      "4 is a not Fibonacci nNumber\n",
      "5 is a Fibonacci Number\n",
      "6 is a not Fibonacci nNumber\n",
      "7 is a not Fibonacci nNumber\n",
      "8 is a Fibonacci Number\n",
      "9 is a not Fibonacci nNumber\n",
      "10 is a not Fibonacci nNumber\n"
     ]
    }
   ],
   "source": [
    "import math \n",
    "\n",
    "def isPerfectSquare(x):\n",
    "    s = int(math.sqrt(x))\n",
    "    return s*s == x\n",
    "\n",
    "def isFiboacci(n):\n",
    "    return isPerfectSquare(5*n*n + 4 ) or isPerfectSquare(5*n*n - 4)\n",
    "\n",
    "for i in range(1, 11):\n",
    "    if (isFiboacci(i) == True):\n",
    "        print(i, \"is a Fibonacci Number\")\n",
    "    else:\n",
    "        print(i, \"is a not Fibonacci nNumber\")"
   ]
  },
  {
   "cell_type": "code",
   "execution_count": null,
   "id": "f1cfd031",
   "metadata": {},
   "outputs": [],
   "source": []
  },
  {
   "cell_type": "markdown",
   "id": "cd18ce64",
   "metadata": {},
   "source": [
    "3.\tPython Program for n\\’th multiple of a number in Fibonacci Series"
   ]
  },
  {
   "cell_type": "code",
   "execution_count": 11,
   "id": "df5eab7c",
   "metadata": {},
   "outputs": [
    {
     "name": "stdout",
     "output_type": "stream",
     "text": [
      "Position of n'th multiple of k inFibonacci Series is 30\n"
     ]
    }
   ],
   "source": [
    "def findPosition(k, n):\n",
    "    f1 = 0\n",
    "    f2 = 1\n",
    "    i =2;\n",
    "    while i!=0:\n",
    "        f3 = f1 + f2;\n",
    "        f1 = f2;\n",
    "        f2 = f3;\n",
    " \n",
    "        if f2%k == 0:\n",
    "            return n*i\n",
    " \n",
    "        i+=1\n",
    "         \n",
    "    return\n",
    "n = 5;\n",
    "k = 4;\n",
    " \n",
    "print(\"Position of n\\'th multiple of k in\"\n",
    "                \"Fibonacci Series is\", findPosition(k,n));\n",
    " "
   ]
  },
  {
   "cell_type": "code",
   "execution_count": null,
   "id": "0ea188a7",
   "metadata": {},
   "outputs": [],
   "source": []
  },
  {
   "cell_type": "markdown",
   "id": "62ff7395",
   "metadata": {},
   "source": [
    "4.\tProgram to print ASCII Value of a character"
   ]
  },
  {
   "cell_type": "code",
   "execution_count": 13,
   "id": "5de48daa",
   "metadata": {},
   "outputs": [
    {
     "name": "stdout",
     "output_type": "stream",
     "text": [
      "The ASCII value of 'g' is 103\n"
     ]
    }
   ],
   "source": [
    "c = 'g'\n",
    "# print the ASCII value of assigned character in c\n",
    "print(\"The ASCII value of '\" + c + \"' is\", ord(c))\n"
   ]
  },
  {
   "cell_type": "code",
   "execution_count": null,
   "id": "e46b9ff7",
   "metadata": {},
   "outputs": [],
   "source": []
  },
  {
   "cell_type": "markdown",
   "id": "9faf9216",
   "metadata": {},
   "source": [
    "5.\tPython Program for Sum of squares of first n natural numbers"
   ]
  },
  {
   "cell_type": "code",
   "execution_count": 14,
   "id": "c00c9c71",
   "metadata": {},
   "outputs": [
    {
     "name": "stdout",
     "output_type": "stream",
     "text": [
      "30\n"
     ]
    }
   ],
   "source": [
    "def squaresum(n):\n",
    "    \n",
    "    sm = 0\n",
    "    for i in range(1, n+1):\n",
    "        sm = sm + (i * i)\n",
    "        \n",
    "    return sm\n",
    "\n",
    "n = 4\n",
    "print(squaresum(n))"
   ]
  },
  {
   "cell_type": "code",
   "execution_count": null,
   "id": "724849f5",
   "metadata": {},
   "outputs": [],
   "source": []
  },
  {
   "cell_type": "markdown",
   "id": "f2426c5e",
   "metadata": {},
   "source": [
    "6.\tPython Program for cube sum of first n natural numbers"
   ]
  },
  {
   "cell_type": "code",
   "execution_count": 16,
   "id": "aca7adaf",
   "metadata": {},
   "outputs": [
    {
     "name": "stdout",
     "output_type": "stream",
     "text": [
      "225\n"
     ]
    }
   ],
   "source": [
    "def sumofseriies(n):\n",
    "    sum = 0\n",
    "    for i in range(1, n+1):\n",
    "        sum +=i*i*i\n",
    "        \n",
    "    return sum\n",
    "\n",
    "n = 5\n",
    "print(sumofseriies(n))"
   ]
  },
  {
   "cell_type": "code",
   "execution_count": null,
   "id": "5b87e457",
   "metadata": {},
   "outputs": [],
   "source": []
  },
  {
   "cell_type": "markdown",
   "id": "844d9000",
   "metadata": {},
   "source": [
    "7.\tPython Program to find sum of array"
   ]
  },
  {
   "cell_type": "code",
   "execution_count": 17,
   "id": "c6ec81bd",
   "metadata": {},
   "outputs": [
    {
     "name": "stdout",
     "output_type": "stream",
     "text": [
      "Sum of all the elements of an array:15\n"
     ]
    }
   ],
   "source": [
    "arr = [1,2,3,4,5] \n",
    "sum = 0\n",
    "\n",
    "for i in range(0, len(arr)):\n",
    "    sum = sum + arr[i]\n",
    "    \n",
    "print(\"Sum of all the elements of an array:\" + str(sum))"
   ]
  },
  {
   "cell_type": "code",
   "execution_count": null,
   "id": "a01204a1",
   "metadata": {},
   "outputs": [],
   "source": []
  },
  {
   "cell_type": "code",
   "execution_count": null,
   "id": "3cccf9be",
   "metadata": {},
   "outputs": [],
   "source": [
    "8.\tPython Program to find largest element in an array"
   ]
  },
  {
   "cell_type": "code",
   "execution_count": 22,
   "id": "362c8097",
   "metadata": {},
   "outputs": [
    {
     "name": "stdout",
     "output_type": "stream",
     "text": [
      "Largest in given array is 9808\n"
     ]
    }
   ],
   "source": [
    "def largest(arr,n):\n",
    "  \n",
    "    max = arr[0]\n",
    "\n",
    "    for i in range(1, n):\n",
    "        if arr[i] > max:\n",
    "            max = arr[i]\n",
    "    return max\n",
    "  \n",
    "# Driver Code\n",
    "arr = [10, 324, 45, 90, 9808]\n",
    "n = len(arr)\n",
    "Ans = largest(arr,n)\n",
    "print (\"Largest in given array is\",Ans)"
   ]
  },
  {
   "cell_type": "code",
   "execution_count": null,
   "id": "1ce458f9",
   "metadata": {},
   "outputs": [],
   "source": []
  },
  {
   "cell_type": "code",
   "execution_count": null,
   "id": "5a3f3769",
   "metadata": {},
   "outputs": [],
   "source": [
    "9.\tPython Program for array rotation"
   ]
  },
  {
   "cell_type": "code",
   "execution_count": 23,
   "id": "ca18c6e3",
   "metadata": {},
   "outputs": [
    {
     "name": "stdout",
     "output_type": "stream",
     "text": [
      "[1, 2, 3, 4, 5, 6]\n",
      "Rotated list is\n",
      "[3, 4, 5, 6, 1, 2]\n"
     ]
    }
   ],
   "source": [
    "def rotateList(arr,d,n):\n",
    "    arr[:] = arr[d:n]+arr[0:d]\n",
    "    return arr\n",
    "\n",
    "arr = [1,2,3,4,5,6]\n",
    "print(arr)\n",
    "print(\"Rotated list is\")\n",
    "print(rotateList(arr,2,len(arr)))"
   ]
  },
  {
   "cell_type": "code",
   "execution_count": null,
   "id": "38b6e245",
   "metadata": {},
   "outputs": [],
   "source": []
  },
  {
   "cell_type": "markdown",
   "id": "755260bf",
   "metadata": {},
   "source": [
    "10.\tPython Program for Reversal algorithm for array rotation"
   ]
  },
  {
   "cell_type": "code",
   "execution_count": 25,
   "id": "2d61f592",
   "metadata": {},
   "outputs": [
    {
     "name": "stdout",
     "output_type": "stream",
     "text": [
      "3\n",
      "4\n",
      "5\n",
      "6\n",
      "7\n",
      "1\n",
      "2\n"
     ]
    }
   ],
   "source": [
    "def rverseArray(arr, start, end):\n",
    "    while (start < end):\n",
    "        temp = arr[start]\n",
    "        arr[start] = arr[end]\n",
    "        arr[end] = temp\n",
    "        start += 1\n",
    "        end = end-1\n",
    "  \n",
    "# Function to left rotate arr[] of size n by d\n",
    "def leftRotate(arr, d):\n",
    "    n = len(arr)\n",
    "    rverseArray(arr, 0, d-1)\n",
    "    rverseArray(arr, d, n-1)\n",
    "    rverseArray(arr, 0, n-1)\n",
    "  \n",
    "# Function to print an array\n",
    "def printArray(arr):\n",
    "    for i in range(0, len(arr)):\n",
    "        print (arr[i])\n",
    "  \n",
    "# Driver function to test above functions\n",
    "arr = [1, 2, 3, 4, 5, 6, 7]\n",
    "leftRotate(arr, 2) # Rotate array by 2\n",
    "printArray(arr)"
   ]
  },
  {
   "cell_type": "code",
   "execution_count": 26,
   "id": "ad77b281",
   "metadata": {},
   "outputs": [
    {
     "name": "stdout",
     "output_type": "stream",
     "text": [
      "5 6 52 36 12 10 \n"
     ]
    }
   ],
   "source": [
    "def SplitAndAdd(A, length, rotation):\n",
    " \n",
    "    # make a temporary array with double\n",
    "    # the size and each index is initialized to 0\n",
    "    tmp = [ 0 for i in range(length * 2)]\n",
    " \n",
    "    # copy array element in to new array twice\n",
    "    for i in range(length):\n",
    "        tmp[i] = A[i]\n",
    "        tmp[i + length] = A[i]\n",
    " \n",
    "    for i in range(rotation,\n",
    "                   rotation + length, 1):\n",
    "        A[i - rotation] = tmp[i];\n",
    "      \n",
    "# Driver code\n",
    "arr = [12, 10, 5, 6, 52, 36]\n",
    "n = len(arr)\n",
    "position = 2\n",
    "SplitAndAdd(arr, n, position);\n",
    "for i in range(n):\n",
    "    print(arr[i], end = \" \")\n",
    "print()\n",
    " "
   ]
  },
  {
   "cell_type": "code",
   "execution_count": null,
   "id": "dee55376",
   "metadata": {},
   "outputs": [],
   "source": []
  }
 ],
 "metadata": {
  "kernelspec": {
   "display_name": "Python 3",
   "language": "python",
   "name": "python3"
  },
  "language_info": {
   "codemirror_mode": {
    "name": "ipython",
    "version": 3
   },
   "file_extension": ".py",
   "mimetype": "text/x-python",
   "name": "python",
   "nbconvert_exporter": "python",
   "pygments_lexer": "ipython3",
   "version": "3.8.8"
  }
 },
 "nbformat": 4,
 "nbformat_minor": 5
}
